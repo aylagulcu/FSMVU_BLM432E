{
 "cells": [
  {
   "cell_type": "code",
   "execution_count": null,
   "metadata": {
    "collapsed": true
   },
   "outputs": [],
   "source": [
    "# --- Process Data ---\n",
    "data_file = open('database.csv')\n",
    " \n",
    "lats, lons = [], []\n",
    "for index, line in enumerate(data_file.readlines()):\n",
    "    if index > 1:\n",
    "        lats.append(float(line.split(',')[2]))\n",
    "        lons.append(float(line.split(',')[3]))\n",
    " \n",
    "# --- Build Map ---\n",
    "from mpl_toolkits.basemap import Basemap\n",
    "import matplotlib.pyplot as plt\n",
    "import numpy as np\n",
    "plt.figure(figsize=(20,15)) \n",
    "map = Basemap(width=12000000,height=9000000,projection='lcc',\n",
    "            #resolution='l',area_thresh=1000.,lat_1=35.9025,lat_2=42.02683,lat_0=25.90902,lon_0=44.5742,\n",
    "            resolution='l',area_thresh=1000.,lat_1=35.9025,lat_2=42.02683,lat_0=25.90902,lon_0=44.5742,\n",
    "            rsphere=(6378137.00,6356752.3142))\n",
    "map.bluemarble()\n",
    " \n",
    "#plt.figure(figsize=(12,6))\n",
    "\n",
    "x,y = map(lons, lats)\n",
    "map.plot(x, y, 'ro', markersize=2)\n",
    "plt.title(\"Significant Earthquakes, 1965-2016-(World)\") \n",
    "\n",
    "\n",
    "\n",
    "plt.show()\n",
    "#plt.draw()\n",
    "#plt.savefig('tessstttyyy.png', dpi=100)"
   ]
  }
 ],
 "metadata": {
  "kernelspec": {
   "display_name": "Python 3",
   "language": "python",
   "name": "python3"
  },
  "language_info": {
   "codemirror_mode": {
    "name": "ipython",
    "version": 3
   },
   "file_extension": ".py",
   "mimetype": "text/x-python",
   "name": "python",
   "nbconvert_exporter": "python",
   "pygments_lexer": "ipython3",
   "version": "3.6.0"
  }
 },
 "nbformat": 4,
 "nbformat_minor": 2
}
