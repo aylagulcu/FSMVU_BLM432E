{
 "cells": [
  {
   "cell_type": "code",
   "execution_count": 1,
   "metadata": {
    "collapsed": true
   },
   "outputs": [],
   "source": [
    "import numpy as np\n",
    "import pandas as pd"
   ]
  },
  {
   "cell_type": "code",
   "execution_count": 2,
   "metadata": {
    "collapsed": false
   },
   "outputs": [
    {
     "data": {
      "text/html": [
       "<div>\n",
       "<table border=\"1\" class=\"dataframe\">\n",
       "  <thead>\n",
       "    <tr style=\"text-align: right;\">\n",
       "      <th></th>\n",
       "      <th>preg</th>\n",
       "      <th>plas</th>\n",
       "      <th>pres</th>\n",
       "      <th>skin</th>\n",
       "      <th>test</th>\n",
       "      <th>mass</th>\n",
       "      <th>pedi</th>\n",
       "      <th>age</th>\n",
       "      <th>class</th>\n",
       "    </tr>\n",
       "  </thead>\n",
       "  <tbody>\n",
       "    <tr>\n",
       "      <th>0</th>\n",
       "      <td>6</td>\n",
       "      <td>148</td>\n",
       "      <td>72</td>\n",
       "      <td>35</td>\n",
       "      <td>0</td>\n",
       "      <td>33.6</td>\n",
       "      <td>0.627</td>\n",
       "      <td>50</td>\n",
       "      <td>1</td>\n",
       "    </tr>\n",
       "    <tr>\n",
       "      <th>1</th>\n",
       "      <td>1</td>\n",
       "      <td>85</td>\n",
       "      <td>66</td>\n",
       "      <td>29</td>\n",
       "      <td>0</td>\n",
       "      <td>26.6</td>\n",
       "      <td>0.351</td>\n",
       "      <td>31</td>\n",
       "      <td>0</td>\n",
       "    </tr>\n",
       "    <tr>\n",
       "      <th>2</th>\n",
       "      <td>8</td>\n",
       "      <td>183</td>\n",
       "      <td>64</td>\n",
       "      <td>0</td>\n",
       "      <td>0</td>\n",
       "      <td>23.3</td>\n",
       "      <td>0.672</td>\n",
       "      <td>32</td>\n",
       "      <td>1</td>\n",
       "    </tr>\n",
       "    <tr>\n",
       "      <th>3</th>\n",
       "      <td>1</td>\n",
       "      <td>89</td>\n",
       "      <td>66</td>\n",
       "      <td>23</td>\n",
       "      <td>94</td>\n",
       "      <td>28.1</td>\n",
       "      <td>0.167</td>\n",
       "      <td>21</td>\n",
       "      <td>0</td>\n",
       "    </tr>\n",
       "    <tr>\n",
       "      <th>4</th>\n",
       "      <td>0</td>\n",
       "      <td>137</td>\n",
       "      <td>40</td>\n",
       "      <td>35</td>\n",
       "      <td>168</td>\n",
       "      <td>43.1</td>\n",
       "      <td>2.288</td>\n",
       "      <td>33</td>\n",
       "      <td>1</td>\n",
       "    </tr>\n",
       "    <tr>\n",
       "      <th>5</th>\n",
       "      <td>5</td>\n",
       "      <td>116</td>\n",
       "      <td>74</td>\n",
       "      <td>0</td>\n",
       "      <td>0</td>\n",
       "      <td>25.6</td>\n",
       "      <td>0.201</td>\n",
       "      <td>30</td>\n",
       "      <td>0</td>\n",
       "    </tr>\n",
       "    <tr>\n",
       "      <th>6</th>\n",
       "      <td>3</td>\n",
       "      <td>78</td>\n",
       "      <td>50</td>\n",
       "      <td>32</td>\n",
       "      <td>88</td>\n",
       "      <td>31.0</td>\n",
       "      <td>0.248</td>\n",
       "      <td>26</td>\n",
       "      <td>1</td>\n",
       "    </tr>\n",
       "    <tr>\n",
       "      <th>7</th>\n",
       "      <td>10</td>\n",
       "      <td>115</td>\n",
       "      <td>0</td>\n",
       "      <td>0</td>\n",
       "      <td>0</td>\n",
       "      <td>35.3</td>\n",
       "      <td>0.134</td>\n",
       "      <td>29</td>\n",
       "      <td>0</td>\n",
       "    </tr>\n",
       "    <tr>\n",
       "      <th>8</th>\n",
       "      <td>2</td>\n",
       "      <td>197</td>\n",
       "      <td>70</td>\n",
       "      <td>45</td>\n",
       "      <td>543</td>\n",
       "      <td>30.5</td>\n",
       "      <td>0.158</td>\n",
       "      <td>53</td>\n",
       "      <td>1</td>\n",
       "    </tr>\n",
       "    <tr>\n",
       "      <th>9</th>\n",
       "      <td>8</td>\n",
       "      <td>125</td>\n",
       "      <td>96</td>\n",
       "      <td>0</td>\n",
       "      <td>0</td>\n",
       "      <td>0.0</td>\n",
       "      <td>0.232</td>\n",
       "      <td>54</td>\n",
       "      <td>1</td>\n",
       "    </tr>\n",
       "  </tbody>\n",
       "</table>\n",
       "</div>"
      ],
      "text/plain": [
       "   preg  plas  pres  skin  test  mass   pedi  age  class\n",
       "0     6   148    72    35     0  33.6  0.627   50      1\n",
       "1     1    85    66    29     0  26.6  0.351   31      0\n",
       "2     8   183    64     0     0  23.3  0.672   32      1\n",
       "3     1    89    66    23    94  28.1  0.167   21      0\n",
       "4     0   137    40    35   168  43.1  2.288   33      1\n",
       "5     5   116    74     0     0  25.6  0.201   30      0\n",
       "6     3    78    50    32    88  31.0  0.248   26      1\n",
       "7    10   115     0     0     0  35.3  0.134   29      0\n",
       "8     2   197    70    45   543  30.5  0.158   53      1\n",
       "9     8   125    96     0     0   0.0  0.232   54      1"
      ]
     },
     "execution_count": 2,
     "metadata": {},
     "output_type": "execute_result"
    }
   ],
   "source": [
    "# Dataset: -- A classification problem\n",
    "#url = \"https://archive.ics.uci.edu/ml/machine-learning-databases/pima-indians-diabetes/pima-indians-diabetes.data\"\n",
    "names = ['preg', 'plas', 'pres', 'skin', 'test', 'mass', 'pedi', 'age', 'class']\n",
    "dataframe = pd.read_csv(\"pima-indians-diabetes.data\", names=names)\n",
    "dataframe.head(10)"
   ]
  },
  {
   "cell_type": "code",
   "execution_count": 3,
   "metadata": {
    "collapsed": true
   },
   "outputs": [],
   "source": [
    "X= dataframe[['preg', 'plas', 'pres', 'skin', 'test', 'mass', 'pedi', 'age']]\n",
    "y= dataframe['class']"
   ]
  },
  {
   "cell_type": "code",
   "execution_count": 4,
   "metadata": {
    "collapsed": true
   },
   "outputs": [],
   "source": [
    "# Missing values: \n",
    "# there are zeros in places where they are biologically impossible, such as the blood pressure attribute.\n",
    "# It seems very likely that zero values encode missing data. \n",
    "# However, since the dataset donors made no such statement we encourage you to use your best judgement \n",
    "# and state your assumptions."
   ]
  },
  {
   "cell_type": "code",
   "execution_count": 5,
   "metadata": {
    "collapsed": false
   },
   "outputs": [
    {
     "name": "stdout",
     "output_type": "stream",
     "text": [
      "Accuracy values: [0.75324675324675328, 0.72727272727272729, 0.74675324675324672, 0.78431372549019607, 0.74509803921568629]\n",
      "Mean:0.75\n"
     ]
    }
   ],
   "source": [
    "# Apply NB classifier, and evaluate the model using Cross Validation\n",
    "from sklearn.naive_bayes import GaussianNB\n",
    "from sklearn.model_selection import cross_val_score\n",
    "\n",
    "clf = GaussianNB()\n",
    "\n",
    "# fit the classifier on the training features and labels\n",
    "#clf.fit(X, y) \n",
    "\n",
    "scoresAcc= cross_val_score(clf, X, y, cv=5, scoring='accuracy')\n",
    "print(\"Accuracy values: \"+ str(list(scoresAcc)))\n",
    "print('Mean:%.2f' %scoresAcc.mean())"
   ]
  },
  {
   "cell_type": "code",
   "execution_count": 6,
   "metadata": {
    "collapsed": false
   },
   "outputs": [
    {
     "data": {
      "text/plain": [
       "(768, 8)"
      ]
     },
     "execution_count": 6,
     "metadata": {},
     "output_type": "execute_result"
    }
   ],
   "source": [
    "X.shape"
   ]
  },
  {
   "cell_type": "markdown",
   "metadata": {},
   "source": [
    "# Feature Selection / Dimensionality Reduction"
   ]
  },
  {
   "cell_type": "markdown",
   "metadata": {},
   "source": [
    "# 1. Principal component analysis (PCA)"
   ]
  },
  {
   "cell_type": "raw",
   "metadata": {},
   "source": [
    "Linear dimensionality reduction using Singular Value Decomposition of the data to project it to a lower dimensional space."
   ]
  },
  {
   "cell_type": "markdown",
   "metadata": {},
   "source": [
    "(http://scikit-learn.org/stable/modules/generated/sklearn.decomposition.PCA.html#sklearn.decomposition.PCA)"
   ]
  },
  {
   "cell_type": "markdown",
   "metadata": {},
   "source": [
    "## Example 1: "
   ]
  },
  {
   "cell_type": "code",
   "execution_count": 37,
   "metadata": {
    "collapsed": false
   },
   "outputs": [
    {
     "data": {
      "image/png": "[encoded data removed]",
      "text/plain": [
       "<matplotlib.figure.Figure at 0x7ffaf4f7e518>"
      ]
     },
     "metadata": {},
     "output_type": "display_data"
    },
    {
     "name": "stdout",
     "output_type": "stream",
     "text": [
      "(768, 5)\n",
      "Explained Variance: [ 0.26179749  0.21640127  0.12870373  0.10944113  0.09529305]\n",
      "[[ 0.1284321   0.39308257  0.36000261  0.43982428  0.43502617  0.45194134\n",
      "   0.27061144  0.19802707]\n",
      " [ 0.59378583  0.17402908  0.18389207 -0.33196534 -0.25078106 -0.1009598\n",
      "  -0.122069    0.62058853]\n",
      " [-0.01308692  0.46792282 -0.53549442 -0.2376738   0.33670893 -0.36186463\n",
      "   0.43318905  0.07524755]\n",
      " [ 0.08069115 -0.40432871  0.05598649  0.03797608 -0.34994376  0.05364595\n",
      "   0.8336801   0.0712006 ]\n",
      " [-0.47560573  0.46632804  0.32795306 -0.48786206 -0.34693481  0.25320376\n",
      "   0.11981049 -0.10928996]]\n",
      "Index(['preg', 'plas', 'pres', 'skin', 'test', 'mass', 'pedi', 'age'], dtype='object')\n"
     ]
    }
   ],
   "source": [
    "from sklearn.decomposition import PCA\n",
    "\n",
    "# feature extraction\n",
    "from sklearn.preprocessing import StandardScaler\n",
    "X_std = pd.DataFrame(StandardScaler().fit_transform(X), columns=X.columns )\n",
    "\n",
    "feat_selector= PCA(n_components=5) # n_components=3\n",
    "X_new= feat_selector.fit_transform(X_std, y)\n",
    "\n",
    "import matplotlib.pyplot as plt\n",
    "plt.plot(np.cumsum(feat_selector.explained_variance_ratio_))\n",
    "plt.xlabel('number of components')\n",
    "plt.ylabel('cumulative explained variance')\n",
    "plt.show()\n",
    "\n",
    "print(X_new.shape)\n",
    "\n",
    "# summarize components\n",
    "print(\"Explained Variance: \" + str(feat_selector.explained_variance_ratio_)) # #Eigenvalues (normalized)\n",
    "print(feat_selector.components_)  #Eigenvectors\n",
    "print(X.columns)"
   ]
  },
  {
   "cell_type": "code",
   "execution_count": 39,
   "metadata": {
    "collapsed": false
   },
   "outputs": [
    {
     "name": "stdout",
     "output_type": "stream",
     "text": [
      "          preg      plas      pres      skin      test      mass      pedi  \\\n",
      "PC-1  0.128432  0.393083  0.360003  0.439824  0.435026  0.451941  0.270611   \n",
      "PC-2  0.593786  0.174029  0.183892 -0.331965 -0.250781 -0.100960 -0.122069   \n",
      "PC-3 -0.013087  0.467923 -0.535494 -0.237674  0.336709 -0.361865  0.433189   \n",
      "PC-4  0.080691 -0.404329  0.055986  0.037976 -0.349944  0.053646  0.833680   \n",
      "PC-5 -0.475606  0.466328  0.327953 -0.487862 -0.346935  0.253204  0.119810   \n",
      "\n",
      "           age  \n",
      "PC-1  0.198027  \n",
      "PC-2  0.620589  \n",
      "PC-3  0.075248  \n",
      "PC-4  0.071201  \n",
      "PC-5 -0.109290  \n"
     ]
    }
   ],
   "source": [
    "print(pd.DataFrame(feat_selector.components_,columns=X_std.columns,index = ['PC-1','PC-2', 'PC-3', 'PC-4','PC-5']))\n"
   ]
  },
  {
   "cell_type": "code",
   "execution_count": 40,
   "metadata": {
    "collapsed": false
   },
   "outputs": [
    {
     "name": "stdout",
     "output_type": "stream",
     "text": [
      "Accuracy values: [0.7142857142857143, 0.77272727272727271, 0.74675324675324672, 0.79084967320261434, 0.73856209150326801]\n",
      "Mean:0.75\n"
     ]
    }
   ],
   "source": [
    "# After feature selection: Apply NB classifier, and evaluate the model using Cross Validation\n",
    "clf = GaussianNB()\n",
    "\n",
    "# fit the classifier on the training features and labels\n",
    "#clf.fit(X, y) \n",
    "\n",
    "scoresAcc= cross_val_score(clf, X_new, y, cv=5, scoring='accuracy')\n",
    "print(\"Accuracy values: \"+ str(list(scoresAcc)))\n",
    "print('Mean:%.2f' %scoresAcc.mean())"
   ]
  },
  {
   "cell_type": "code",
   "execution_count": null,
   "metadata": {
    "collapsed": true
   },
   "outputs": [],
   "source": []
  }
 ],
 "metadata": {
  "kernelspec": {
   "display_name": "Python 3",
   "language": "python",
   "name": "python3"
  },
  "language_info": {
   "codemirror_mode": {
    "name": "ipython",
    "version": 3
   },
   "file_extension": ".py",
   "mimetype": "text/x-python",
   "name": "python",
   "nbconvert_exporter": "python",
   "pygments_lexer": "ipython3",
   "version": "3.6.0"
  }
 },
 "nbformat": 4,
 "nbformat_minor": 2
}
