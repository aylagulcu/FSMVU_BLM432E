{
 "cells": [
  {
   "cell_type": "markdown",
   "metadata": {},
   "source": [
    "# Agriculture % of GDP - Cholesterol Women"
   ]
  },
  {
   "cell_type": "raw",
   "metadata": {},
   "source": [
    "\" SEÇİL ŞEKERCİ HÜSEM' e teşekkürler \""
   ]
  },
  {
   "cell_type": "code",
   "execution_count": 1,
   "metadata": {
    "collapsed": true
   },
   "outputs": [],
   "source": [
    "import pandas as pd # pandas will be referred to as pd below\n",
    "import numpy\n",
    "import matplotlib.pyplot as plt\n",
    "import seaborn\n",
    "%matplotlib inline \n",
    "import warnings\n",
    "warnings.filterwarnings('ignore')"
   ]
  },
  {
   "cell_type": "markdown",
   "metadata": {},
   "source": [
    "### İlk aşamada Agriculture veri seti üzerinde çalıştım."
   ]
  },
  {
   "cell_type": "code",
   "execution_count": 2,
   "metadata": {
    "collapsed": false
   },
   "outputs": [
    {
     "data": {
      "text/html": [
       "<div>\n",
       "<table border=\"1\" class=\"dataframe\">\n",
       "  <thead>\n",
       "    <tr style=\"text-align: right;\">\n",
       "      <th></th>\n",
       "      <th>Area</th>\n",
       "      <th>1961</th>\n",
       "      <th>1962</th>\n",
       "      <th>1963</th>\n",
       "      <th>1964</th>\n",
       "      <th>1965</th>\n",
       "      <th>1966</th>\n",
       "      <th>1967</th>\n",
       "      <th>1968</th>\n",
       "      <th>1969</th>\n",
       "      <th>...</th>\n",
       "      <th>2002</th>\n",
       "      <th>2003</th>\n",
       "      <th>2004</th>\n",
       "      <th>2005</th>\n",
       "      <th>2006</th>\n",
       "      <th>2007</th>\n",
       "      <th>2008</th>\n",
       "      <th>2009</th>\n",
       "      <th>2010</th>\n",
       "      <th>2011</th>\n",
       "    </tr>\n",
       "  </thead>\n",
       "  <tbody>\n",
       "    <tr>\n",
       "      <th>0</th>\n",
       "      <td>Abkhazia</td>\n",
       "      <td>NaN</td>\n",
       "      <td>NaN</td>\n",
       "      <td>NaN</td>\n",
       "      <td>NaN</td>\n",
       "      <td>NaN</td>\n",
       "      <td>NaN</td>\n",
       "      <td>NaN</td>\n",
       "      <td>NaN</td>\n",
       "      <td>NaN</td>\n",
       "      <td>...</td>\n",
       "      <td>NaN</td>\n",
       "      <td>NaN</td>\n",
       "      <td>NaN</td>\n",
       "      <td>NaN</td>\n",
       "      <td>NaN</td>\n",
       "      <td>NaN</td>\n",
       "      <td>NaN</td>\n",
       "      <td>NaN</td>\n",
       "      <td>NaN</td>\n",
       "      <td>NaN</td>\n",
       "    </tr>\n",
       "    <tr>\n",
       "      <th>1</th>\n",
       "      <td>Afghanistan</td>\n",
       "      <td>NaN</td>\n",
       "      <td>NaN</td>\n",
       "      <td>NaN</td>\n",
       "      <td>NaN</td>\n",
       "      <td>NaN</td>\n",
       "      <td>NaN</td>\n",
       "      <td>NaN</td>\n",
       "      <td>NaN</td>\n",
       "      <td>NaN</td>\n",
       "      <td>...</td>\n",
       "      <td>45.158479</td>\n",
       "      <td>46.013843</td>\n",
       "      <td>41.594103</td>\n",
       "      <td>39.480416</td>\n",
       "      <td>32.589058</td>\n",
       "      <td>34.494833</td>\n",
       "      <td>28.134488</td>\n",
       "      <td>31.177550</td>\n",
       "      <td>29.915323</td>\n",
       "      <td>NaN</td>\n",
       "    </tr>\n",
       "    <tr>\n",
       "      <th>2</th>\n",
       "      <td>Akrotiri and Dhekelia</td>\n",
       "      <td>NaN</td>\n",
       "      <td>NaN</td>\n",
       "      <td>NaN</td>\n",
       "      <td>NaN</td>\n",
       "      <td>NaN</td>\n",
       "      <td>NaN</td>\n",
       "      <td>NaN</td>\n",
       "      <td>NaN</td>\n",
       "      <td>NaN</td>\n",
       "      <td>...</td>\n",
       "      <td>NaN</td>\n",
       "      <td>NaN</td>\n",
       "      <td>NaN</td>\n",
       "      <td>NaN</td>\n",
       "      <td>NaN</td>\n",
       "      <td>NaN</td>\n",
       "      <td>NaN</td>\n",
       "      <td>NaN</td>\n",
       "      <td>NaN</td>\n",
       "      <td>NaN</td>\n",
       "    </tr>\n",
       "    <tr>\n",
       "      <th>3</th>\n",
       "      <td>Albania</td>\n",
       "      <td>NaN</td>\n",
       "      <td>NaN</td>\n",
       "      <td>NaN</td>\n",
       "      <td>NaN</td>\n",
       "      <td>NaN</td>\n",
       "      <td>NaN</td>\n",
       "      <td>NaN</td>\n",
       "      <td>NaN</td>\n",
       "      <td>NaN</td>\n",
       "      <td>...</td>\n",
       "      <td>26.311622</td>\n",
       "      <td>23.996207</td>\n",
       "      <td>23.499999</td>\n",
       "      <td>22.800000</td>\n",
       "      <td>22.000000</td>\n",
       "      <td>21.117256</td>\n",
       "      <td>20.304655</td>\n",
       "      <td>20.401935</td>\n",
       "      <td>20.160029</td>\n",
       "      <td>20.04532</td>\n",
       "    </tr>\n",
       "    <tr>\n",
       "      <th>4</th>\n",
       "      <td>Algeria</td>\n",
       "      <td>NaN</td>\n",
       "      <td>NaN</td>\n",
       "      <td>NaN</td>\n",
       "      <td>NaN</td>\n",
       "      <td>12.876213</td>\n",
       "      <td>9.137256</td>\n",
       "      <td>10.330666</td>\n",
       "      <td>10.853374</td>\n",
       "      <td>9.030165</td>\n",
       "      <td>...</td>\n",
       "      <td>10.003598</td>\n",
       "      <td>10.491237</td>\n",
       "      <td>10.188493</td>\n",
       "      <td>8.221657</td>\n",
       "      <td>7.988789</td>\n",
       "      <td>8.025346</td>\n",
       "      <td>6.920100</td>\n",
       "      <td>6.915571</td>\n",
       "      <td>6.915571</td>\n",
       "      <td>NaN</td>\n",
       "    </tr>\n",
       "    <tr>\n",
       "      <th>5</th>\n",
       "      <td>American Samoa</td>\n",
       "      <td>NaN</td>\n",
       "      <td>NaN</td>\n",
       "      <td>NaN</td>\n",
       "      <td>NaN</td>\n",
       "      <td>NaN</td>\n",
       "      <td>NaN</td>\n",
       "      <td>NaN</td>\n",
       "      <td>NaN</td>\n",
       "      <td>NaN</td>\n",
       "      <td>...</td>\n",
       "      <td>NaN</td>\n",
       "      <td>NaN</td>\n",
       "      <td>NaN</td>\n",
       "      <td>NaN</td>\n",
       "      <td>NaN</td>\n",
       "      <td>NaN</td>\n",
       "      <td>NaN</td>\n",
       "      <td>NaN</td>\n",
       "      <td>NaN</td>\n",
       "      <td>NaN</td>\n",
       "    </tr>\n",
       "    <tr>\n",
       "      <th>6</th>\n",
       "      <td>Andorra</td>\n",
       "      <td>NaN</td>\n",
       "      <td>NaN</td>\n",
       "      <td>NaN</td>\n",
       "      <td>NaN</td>\n",
       "      <td>NaN</td>\n",
       "      <td>NaN</td>\n",
       "      <td>NaN</td>\n",
       "      <td>NaN</td>\n",
       "      <td>NaN</td>\n",
       "      <td>...</td>\n",
       "      <td>NaN</td>\n",
       "      <td>NaN</td>\n",
       "      <td>NaN</td>\n",
       "      <td>NaN</td>\n",
       "      <td>NaN</td>\n",
       "      <td>NaN</td>\n",
       "      <td>NaN</td>\n",
       "      <td>NaN</td>\n",
       "      <td>NaN</td>\n",
       "      <td>NaN</td>\n",
       "    </tr>\n",
       "  </tbody>\n",
       "</table>\n",
       "<p>7 rows × 52 columns</p>\n",
       "</div>"
      ],
      "text/plain": [
       "                    Area  1961  1962  1963  1964       1965      1966  \\\n",
       "0               Abkhazia   NaN   NaN   NaN   NaN        NaN       NaN   \n",
       "1            Afghanistan   NaN   NaN   NaN   NaN        NaN       NaN   \n",
       "2  Akrotiri and Dhekelia   NaN   NaN   NaN   NaN        NaN       NaN   \n",
       "3                Albania   NaN   NaN   NaN   NaN        NaN       NaN   \n",
       "4                Algeria   NaN   NaN   NaN   NaN  12.876213  9.137256   \n",
       "5         American Samoa   NaN   NaN   NaN   NaN        NaN       NaN   \n",
       "6                Andorra   NaN   NaN   NaN   NaN        NaN       NaN   \n",
       "\n",
       "        1967       1968      1969    ...          2002       2003       2004  \\\n",
       "0        NaN        NaN       NaN    ...           NaN        NaN        NaN   \n",
       "1        NaN        NaN       NaN    ...     45.158479  46.013843  41.594103   \n",
       "2        NaN        NaN       NaN    ...           NaN        NaN        NaN   \n",
       "3        NaN        NaN       NaN    ...     26.311622  23.996207  23.499999   \n",
       "4  10.330666  10.853374  9.030165    ...     10.003598  10.491237  10.188493   \n",
       "5        NaN        NaN       NaN    ...           NaN        NaN        NaN   \n",
       "6        NaN        NaN       NaN    ...           NaN        NaN        NaN   \n",
       "\n",
       "        2005       2006       2007       2008       2009       2010      2011  \n",
       "0        NaN        NaN        NaN        NaN        NaN        NaN       NaN  \n",
       "1  39.480416  32.589058  34.494833  28.134488  31.177550  29.915323       NaN  \n",
       "2        NaN        NaN        NaN        NaN        NaN        NaN       NaN  \n",
       "3  22.800000  22.000000  21.117256  20.304655  20.401935  20.160029  20.04532  \n",
       "4   8.221657   7.988789   8.025346   6.920100   6.915571   6.915571       NaN  \n",
       "5        NaN        NaN        NaN        NaN        NaN        NaN       NaN  \n",
       "6        NaN        NaN        NaN        NaN        NaN        NaN       NaN  \n",
       "\n",
       "[7 rows x 52 columns]"
      ]
     },
     "execution_count": 2,
     "metadata": {},
     "output_type": "execute_result"
    }
   ],
   "source": [
    "data_Agriculture= pd.read_csv('Agriculture.csv')\n",
    "data_Agriculture.head(7)"
   ]
  },
  {
   "cell_type": "markdown",
   "metadata": {},
   "source": [
    "### Alanları yani sütun başlıklarını sutun adlı bir listeye ekledim. Sadece yılları listede tutmak istediğim için “Area” alanını listeden çıkardım."
   ]
  },
  {
   "cell_type": "code",
   "execution_count": 3,
   "metadata": {
    "collapsed": false
   },
   "outputs": [],
   "source": [
    "sutun=list(data_Agriculture.columns)\n",
    "sutun.remove('Area')"
   ]
  },
  {
   "cell_type": "markdown",
   "metadata": {},
   "source": [
    "### İki ayrı veri setini birleştirmede sorun yaşamamak için veri seti üzerinde aşağıdaki değişikliği yaptım. Veriler (n x m) matrisinden (p x 3) hale gelmiştir"
   ]
  },
  {
   "cell_type": "code",
   "execution_count": 4,
   "metadata": {
    "collapsed": false
   },
   "outputs": [
    {
     "data": {
      "text/html": [
       "<div>\n",
       "<table border=\"1\" class=\"dataframe\">\n",
       "  <thead>\n",
       "    <tr style=\"text-align: right;\">\n",
       "      <th></th>\n",
       "      <th>Area</th>\n",
       "      <th>variable</th>\n",
       "      <th>value</th>\n",
       "    </tr>\n",
       "  </thead>\n",
       "  <tbody>\n",
       "    <tr>\n",
       "      <th>0</th>\n",
       "      <td>Abkhazia</td>\n",
       "      <td>1961</td>\n",
       "      <td>NaN</td>\n",
       "    </tr>\n",
       "    <tr>\n",
       "      <th>1</th>\n",
       "      <td>Afghanistan</td>\n",
       "      <td>1961</td>\n",
       "      <td>NaN</td>\n",
       "    </tr>\n",
       "    <tr>\n",
       "      <th>2</th>\n",
       "      <td>Akrotiri and Dhekelia</td>\n",
       "      <td>1961</td>\n",
       "      <td>NaN</td>\n",
       "    </tr>\n",
       "    <tr>\n",
       "      <th>3</th>\n",
       "      <td>Albania</td>\n",
       "      <td>1961</td>\n",
       "      <td>NaN</td>\n",
       "    </tr>\n",
       "    <tr>\n",
       "      <th>4</th>\n",
       "      <td>Algeria</td>\n",
       "      <td>1961</td>\n",
       "      <td>NaN</td>\n",
       "    </tr>\n",
       "    <tr>\n",
       "      <th>5</th>\n",
       "      <td>American Samoa</td>\n",
       "      <td>1961</td>\n",
       "      <td>NaN</td>\n",
       "    </tr>\n",
       "    <tr>\n",
       "      <th>6</th>\n",
       "      <td>Andorra</td>\n",
       "      <td>1961</td>\n",
       "      <td>NaN</td>\n",
       "    </tr>\n",
       "  </tbody>\n",
       "</table>\n",
       "</div>"
      ],
      "text/plain": [
       "                    Area variable  value\n",
       "0               Abkhazia     1961    NaN\n",
       "1            Afghanistan     1961    NaN\n",
       "2  Akrotiri and Dhekelia     1961    NaN\n",
       "3                Albania     1961    NaN\n",
       "4                Algeria     1961    NaN\n",
       "5         American Samoa     1961    NaN\n",
       "6                Andorra     1961    NaN"
      ]
     },
     "execution_count": 4,
     "metadata": {},
     "output_type": "execute_result"
    }
   ],
   "source": [
    "yeni_data_Agriculture=pd.melt(data_Agriculture, id_vars=['Area'], value_vars=sutun)\n",
    "yeni_data_Agriculture.head(7)"
   ]
  },
  {
   "cell_type": "markdown",
   "metadata": {},
   "source": [
    "### Sütun başlıklarını düzenlendim"
   ]
  },
  {
   "cell_type": "code",
   "execution_count": 5,
   "metadata": {
    "collapsed": false
   },
   "outputs": [
    {
     "data": {
      "text/plain": [
       "Index(['Area', 'Year', 'Agriculture'], dtype='object')"
      ]
     },
     "execution_count": 5,
     "metadata": {},
     "output_type": "execute_result"
    }
   ],
   "source": [
    "yeni_data_Agriculture.rename(columns={'variable': 'Year', 'value': 'Agriculture'}, inplace=True)\n",
    "yeni_data_Agriculture.columns"
   ]
  },
  {
   "cell_type": "code",
   "execution_count": 6,
   "metadata": {
    "collapsed": false
   },
   "outputs": [
    {
     "data": {
      "text/html": [
       "<div>\n",
       "<table border=\"1\" class=\"dataframe\">\n",
       "  <thead>\n",
       "    <tr style=\"text-align: right;\">\n",
       "      <th></th>\n",
       "      <th>Area</th>\n",
       "      <th>Year</th>\n",
       "      <th>Agriculture</th>\n",
       "    </tr>\n",
       "  </thead>\n",
       "  <tbody>\n",
       "    <tr>\n",
       "      <th>0</th>\n",
       "      <td>Abkhazia</td>\n",
       "      <td>1961</td>\n",
       "      <td>NaN</td>\n",
       "    </tr>\n",
       "    <tr>\n",
       "      <th>1</th>\n",
       "      <td>Afghanistan</td>\n",
       "      <td>1961</td>\n",
       "      <td>NaN</td>\n",
       "    </tr>\n",
       "    <tr>\n",
       "      <th>2</th>\n",
       "      <td>Akrotiri and Dhekelia</td>\n",
       "      <td>1961</td>\n",
       "      <td>NaN</td>\n",
       "    </tr>\n",
       "    <tr>\n",
       "      <th>3</th>\n",
       "      <td>Albania</td>\n",
       "      <td>1961</td>\n",
       "      <td>NaN</td>\n",
       "    </tr>\n",
       "    <tr>\n",
       "      <th>4</th>\n",
       "      <td>Algeria</td>\n",
       "      <td>1961</td>\n",
       "      <td>NaN</td>\n",
       "    </tr>\n",
       "    <tr>\n",
       "      <th>5</th>\n",
       "      <td>American Samoa</td>\n",
       "      <td>1961</td>\n",
       "      <td>NaN</td>\n",
       "    </tr>\n",
       "    <tr>\n",
       "      <th>6</th>\n",
       "      <td>Andorra</td>\n",
       "      <td>1961</td>\n",
       "      <td>NaN</td>\n",
       "    </tr>\n",
       "  </tbody>\n",
       "</table>\n",
       "</div>"
      ],
      "text/plain": [
       "                    Area  Year  Agriculture\n",
       "0               Abkhazia  1961          NaN\n",
       "1            Afghanistan  1961          NaN\n",
       "2  Akrotiri and Dhekelia  1961          NaN\n",
       "3                Albania  1961          NaN\n",
       "4                Algeria  1961          NaN\n",
       "5         American Samoa  1961          NaN\n",
       "6                Andorra  1961          NaN"
      ]
     },
     "execution_count": 6,
     "metadata": {},
     "output_type": "execute_result"
    }
   ],
   "source": [
    "yeni_data_Agriculture.head(7)"
   ]
  },
  {
   "cell_type": "markdown",
   "metadata": {
    "collapsed": true
   },
   "source": [
    "### Agriculture veri seti üzerinde gerçekleştirdiğim tüm işlemleri Cholesterol Women veri seti üzerinde de gerçekleştiriyorum."
   ]
  },
  {
   "cell_type": "code",
   "execution_count": 7,
   "metadata": {
    "collapsed": false
   },
   "outputs": [
    {
     "data": {
      "text/html": [
       "<div>\n",
       "<table border=\"1\" class=\"dataframe\">\n",
       "  <thead>\n",
       "    <tr style=\"text-align: right;\">\n",
       "      <th></th>\n",
       "      <th>Area</th>\n",
       "      <th>1980</th>\n",
       "      <th>1981</th>\n",
       "      <th>1982</th>\n",
       "      <th>1983</th>\n",
       "      <th>1984</th>\n",
       "      <th>1985</th>\n",
       "      <th>1986</th>\n",
       "      <th>1987</th>\n",
       "      <th>1988</th>\n",
       "      <th>...</th>\n",
       "      <th>1999</th>\n",
       "      <th>2000</th>\n",
       "      <th>2001</th>\n",
       "      <th>2002</th>\n",
       "      <th>2003</th>\n",
       "      <th>2004</th>\n",
       "      <th>2005</th>\n",
       "      <th>2006</th>\n",
       "      <th>2007</th>\n",
       "      <th>2008</th>\n",
       "    </tr>\n",
       "  </thead>\n",
       "  <tbody>\n",
       "    <tr>\n",
       "      <th>0</th>\n",
       "      <td>Afghanistan</td>\n",
       "      <td>4.644476</td>\n",
       "      <td>4.637118</td>\n",
       "      <td>4.630770</td>\n",
       "      <td>4.625318</td>\n",
       "      <td>4.619873</td>\n",
       "      <td>4.613289</td>\n",
       "      <td>4.607698</td>\n",
       "      <td>4.598080</td>\n",
       "      <td>4.583443</td>\n",
       "      <td>...</td>\n",
       "      <td>4.356148</td>\n",
       "      <td>4.333604</td>\n",
       "      <td>4.309802</td>\n",
       "      <td>4.295170</td>\n",
       "      <td>4.283724</td>\n",
       "      <td>4.271746</td>\n",
       "      <td>4.262364</td>\n",
       "      <td>4.253473</td>\n",
       "      <td>4.246427</td>\n",
       "      <td>4.239035</td>\n",
       "    </tr>\n",
       "    <tr>\n",
       "      <th>1</th>\n",
       "      <td>Albania</td>\n",
       "      <td>5.039529</td>\n",
       "      <td>5.036610</td>\n",
       "      <td>5.033352</td>\n",
       "      <td>5.028138</td>\n",
       "      <td>5.022292</td>\n",
       "      <td>5.018456</td>\n",
       "      <td>5.012306</td>\n",
       "      <td>5.008334</td>\n",
       "      <td>5.002822</td>\n",
       "      <td>...</td>\n",
       "      <td>4.916494</td>\n",
       "      <td>4.917402</td>\n",
       "      <td>4.919429</td>\n",
       "      <td>4.918646</td>\n",
       "      <td>4.915379</td>\n",
       "      <td>4.909980</td>\n",
       "      <td>4.902183</td>\n",
       "      <td>4.895111</td>\n",
       "      <td>4.888237</td>\n",
       "      <td>4.881235</td>\n",
       "    </tr>\n",
       "    <tr>\n",
       "      <th>2</th>\n",
       "      <td>Algeria</td>\n",
       "      <td>4.976215</td>\n",
       "      <td>4.975257</td>\n",
       "      <td>4.974508</td>\n",
       "      <td>4.976556</td>\n",
       "      <td>4.976963</td>\n",
       "      <td>4.977419</td>\n",
       "      <td>4.974378</td>\n",
       "      <td>4.971097</td>\n",
       "      <td>4.963965</td>\n",
       "      <td>...</td>\n",
       "      <td>4.873433</td>\n",
       "      <td>4.866559</td>\n",
       "      <td>4.857580</td>\n",
       "      <td>4.848951</td>\n",
       "      <td>4.841351</td>\n",
       "      <td>4.836602</td>\n",
       "      <td>4.831645</td>\n",
       "      <td>4.826501</td>\n",
       "      <td>4.821301</td>\n",
       "      <td>4.815735</td>\n",
       "    </tr>\n",
       "    <tr>\n",
       "      <th>3</th>\n",
       "      <td>Andorra</td>\n",
       "      <td>6.132187</td>\n",
       "      <td>6.101291</td>\n",
       "      <td>6.069412</td>\n",
       "      <td>6.038793</td>\n",
       "      <td>6.008447</td>\n",
       "      <td>5.977998</td>\n",
       "      <td>5.948506</td>\n",
       "      <td>5.918512</td>\n",
       "      <td>5.890226</td>\n",
       "      <td>...</td>\n",
       "      <td>5.592350</td>\n",
       "      <td>5.568902</td>\n",
       "      <td>5.548213</td>\n",
       "      <td>5.529060</td>\n",
       "      <td>5.513778</td>\n",
       "      <td>5.499101</td>\n",
       "      <td>5.484156</td>\n",
       "      <td>5.474519</td>\n",
       "      <td>5.465222</td>\n",
       "      <td>5.456065</td>\n",
       "    </tr>\n",
       "    <tr>\n",
       "      <th>4</th>\n",
       "      <td>Angola</td>\n",
       "      <td>4.789354</td>\n",
       "      <td>4.769557</td>\n",
       "      <td>4.751330</td>\n",
       "      <td>4.733550</td>\n",
       "      <td>4.719231</td>\n",
       "      <td>4.707431</td>\n",
       "      <td>4.693793</td>\n",
       "      <td>4.683528</td>\n",
       "      <td>4.674458</td>\n",
       "      <td>...</td>\n",
       "      <td>4.511637</td>\n",
       "      <td>4.505080</td>\n",
       "      <td>4.499903</td>\n",
       "      <td>4.499115</td>\n",
       "      <td>4.498331</td>\n",
       "      <td>4.498226</td>\n",
       "      <td>4.501854</td>\n",
       "      <td>4.508352</td>\n",
       "      <td>4.517577</td>\n",
       "      <td>4.528061</td>\n",
       "    </tr>\n",
       "    <tr>\n",
       "      <th>5</th>\n",
       "      <td>Antigua and Barbuda</td>\n",
       "      <td>5.013913</td>\n",
       "      <td>5.006714</td>\n",
       "      <td>5.000293</td>\n",
       "      <td>4.997209</td>\n",
       "      <td>4.996626</td>\n",
       "      <td>4.998084</td>\n",
       "      <td>5.001350</td>\n",
       "      <td>5.003486</td>\n",
       "      <td>5.008585</td>\n",
       "      <td>...</td>\n",
       "      <td>4.958836</td>\n",
       "      <td>4.950877</td>\n",
       "      <td>4.942736</td>\n",
       "      <td>4.934998</td>\n",
       "      <td>4.928563</td>\n",
       "      <td>4.923055</td>\n",
       "      <td>4.919910</td>\n",
       "      <td>4.919503</td>\n",
       "      <td>4.922908</td>\n",
       "      <td>4.924793</td>\n",
       "    </tr>\n",
       "    <tr>\n",
       "      <th>6</th>\n",
       "      <td>Argentina</td>\n",
       "      <td>5.410129</td>\n",
       "      <td>5.401470</td>\n",
       "      <td>5.385623</td>\n",
       "      <td>5.370482</td>\n",
       "      <td>5.357241</td>\n",
       "      <td>5.341568</td>\n",
       "      <td>5.326600</td>\n",
       "      <td>5.313423</td>\n",
       "      <td>5.296732</td>\n",
       "      <td>...</td>\n",
       "      <td>5.194213</td>\n",
       "      <td>5.183896</td>\n",
       "      <td>5.168998</td>\n",
       "      <td>5.143871</td>\n",
       "      <td>5.121858</td>\n",
       "      <td>5.101102</td>\n",
       "      <td>5.087423</td>\n",
       "      <td>5.078289</td>\n",
       "      <td>5.072242</td>\n",
       "      <td>5.065472</td>\n",
       "    </tr>\n",
       "  </tbody>\n",
       "</table>\n",
       "<p>7 rows × 30 columns</p>\n",
       "</div>"
      ],
      "text/plain": [
       "                  Area      1980      1981      1982      1983      1984  \\\n",
       "0          Afghanistan  4.644476  4.637118  4.630770  4.625318  4.619873   \n",
       "1              Albania  5.039529  5.036610  5.033352  5.028138  5.022292   \n",
       "2              Algeria  4.976215  4.975257  4.974508  4.976556  4.976963   \n",
       "3              Andorra  6.132187  6.101291  6.069412  6.038793  6.008447   \n",
       "4               Angola  4.789354  4.769557  4.751330  4.733550  4.719231   \n",
       "5  Antigua and Barbuda  5.013913  5.006714  5.000293  4.997209  4.996626   \n",
       "6            Argentina  5.410129  5.401470  5.385623  5.370482  5.357241   \n",
       "\n",
       "       1985      1986      1987      1988    ...         1999      2000  \\\n",
       "0  4.613289  4.607698  4.598080  4.583443    ...     4.356148  4.333604   \n",
       "1  5.018456  5.012306  5.008334  5.002822    ...     4.916494  4.917402   \n",
       "2  4.977419  4.974378  4.971097  4.963965    ...     4.873433  4.866559   \n",
       "3  5.977998  5.948506  5.918512  5.890226    ...     5.592350  5.568902   \n",
       "4  4.707431  4.693793  4.683528  4.674458    ...     4.511637  4.505080   \n",
       "5  4.998084  5.001350  5.003486  5.008585    ...     4.958836  4.950877   \n",
       "6  5.341568  5.326600  5.313423  5.296732    ...     5.194213  5.183896   \n",
       "\n",
       "       2001      2002      2003      2004      2005      2006      2007  \\\n",
       "0  4.309802  4.295170  4.283724  4.271746  4.262364  4.253473  4.246427   \n",
       "1  4.919429  4.918646  4.915379  4.909980  4.902183  4.895111  4.888237   \n",
       "2  4.857580  4.848951  4.841351  4.836602  4.831645  4.826501  4.821301   \n",
       "3  5.548213  5.529060  5.513778  5.499101  5.484156  5.474519  5.465222   \n",
       "4  4.499903  4.499115  4.498331  4.498226  4.501854  4.508352  4.517577   \n",
       "5  4.942736  4.934998  4.928563  4.923055  4.919910  4.919503  4.922908   \n",
       "6  5.168998  5.143871  5.121858  5.101102  5.087423  5.078289  5.072242   \n",
       "\n",
       "       2008  \n",
       "0  4.239035  \n",
       "1  4.881235  \n",
       "2  4.815735  \n",
       "3  5.456065  \n",
       "4  4.528061  \n",
       "5  4.924793  \n",
       "6  5.065472  \n",
       "\n",
       "[7 rows x 30 columns]"
      ]
     },
     "execution_count": 7,
     "metadata": {},
     "output_type": "execute_result"
    }
   ],
   "source": [
    "data_Cholesterol= pd.read_csv('Female_Cholesterol.csv')\n",
    "data_Cholesterol.head(7)"
   ]
  },
  {
   "cell_type": "code",
   "execution_count": 8,
   "metadata": {
    "collapsed": true
   },
   "outputs": [],
   "source": [
    "sutunCholesterol=list(data_Cholesterol.columns)\n",
    "sutunCholesterol.remove('Area')"
   ]
  },
  {
   "cell_type": "code",
   "execution_count": 9,
   "metadata": {
    "collapsed": false
   },
   "outputs": [
    {
     "data": {
      "text/html": [
       "<div>\n",
       "<table border=\"1\" class=\"dataframe\">\n",
       "  <thead>\n",
       "    <tr style=\"text-align: right;\">\n",
       "      <th></th>\n",
       "      <th>Area</th>\n",
       "      <th>variable</th>\n",
       "      <th>value</th>\n",
       "    </tr>\n",
       "  </thead>\n",
       "  <tbody>\n",
       "    <tr>\n",
       "      <th>0</th>\n",
       "      <td>Afghanistan</td>\n",
       "      <td>1980</td>\n",
       "      <td>4.644476</td>\n",
       "    </tr>\n",
       "    <tr>\n",
       "      <th>1</th>\n",
       "      <td>Albania</td>\n",
       "      <td>1980</td>\n",
       "      <td>5.039529</td>\n",
       "    </tr>\n",
       "    <tr>\n",
       "      <th>2</th>\n",
       "      <td>Algeria</td>\n",
       "      <td>1980</td>\n",
       "      <td>4.976215</td>\n",
       "    </tr>\n",
       "    <tr>\n",
       "      <th>3</th>\n",
       "      <td>Andorra</td>\n",
       "      <td>1980</td>\n",
       "      <td>6.132187</td>\n",
       "    </tr>\n",
       "    <tr>\n",
       "      <th>4</th>\n",
       "      <td>Angola</td>\n",
       "      <td>1980</td>\n",
       "      <td>4.789354</td>\n",
       "    </tr>\n",
       "    <tr>\n",
       "      <th>5</th>\n",
       "      <td>Antigua and Barbuda</td>\n",
       "      <td>1980</td>\n",
       "      <td>5.013913</td>\n",
       "    </tr>\n",
       "    <tr>\n",
       "      <th>6</th>\n",
       "      <td>Argentina</td>\n",
       "      <td>1980</td>\n",
       "      <td>5.410129</td>\n",
       "    </tr>\n",
       "  </tbody>\n",
       "</table>\n",
       "</div>"
      ],
      "text/plain": [
       "                  Area variable     value\n",
       "0          Afghanistan     1980  4.644476\n",
       "1              Albania     1980  5.039529\n",
       "2              Algeria     1980  4.976215\n",
       "3              Andorra     1980  6.132187\n",
       "4               Angola     1980  4.789354\n",
       "5  Antigua and Barbuda     1980  5.013913\n",
       "6            Argentina     1980  5.410129"
      ]
     },
     "execution_count": 9,
     "metadata": {},
     "output_type": "execute_result"
    }
   ],
   "source": [
    "yeni_data_Cholesterol=pd.melt(data_Cholesterol, id_vars=['Area'], value_vars=sutunCholesterol)\n",
    "yeni_data_Cholesterol.head(7)"
   ]
  },
  {
   "cell_type": "code",
   "execution_count": 10,
   "metadata": {
    "collapsed": false
   },
   "outputs": [
    {
     "data": {
      "text/plain": [
       "Index(['Area', 'Year', 'Cholesterol'], dtype='object')"
      ]
     },
     "execution_count": 10,
     "metadata": {},
     "output_type": "execute_result"
    }
   ],
   "source": [
    "yeni_data_Cholesterol.rename(columns={'variable': 'Year', 'value': 'Cholesterol'}, inplace=True)\n",
    "yeni_data_Cholesterol.columns"
   ]
  },
  {
   "cell_type": "code",
   "execution_count": 11,
   "metadata": {
    "collapsed": false
   },
   "outputs": [
    {
     "data": {
      "text/html": [
       "<div>\n",
       "<table border=\"1\" class=\"dataframe\">\n",
       "  <thead>\n",
       "    <tr style=\"text-align: right;\">\n",
       "      <th></th>\n",
       "      <th>Area</th>\n",
       "      <th>Year</th>\n",
       "      <th>Cholesterol</th>\n",
       "    </tr>\n",
       "  </thead>\n",
       "  <tbody>\n",
       "    <tr>\n",
       "      <th>0</th>\n",
       "      <td>Afghanistan</td>\n",
       "      <td>1980</td>\n",
       "      <td>4.644476</td>\n",
       "    </tr>\n",
       "    <tr>\n",
       "      <th>1</th>\n",
       "      <td>Albania</td>\n",
       "      <td>1980</td>\n",
       "      <td>5.039529</td>\n",
       "    </tr>\n",
       "    <tr>\n",
       "      <th>2</th>\n",
       "      <td>Algeria</td>\n",
       "      <td>1980</td>\n",
       "      <td>4.976215</td>\n",
       "    </tr>\n",
       "    <tr>\n",
       "      <th>3</th>\n",
       "      <td>Andorra</td>\n",
       "      <td>1980</td>\n",
       "      <td>6.132187</td>\n",
       "    </tr>\n",
       "    <tr>\n",
       "      <th>4</th>\n",
       "      <td>Angola</td>\n",
       "      <td>1980</td>\n",
       "      <td>4.789354</td>\n",
       "    </tr>\n",
       "    <tr>\n",
       "      <th>5</th>\n",
       "      <td>Antigua and Barbuda</td>\n",
       "      <td>1980</td>\n",
       "      <td>5.013913</td>\n",
       "    </tr>\n",
       "    <tr>\n",
       "      <th>6</th>\n",
       "      <td>Argentina</td>\n",
       "      <td>1980</td>\n",
       "      <td>5.410129</td>\n",
       "    </tr>\n",
       "  </tbody>\n",
       "</table>\n",
       "</div>"
      ],
      "text/plain": [
       "                  Area  Year  Cholesterol\n",
       "0          Afghanistan  1980     4.644476\n",
       "1              Albania  1980     5.039529\n",
       "2              Algeria  1980     4.976215\n",
       "3              Andorra  1980     6.132187\n",
       "4               Angola  1980     4.789354\n",
       "5  Antigua and Barbuda  1980     5.013913\n",
       "6            Argentina  1980     5.410129"
      ]
     },
     "execution_count": 11,
     "metadata": {},
     "output_type": "execute_result"
    }
   ],
   "source": [
    "yeni_data_Cholesterol.head(7)"
   ]
  },
  {
   "cell_type": "markdown",
   "metadata": {},
   "source": [
    "### Agriculture(% of GDP) ve Cholesterol(in blood women) verilerinin birleştirilmesi:"
   ]
  },
  {
   "cell_type": "code",
   "execution_count": 12,
   "metadata": {
    "collapsed": false
   },
   "outputs": [
    {
     "data": {
      "text/html": [
       "<div>\n",
       "<table border=\"1\" class=\"dataframe\">\n",
       "  <thead>\n",
       "    <tr style=\"text-align: right;\">\n",
       "      <th></th>\n",
       "      <th>Area</th>\n",
       "      <th>Year</th>\n",
       "      <th>Cholesterol</th>\n",
       "      <th>Agriculture</th>\n",
       "    </tr>\n",
       "  </thead>\n",
       "  <tbody>\n",
       "    <tr>\n",
       "      <th>0</th>\n",
       "      <td>Afghanistan</td>\n",
       "      <td>1980</td>\n",
       "      <td>4.644476</td>\n",
       "      <td>NaN</td>\n",
       "    </tr>\n",
       "    <tr>\n",
       "      <th>1</th>\n",
       "      <td>Albania</td>\n",
       "      <td>1980</td>\n",
       "      <td>5.039529</td>\n",
       "      <td>33.600206</td>\n",
       "    </tr>\n",
       "    <tr>\n",
       "      <th>2</th>\n",
       "      <td>Algeria</td>\n",
       "      <td>1980</td>\n",
       "      <td>4.976215</td>\n",
       "      <td>8.509234</td>\n",
       "    </tr>\n",
       "    <tr>\n",
       "      <th>3</th>\n",
       "      <td>Andorra</td>\n",
       "      <td>1980</td>\n",
       "      <td>6.132187</td>\n",
       "      <td>NaN</td>\n",
       "    </tr>\n",
       "    <tr>\n",
       "      <th>4</th>\n",
       "      <td>Angola</td>\n",
       "      <td>1980</td>\n",
       "      <td>4.789354</td>\n",
       "      <td>NaN</td>\n",
       "    </tr>\n",
       "    <tr>\n",
       "      <th>5</th>\n",
       "      <td>Antigua and Barbuda</td>\n",
       "      <td>1980</td>\n",
       "      <td>5.013913</td>\n",
       "      <td>7.116746</td>\n",
       "    </tr>\n",
       "    <tr>\n",
       "      <th>6</th>\n",
       "      <td>Argentina</td>\n",
       "      <td>1980</td>\n",
       "      <td>5.410129</td>\n",
       "      <td>6.353505</td>\n",
       "    </tr>\n",
       "  </tbody>\n",
       "</table>\n",
       "</div>"
      ],
      "text/plain": [
       "                  Area  Year  Cholesterol  Agriculture\n",
       "0          Afghanistan  1980     4.644476          NaN\n",
       "1              Albania  1980     5.039529    33.600206\n",
       "2              Algeria  1980     4.976215     8.509234\n",
       "3              Andorra  1980     6.132187          NaN\n",
       "4               Angola  1980     4.789354          NaN\n",
       "5  Antigua and Barbuda  1980     5.013913     7.116746\n",
       "6            Argentina  1980     5.410129     6.353505"
      ]
     },
     "execution_count": 12,
     "metadata": {},
     "output_type": "execute_result"
    }
   ],
   "source": [
    "data_Cholesterol_Agriculture = pd.merge(left= yeni_data_Cholesterol, right= yeni_data_Agriculture)\n",
    "data_Cholesterol_Agriculture.head(7)"
   ]
  },
  {
   "cell_type": "markdown",
   "metadata": {},
   "source": [
    "### Veri setlerimizdeki kayıt sayılarına bakacak olursak:"
   ]
  },
  {
   "cell_type": "code",
   "execution_count": 13,
   "metadata": {
    "collapsed": false
   },
   "outputs": [
    {
     "name": "stdout",
     "output_type": "stream",
     "text": [
      "Agriculture veri setindeki kayıt Sayısı: 13770\n",
      "Cholesterol veri setindeki kayıt Sayısı: 5771\n",
      "Veri setleri birleştirildikten sonraki Kayıt sayısı: 5423\n"
     ]
    }
   ],
   "source": [
    "print('Agriculture veri setindeki kayıt Sayısı: '+ str(len(yeni_data_Agriculture)))\n",
    "print('Cholesterol veri setindeki kayıt Sayısı: '+ str(len(yeni_data_Cholesterol)))\n",
    "print('Veri setleri birleştirildikten sonraki Kayıt sayısı: '+ str(len(data_Cholesterol_Agriculture)))"
   ]
  },
  {
   "cell_type": "markdown",
   "metadata": {},
   "source": [
    "### Veri setindeki herhangi bir alanında boş değere sahip satırların temizlenmesi:"
   ]
  },
  {
   "cell_type": "code",
   "execution_count": 14,
   "metadata": {
    "collapsed": false
   },
   "outputs": [
    {
     "data": {
      "text/html": [
       "<div>\n",
       "<table border=\"1\" class=\"dataframe\">\n",
       "  <thead>\n",
       "    <tr style=\"text-align: right;\">\n",
       "      <th></th>\n",
       "      <th>Area</th>\n",
       "      <th>Year</th>\n",
       "      <th>Cholesterol</th>\n",
       "      <th>Agriculture</th>\n",
       "    </tr>\n",
       "  </thead>\n",
       "  <tbody>\n",
       "    <tr>\n",
       "      <th>1</th>\n",
       "      <td>Albania</td>\n",
       "      <td>1980</td>\n",
       "      <td>5.039529</td>\n",
       "      <td>33.600206</td>\n",
       "    </tr>\n",
       "    <tr>\n",
       "      <th>2</th>\n",
       "      <td>Algeria</td>\n",
       "      <td>1980</td>\n",
       "      <td>4.976215</td>\n",
       "      <td>8.509234</td>\n",
       "    </tr>\n",
       "    <tr>\n",
       "      <th>5</th>\n",
       "      <td>Antigua and Barbuda</td>\n",
       "      <td>1980</td>\n",
       "      <td>5.013913</td>\n",
       "      <td>7.116746</td>\n",
       "    </tr>\n",
       "    <tr>\n",
       "      <th>6</th>\n",
       "      <td>Argentina</td>\n",
       "      <td>1980</td>\n",
       "      <td>5.410129</td>\n",
       "      <td>6.353505</td>\n",
       "    </tr>\n",
       "    <tr>\n",
       "      <th>8</th>\n",
       "      <td>Australia</td>\n",
       "      <td>1980</td>\n",
       "      <td>5.776455</td>\n",
       "      <td>7.877187</td>\n",
       "    </tr>\n",
       "    <tr>\n",
       "      <th>9</th>\n",
       "      <td>Austria</td>\n",
       "      <td>1980</td>\n",
       "      <td>5.844535</td>\n",
       "      <td>5.299017</td>\n",
       "    </tr>\n",
       "    <tr>\n",
       "      <th>12</th>\n",
       "      <td>Bahrain</td>\n",
       "      <td>1980</td>\n",
       "      <td>5.318111</td>\n",
       "      <td>0.984371</td>\n",
       "    </tr>\n",
       "  </tbody>\n",
       "</table>\n",
       "</div>"
      ],
      "text/plain": [
       "                   Area  Year  Cholesterol  Agriculture\n",
       "1               Albania  1980     5.039529    33.600206\n",
       "2               Algeria  1980     4.976215     8.509234\n",
       "5   Antigua and Barbuda  1980     5.013913     7.116746\n",
       "6             Argentina  1980     5.410129     6.353505\n",
       "8             Australia  1980     5.776455     7.877187\n",
       "9               Austria  1980     5.844535     5.299017\n",
       "12              Bahrain  1980     5.318111     0.984371"
      ]
     },
     "execution_count": 14,
     "metadata": {},
     "output_type": "execute_result"
    }
   ],
   "source": [
    "data_Cholesterol_Agriculture_nomissing=data_Cholesterol_Agriculture.dropna(how='any')\n",
    "data_Cholesterol_Agriculture_nomissing.head(7)"
   ]
  },
  {
   "cell_type": "code",
   "execution_count": 15,
   "metadata": {
    "collapsed": false
   },
   "outputs": [
    {
     "name": "stdout",
     "output_type": "stream",
     "text": [
      "Veri setleri birleştirildikten sonraki Kayıt sayısı: 5423\n",
      "Boş veriler temizlendikten sonraki Kayıt sayısı: 4273\n"
     ]
    }
   ],
   "source": [
    "print('Veri setleri birleştirildikten sonraki Kayıt sayısı: '+ str(len(data_Cholesterol_Agriculture)))\n",
    "print('Boş veriler temizlendikten sonraki Kayıt sayısı: '+ str(len(data_Cholesterol_Agriculture_nomissing)))"
   ]
  },
  {
   "cell_type": "markdown",
   "metadata": {},
   "source": [
    "### Veri setindeki indexlerin yeniden düzenlenmesi:"
   ]
  },
  {
   "cell_type": "code",
   "execution_count": 16,
   "metadata": {
    "collapsed": false
   },
   "outputs": [
    {
     "data": {
      "text/plain": [
       "Int64Index([   0,    1,    2,    3,    4,    5,    6,    7,    8,    9,\n",
       "            ...\n",
       "            4263, 4264, 4265, 4266, 4267, 4268, 4269, 4270, 4271, 4272],\n",
       "           dtype='int64', length=4273)"
      ]
     },
     "execution_count": 16,
     "metadata": {},
     "output_type": "execute_result"
    }
   ],
   "source": [
    "data_Cholesterol_Agriculture_nomissing.index= range(len(data_Cholesterol_Agriculture_nomissing))\n",
    "data_Cholesterol_Agriculture_nomissing.index"
   ]
  },
  {
   "cell_type": "code",
   "execution_count": 17,
   "metadata": {
    "collapsed": false
   },
   "outputs": [
    {
     "data": {
      "text/html": [
       "<div>\n",
       "<table border=\"1\" class=\"dataframe\">\n",
       "  <thead>\n",
       "    <tr style=\"text-align: right;\">\n",
       "      <th></th>\n",
       "      <th>Area</th>\n",
       "      <th>Year</th>\n",
       "      <th>Cholesterol</th>\n",
       "      <th>Agriculture</th>\n",
       "    </tr>\n",
       "  </thead>\n",
       "  <tbody>\n",
       "    <tr>\n",
       "      <th>0</th>\n",
       "      <td>Albania</td>\n",
       "      <td>1980</td>\n",
       "      <td>5.039529</td>\n",
       "      <td>33.600206</td>\n",
       "    </tr>\n",
       "    <tr>\n",
       "      <th>1</th>\n",
       "      <td>Algeria</td>\n",
       "      <td>1980</td>\n",
       "      <td>4.976215</td>\n",
       "      <td>8.509234</td>\n",
       "    </tr>\n",
       "    <tr>\n",
       "      <th>2</th>\n",
       "      <td>Antigua and Barbuda</td>\n",
       "      <td>1980</td>\n",
       "      <td>5.013913</td>\n",
       "      <td>7.116746</td>\n",
       "    </tr>\n",
       "    <tr>\n",
       "      <th>3</th>\n",
       "      <td>Argentina</td>\n",
       "      <td>1980</td>\n",
       "      <td>5.410129</td>\n",
       "      <td>6.353505</td>\n",
       "    </tr>\n",
       "    <tr>\n",
       "      <th>4</th>\n",
       "      <td>Australia</td>\n",
       "      <td>1980</td>\n",
       "      <td>5.776455</td>\n",
       "      <td>7.877187</td>\n",
       "    </tr>\n",
       "    <tr>\n",
       "      <th>5</th>\n",
       "      <td>Austria</td>\n",
       "      <td>1980</td>\n",
       "      <td>5.844535</td>\n",
       "      <td>5.299017</td>\n",
       "    </tr>\n",
       "    <tr>\n",
       "      <th>6</th>\n",
       "      <td>Bahrain</td>\n",
       "      <td>1980</td>\n",
       "      <td>5.318111</td>\n",
       "      <td>0.984371</td>\n",
       "    </tr>\n",
       "  </tbody>\n",
       "</table>\n",
       "</div>"
      ],
      "text/plain": [
       "                  Area  Year  Cholesterol  Agriculture\n",
       "0              Albania  1980     5.039529    33.600206\n",
       "1              Algeria  1980     4.976215     8.509234\n",
       "2  Antigua and Barbuda  1980     5.013913     7.116746\n",
       "3            Argentina  1980     5.410129     6.353505\n",
       "4            Australia  1980     5.776455     7.877187\n",
       "5              Austria  1980     5.844535     5.299017\n",
       "6              Bahrain  1980     5.318111     0.984371"
      ]
     },
     "execution_count": 17,
     "metadata": {},
     "output_type": "execute_result"
    }
   ],
   "source": [
    "data_Cholesterol_Agriculture_nomissing.head(7)"
   ]
  },
  {
   "cell_type": "markdown",
   "metadata": {},
   "source": [
    "### Sonraki uygulamalarda kolaylık sağlanması için dataframe ismi data olarak düzenlendi."
   ]
  },
  {
   "cell_type": "code",
   "execution_count": 18,
   "metadata": {
    "collapsed": false
   },
   "outputs": [
    {
     "data": {
      "text/html": [
       "<div>\n",
       "<table border=\"1\" class=\"dataframe\">\n",
       "  <thead>\n",
       "    <tr style=\"text-align: right;\">\n",
       "      <th></th>\n",
       "      <th>Area</th>\n",
       "      <th>Year</th>\n",
       "      <th>Cholesterol</th>\n",
       "      <th>Agriculture</th>\n",
       "    </tr>\n",
       "  </thead>\n",
       "  <tbody>\n",
       "    <tr>\n",
       "      <th>0</th>\n",
       "      <td>Albania</td>\n",
       "      <td>1980</td>\n",
       "      <td>5.039529</td>\n",
       "      <td>33.600206</td>\n",
       "    </tr>\n",
       "    <tr>\n",
       "      <th>1</th>\n",
       "      <td>Algeria</td>\n",
       "      <td>1980</td>\n",
       "      <td>4.976215</td>\n",
       "      <td>8.509234</td>\n",
       "    </tr>\n",
       "    <tr>\n",
       "      <th>2</th>\n",
       "      <td>Antigua and Barbuda</td>\n",
       "      <td>1980</td>\n",
       "      <td>5.013913</td>\n",
       "      <td>7.116746</td>\n",
       "    </tr>\n",
       "    <tr>\n",
       "      <th>3</th>\n",
       "      <td>Argentina</td>\n",
       "      <td>1980</td>\n",
       "      <td>5.410129</td>\n",
       "      <td>6.353505</td>\n",
       "    </tr>\n",
       "    <tr>\n",
       "      <th>4</th>\n",
       "      <td>Australia</td>\n",
       "      <td>1980</td>\n",
       "      <td>5.776455</td>\n",
       "      <td>7.877187</td>\n",
       "    </tr>\n",
       "    <tr>\n",
       "      <th>5</th>\n",
       "      <td>Austria</td>\n",
       "      <td>1980</td>\n",
       "      <td>5.844535</td>\n",
       "      <td>5.299017</td>\n",
       "    </tr>\n",
       "    <tr>\n",
       "      <th>6</th>\n",
       "      <td>Bahrain</td>\n",
       "      <td>1980</td>\n",
       "      <td>5.318111</td>\n",
       "      <td>0.984371</td>\n",
       "    </tr>\n",
       "    <tr>\n",
       "      <th>7</th>\n",
       "      <td>Bangladesh</td>\n",
       "      <td>1980</td>\n",
       "      <td>4.551037</td>\n",
       "      <td>31.554318</td>\n",
       "    </tr>\n",
       "    <tr>\n",
       "      <th>8</th>\n",
       "      <td>Barbados</td>\n",
       "      <td>1980</td>\n",
       "      <td>5.285186</td>\n",
       "      <td>9.909499</td>\n",
       "    </tr>\n",
       "    <tr>\n",
       "      <th>9</th>\n",
       "      <td>Belgium</td>\n",
       "      <td>1980</td>\n",
       "      <td>6.044536</td>\n",
       "      <td>2.323903</td>\n",
       "    </tr>\n",
       "  </tbody>\n",
       "</table>\n",
       "</div>"
      ],
      "text/plain": [
       "                  Area  Year  Cholesterol  Agriculture\n",
       "0              Albania  1980     5.039529    33.600206\n",
       "1              Algeria  1980     4.976215     8.509234\n",
       "2  Antigua and Barbuda  1980     5.013913     7.116746\n",
       "3            Argentina  1980     5.410129     6.353505\n",
       "4            Australia  1980     5.776455     7.877187\n",
       "5              Austria  1980     5.844535     5.299017\n",
       "6              Bahrain  1980     5.318111     0.984371\n",
       "7           Bangladesh  1980     4.551037    31.554318\n",
       "8             Barbados  1980     5.285186     9.909499\n",
       "9              Belgium  1980     6.044536     2.323903"
      ]
     },
     "execution_count": 18,
     "metadata": {},
     "output_type": "execute_result"
    }
   ],
   "source": [
    "data=data_Cholesterol_Agriculture_nomissing\n",
    "data.head(10)"
   ]
  },
  {
   "cell_type": "markdown",
   "metadata": {},
   "source": [
    "### Veri türlerinin düzenlenmesi:"
   ]
  },
  {
   "cell_type": "code",
   "execution_count": 19,
   "metadata": {
    "collapsed": false
   },
   "outputs": [],
   "source": [
    "data['Year']= pd.to_numeric(data['Year'])\n",
    "data['Cholesterol']= pd.to_numeric(data['Cholesterol'])\n",
    "data['Agriculture']= pd.to_numeric(data['Agriculture'])"
   ]
  },
  {
   "cell_type": "code",
   "execution_count": 20,
   "metadata": {
    "collapsed": false
   },
   "outputs": [
    {
     "data": {
      "text/plain": [
       "Area            object\n",
       "Year             int64\n",
       "Cholesterol    float64\n",
       "Agriculture    float64\n",
       "dtype: object"
      ]
     },
     "execution_count": 20,
     "metadata": {},
     "output_type": "execute_result"
    }
   ],
   "source": [
    "data.dtypes"
   ]
  },
  {
   "cell_type": "markdown",
   "metadata": {},
   "source": [
    "### Kadınlardaki kolesterol değerinin 1997 yılından sonraki yıllara göre ortalama en yüksek 5 bölgesi"
   ]
  },
  {
   "cell_type": "code",
   "execution_count": 21,
   "metadata": {
    "collapsed": false
   },
   "outputs": [
    {
     "data": {
      "text/html": [
       "<div>\n",
       "<table border=\"1\" class=\"dataframe\">\n",
       "  <thead>\n",
       "    <tr style=\"text-align: right;\">\n",
       "      <th></th>\n",
       "      <th>Cholesterol</th>\n",
       "    </tr>\n",
       "    <tr>\n",
       "      <th>Area</th>\n",
       "      <th></th>\n",
       "    </tr>\n",
       "  </thead>\n",
       "  <tbody>\n",
       "    <tr>\n",
       "      <th>Iceland</th>\n",
       "      <td>5.649707</td>\n",
       "    </tr>\n",
       "    <tr>\n",
       "      <th>Germany</th>\n",
       "      <td>5.553366</td>\n",
       "    </tr>\n",
       "    <tr>\n",
       "      <th>Luxembourg</th>\n",
       "      <td>5.543594</td>\n",
       "    </tr>\n",
       "    <tr>\n",
       "      <th>Denmark</th>\n",
       "      <td>5.473151</td>\n",
       "    </tr>\n",
       "    <tr>\n",
       "      <th>United Kingdom</th>\n",
       "      <td>5.444155</td>\n",
       "    </tr>\n",
       "  </tbody>\n",
       "</table>\n",
       "</div>"
      ],
      "text/plain": [
       "                Cholesterol\n",
       "Area                       \n",
       "Iceland            5.649707\n",
       "Germany            5.553366\n",
       "Luxembourg         5.543594\n",
       "Denmark            5.473151\n",
       "United Kingdom     5.444155"
      ]
     },
     "execution_count": 21,
     "metadata": {},
     "output_type": "execute_result"
    }
   ],
   "source": [
    "data_98 = data [data['Year']>1997].groupby(by='Area').mean()\n",
    "new_data_98=data_98.drop(['Year','Agriculture'],axis=1)\n",
    "top5_data_98=new_data_98.sort_values(by='Cholesterol',ascending =False)\n",
    "top5_data_98.head(5)"
   ]
  },
  {
   "cell_type": "markdown",
   "metadata": {},
   "source": [
    "### Kadınlardaki kolesterol değerinin 1997 yılından sonraki yıllara göre ortalama en düşük 5 bölgesi"
   ]
  },
  {
   "cell_type": "code",
   "execution_count": 22,
   "metadata": {
    "collapsed": false
   },
   "outputs": [
    {
     "data": {
      "text/html": [
       "<div>\n",
       "<table border=\"1\" class=\"dataframe\">\n",
       "  <thead>\n",
       "    <tr style=\"text-align: right;\">\n",
       "      <th></th>\n",
       "      <th>Cholesterol</th>\n",
       "    </tr>\n",
       "    <tr>\n",
       "      <th>Area</th>\n",
       "      <th></th>\n",
       "    </tr>\n",
       "  </thead>\n",
       "  <tbody>\n",
       "    <tr>\n",
       "      <th>Congo. Dem. Rep.</th>\n",
       "      <td>4.067469</td>\n",
       "    </tr>\n",
       "    <tr>\n",
       "      <th>Sierra Leone</th>\n",
       "      <td>4.109674</td>\n",
       "    </tr>\n",
       "    <tr>\n",
       "      <th>Nigeria</th>\n",
       "      <td>4.113737</td>\n",
       "    </tr>\n",
       "    <tr>\n",
       "      <th>Niger</th>\n",
       "      <td>4.116549</td>\n",
       "    </tr>\n",
       "    <tr>\n",
       "      <th>Burkina Faso</th>\n",
       "      <td>4.127738</td>\n",
       "    </tr>\n",
       "  </tbody>\n",
       "</table>\n",
       "</div>"
      ],
      "text/plain": [
       "                  Cholesterol\n",
       "Area                         \n",
       "Congo. Dem. Rep.     4.067469\n",
       "Sierra Leone         4.109674\n",
       "Nigeria              4.113737\n",
       "Niger                4.116549\n",
       "Burkina Faso         4.127738"
      ]
     },
     "execution_count": 22,
     "metadata": {},
     "output_type": "execute_result"
    }
   ],
   "source": [
    "top5_last_data_98=new_data_98.sort_values(by='Cholesterol',ascending =True)\n",
    "top5_last_data_98.head(5)"
   ]
  },
  {
   "cell_type": "markdown",
   "metadata": {},
   "source": [
    "### Son 10 yılın tarihe göre frekans dağılımlarının hesaplanması:   "
   ]
  },
  {
   "cell_type": "code",
   "execution_count": 23,
   "metadata": {
    "collapsed": false
   },
   "outputs": [
    {
     "name": "stdout",
     "output_type": "stream",
     "text": [
      "Yıl aralığı: 1998 and to 2008\n",
      "1998    160\n",
      "1999    161\n",
      "2000    164\n",
      "2001    164\n",
      "2002    168\n",
      "2003    167\n",
      "2004    164\n",
      "2005    162\n",
      "2006    160\n",
      "2007    158\n",
      "2008    151\n",
      "Name: Year, dtype: int64\n",
      "1998    0.089938\n",
      "1999    0.090500\n",
      "2000    0.092187\n",
      "2001    0.092187\n",
      "2002    0.094435\n",
      "2003    0.093873\n",
      "2004    0.092187\n",
      "2005    0.091062\n",
      "2006    0.089938\n",
      "2007    0.088814\n",
      "2008    0.084879\n",
      "Name: Year, dtype: float64\n"
     ]
    }
   ],
   "source": [
    "data_98 = data[data['Year']>1997]\n",
    "print ('Yıl aralığı: '+ str(data_98['Year'].min())+' and to '+ str(data_98['Year'].max()) )\n",
    "countYear= data_98['Year'].value_counts(sort= False, dropna=False)\n",
    "print(countYear.head(11))\n",
    "perYear= data_98['Year'].value_counts(sort= False, dropna=False, normalize=True)\n",
    "print(perYear.head(11))"
   ]
  },
  {
   "cell_type": "markdown",
   "metadata": {},
   "source": [
    "### Cholesterol verilerinin gruplanması:"
   ]
  },
  {
   "cell_type": "code",
   "execution_count": 24,
   "metadata": {
    "collapsed": false
   },
   "outputs": [
    {
     "name": "stdout",
     "output_type": "stream",
     "text": [
      "Cholesterol aralığı: 4.011244 - 5.732783\n"
     ]
    },
    {
     "data": {
      "text/plain": [
       "count    4273.000000\n",
       "mean        4.896277\n",
       "std         0.436910\n",
       "min         4.011244\n",
       "25%         4.556880\n",
       "50%         4.860623\n",
       "75%         5.197833\n",
       "max         6.200450\n",
       "Name: Cholesterol, dtype: float64"
      ]
     },
     "execution_count": 24,
     "metadata": {},
     "output_type": "execute_result"
    }
   ],
   "source": [
    "print ('Cholesterol aralığı: '+ str(data_98['Cholesterol'].min())+' - '+ str(data_98['Cholesterol'].max()) )\n",
    "data['Cholesterol'].describe()"
   ]
  },
  {
   "cell_type": "code",
   "execution_count": 25,
   "metadata": {
    "collapsed": false
   },
   "outputs": [
    {
     "data": {
      "text/plain": [
       "<matplotlib.text.Text at 0x102d89ee4a8>"
      ]
     },
     "execution_count": 25,
     "metadata": {},
     "output_type": "execute_result"
    },
    {
     "data": {
      "image/png": "[encoded data removed]",
      "text/plain": [
       "<matplotlib.figure.Figure at 0x102d893f3c8>"
      ]
     },
     "metadata": {},
     "output_type": "display_data"
    }
   ],
   "source": [
    "seaborn.distplot(data_98['Cholesterol'].dropna(), kde= False)\n",
    "plt.xlabel('Sayısal Cholesterol Değerleri)')\n",
    "plt.title('Her Cholesterol değeri için satır sayısı')"
   ]
  },
  {
   "cell_type": "code",
   "execution_count": 26,
   "metadata": {
    "collapsed": false
   },
   "outputs": [
    {
     "name": "stdout",
     "output_type": "stream",
     "text": [
      "1779\n"
     ]
    }
   ],
   "source": [
    "data_98['CholesterolGroup']= pd.cut(data_98.Cholesterol, [4,4.35,4.7,5.05,5.4,5.75]) \n",
    "print(len(data_98['CholesterolGroup']))"
   ]
  },
  {
   "cell_type": "markdown",
   "metadata": {},
   "source": [
    "### Cholesterol grupları için frekans dağılımları:"
   ]
  },
  {
   "cell_type": "code",
   "execution_count": 27,
   "metadata": {
    "collapsed": false
   },
   "outputs": [
    {
     "data": {
      "text/plain": [
       "count            1779\n",
       "unique              5\n",
       "top       (4.7, 5.05]\n",
       "freq              570\n",
       "Name: CholesterolGroup, dtype: object"
      ]
     },
     "execution_count": 27,
     "metadata": {},
     "output_type": "execute_result"
    }
   ],
   "source": [
    "data_98['CholesterolGroup']= data_98['CholesterolGroup'].astype('category')\n",
    "data_98['CholesterolGroup'].describe()"
   ]
  },
  {
   "cell_type": "code",
   "execution_count": 28,
   "metadata": {
    "collapsed": false
   },
   "outputs": [
    {
     "name": "stdout",
     "output_type": "stream",
     "text": [
      "(4, 4.35]      0.151209\n",
      "(4.35, 4.7]    0.222597\n",
      "(4.7, 5.05]    0.320405\n",
      "(5.05, 5.4]    0.241709\n",
      "(5.4, 5.75]    0.064081\n",
      "dtype: float64\n"
     ]
    }
   ],
   "source": [
    "CholesterolGroupP= data_98['CholesterolGroup'].value_counts(sort= False, normalize= True) \n",
    "print(CholesterolGroupP)"
   ]
  },
  {
   "cell_type": "code",
   "execution_count": 29,
   "metadata": {
    "collapsed": false
   },
   "outputs": [
    {
     "data": {
      "image/png": "[encoded data removed]",
      "text/plain": [
       "<matplotlib.figure.Figure at 0x102d893f630>"
      ]
     },
     "metadata": {},
     "output_type": "display_data"
    }
   ],
   "source": [
    "seaborn.countplot(x= 'CholesterolGroup', data= data_98)\n",
    "plt.xlabel('Cholesterol grupları')\n",
    "plt.title('Her Cholesterol değeri için satır sayısı')\n",
    "plt.show()"
   ]
  },
  {
   "cell_type": "markdown",
   "metadata": {},
   "source": [
    "### Agriculture verilerinin gruplanması:"
   ]
  },
  {
   "cell_type": "code",
   "execution_count": 30,
   "metadata": {
    "collapsed": false
   },
   "outputs": [
    {
     "name": "stdout",
     "output_type": "stream",
     "text": [
      "Agriculture aralığı: 0.0 - 62.38272748\n"
     ]
    },
    {
     "data": {
      "text/plain": [
       "count    4273.000000\n",
       "mean       17.302608\n",
       "std        14.760059\n",
       "min         0.000000\n",
       "25%         4.846209\n",
       "50%        13.104145\n",
       "75%        26.311622\n",
       "max        72.029258\n",
       "Name: Agriculture, dtype: float64"
      ]
     },
     "execution_count": 30,
     "metadata": {},
     "output_type": "execute_result"
    }
   ],
   "source": [
    "print ('Agriculture aralığı: '+ str(data_98['Agriculture'].min())+' - '+ str(data_98['Agriculture'].max()) )\n",
    "data['Agriculture'].describe()"
   ]
  },
  {
   "cell_type": "code",
   "execution_count": 31,
   "metadata": {
    "collapsed": false
   },
   "outputs": [
    {
     "data": {
      "text/plain": [
       "<matplotlib.text.Text at 0x102d9317b38>"
      ]
     },
     "execution_count": 31,
     "metadata": {},
     "output_type": "execute_result"
    },
    {
     "data": {
      "image/png": "[encoded data removed]",
      "text/plain": [
       "<matplotlib.figure.Figure at 0x102d9297a20>"
      ]
     },
     "metadata": {},
     "output_type": "display_data"
    }
   ],
   "source": [
    "seaborn.distplot(data_98['Agriculture'].dropna(), kde= False)\n",
    "plt.xlabel('Sayısal Agriculture Değerleri)')\n",
    "plt.title('Her Agriculture değeri için satır sayısı')"
   ]
  },
  {
   "cell_type": "code",
   "execution_count": 32,
   "metadata": {
    "collapsed": false
   },
   "outputs": [
    {
     "name": "stdout",
     "output_type": "stream",
     "text": [
      "1779\n"
     ]
    }
   ],
   "source": [
    "data_98['AgricultureGroup']= pd.cut(data_98.Agriculture, [0,10,20,30,40,50,63]) \n",
    "print(len(data_98['AgricultureGroup']))"
   ]
  },
  {
   "cell_type": "markdown",
   "metadata": {},
   "source": [
    "### Agriculture grupları için frekans dağılımları:"
   ]
  },
  {
   "cell_type": "code",
   "execution_count": 33,
   "metadata": {
    "collapsed": false
   },
   "outputs": [
    {
     "data": {
      "text/plain": [
       "count        1768\n",
       "unique          6\n",
       "top       (0, 10]\n",
       "freq          853\n",
       "Name: AgricultureGroup, dtype: object"
      ]
     },
     "execution_count": 33,
     "metadata": {},
     "output_type": "execute_result"
    }
   ],
   "source": [
    "data_98['AgricultureGroup']= data_98['AgricultureGroup'].astype('category')\n",
    "data_98['AgricultureGroup'].describe()"
   ]
  },
  {
   "cell_type": "code",
   "execution_count": 34,
   "metadata": {
    "collapsed": false
   },
   "outputs": [
    {
     "name": "stdout",
     "output_type": "stream",
     "text": [
      "(0, 10]     0.479483\n",
      "(10, 20]    0.218662\n",
      "(20, 30]    0.147274\n",
      "(30, 40]    0.092187\n",
      "(40, 50]    0.041596\n",
      "(50, 63]    0.014615\n",
      "dtype: float64\n"
     ]
    }
   ],
   "source": [
    "AgricultureGroupP= data_98['AgricultureGroup'].value_counts(sort= False, normalize= True) \n",
    "print(AgricultureGroupP)"
   ]
  },
  {
   "cell_type": "code",
   "execution_count": 35,
   "metadata": {
    "collapsed": false
   },
   "outputs": [
    {
     "data": {
      "image/png": "[encoded data removed]",
      "text/plain": [
       "<matplotlib.figure.Figure at 0x102d92ecc18>"
      ]
     },
     "metadata": {},
     "output_type": "display_data"
    }
   ],
   "source": [
    "seaborn.countplot(x= 'AgricultureGroup', data= data_98)\n",
    "plt.xlabel('Agriculture grupları')\n",
    "plt.title('Her Cholesterol değeri için satır sayısı')\n",
    "plt.show()"
   ]
  },
  {
   "cell_type": "markdown",
   "metadata": {},
   "source": [
    "### Cholesterol(in blood) verilerinin yeniden adlandırma:"
   ]
  },
  {
   "cell_type": "code",
   "execution_count": 36,
   "metadata": {
    "collapsed": false
   },
   "outputs": [
    {
     "data": {
      "image/png": "[encoded data removed]",
      "text/plain": [
       "<matplotlib.figure.Figure at 0x102d939e400>"
      ]
     },
     "metadata": {},
     "output_type": "display_data"
    }
   ],
   "source": [
    "data2=data_98\n",
    "def CholesterolGroups(row):\n",
    "   if row['Cholesterol'] > 0 and row['Cholesterol']<= 4.7 :\n",
    "      return 'Normal'\n",
    "   if row['Cholesterol'] > 4.7:\n",
    "      return 'yüksek'\n",
    "\n",
    "\n",
    "    \n",
    "data2['CholesterolBirim'] = data2.apply(lambda row: CholesterolGroups (row),axis=1)\n",
    "\n",
    "seaborn.factorplot(x= 'CholesterolBirim', y= 'Agriculture', data= data2, kind= \"bar\", ci=None)\n",
    "plt.xlabel('Women Cholesterol in blood')\n",
    "plt.ylabel('Agriculture % GDP')\n",
    "plt.show()"
   ]
  },
  {
   "cell_type": "markdown",
   "metadata": {},
   "source": [
    "### Agriculture ve Cholesterol verileri arasındaki ilişki grafiği:"
   ]
  },
  {
   "cell_type": "code",
   "execution_count": 37,
   "metadata": {
    "collapsed": false
   },
   "outputs": [
    {
     "data": {
      "text/plain": [
       "<matplotlib.axes._subplots.AxesSubplot at 0x102d928e160>"
      ]
     },
     "execution_count": 37,
     "metadata": {},
     "output_type": "execute_result"
    },
    {
     "data": {
      "image/png": "[encoded data removed]",
      "text/plain": [
       "<matplotlib.figure.Figure at 0x102d939e978>"
      ]
     },
     "metadata": {},
     "output_type": "display_data"
    }
   ],
   "source": [
    "seaborn.regplot(x=\"Agriculture\", y=\"Cholesterol\", fit_reg= False, data=data)"
   ]
  },
  {
   "cell_type": "markdown",
   "metadata": {},
   "source": [
    "### Agriculture ve Cholesterol verileri arasındaki ilişki grafiği(1998 ve sonrası):"
   ]
  },
  {
   "cell_type": "code",
   "execution_count": 38,
   "metadata": {
    "collapsed": false
   },
   "outputs": [
    {
     "data": {
      "text/plain": [
       "<matplotlib.axes._subplots.AxesSubplot at 0x102d92e9048>"
      ]
     },
     "execution_count": 38,
     "metadata": {},
     "output_type": "execute_result"
    },
    {
     "data": {
      "image/png": "[encoded data removed]",
      "text/plain": [
       "<matplotlib.figure.Figure at 0x102d9400b00>"
      ]
     },
     "metadata": {},
     "output_type": "display_data"
    }
   ],
   "source": [
    "seaborn.regplot(x=\"Agriculture\", y=\"Cholesterol\", fit_reg= False, data=data_98)"
   ]
  },
  {
   "cell_type": "markdown",
   "metadata": {},
   "source": [
    "### Gruplanmış Agriculture ve Cholesterol verileri arasındaki ilişki grafiği:"
   ]
  },
  {
   "cell_type": "code",
   "execution_count": 39,
   "metadata": {
    "collapsed": false
   },
   "outputs": [
    {
     "data": {
      "text/plain": [
       "<matplotlib.axes._subplots.AxesSubplot at 0x102d943ccf8>"
      ]
     },
     "execution_count": 39,
     "metadata": {},
     "output_type": "execute_result"
    },
    {
     "data": {
      "image/png": "[encoded data removed]",
      "text/plain": [
       "<matplotlib.figure.Figure at 0x102d9473198>"
      ]
     },
     "metadata": {},
     "output_type": "display_data"
    }
   ],
   "source": [
    "seaborn.stripplot(x=\"AgricultureGroup\", y=\"Cholesterol\", data=data_98)"
   ]
  },
  {
   "cell_type": "code",
   "execution_count": 40,
   "metadata": {
    "collapsed": false
   },
   "outputs": [
    {
     "data": {
      "text/plain": [
       "<matplotlib.axes._subplots.AxesSubplot at 0x102d949e0b8>"
      ]
     },
     "execution_count": 40,
     "metadata": {},
     "output_type": "execute_result"
    },
    {
     "data": {
      "image/png": "[encoded data removed]",
      "text/plain": [
       "<matplotlib.figure.Figure at 0x102d94d0ac8>"
      ]
     },
     "metadata": {},
     "output_type": "display_data"
    }
   ],
   "source": [
    "seaborn.swarmplot(x=\"AgricultureGroup\", y=\"Cholesterol\", data=data_98)"
   ]
  },
  {
   "cell_type": "code",
   "execution_count": 41,
   "metadata": {
    "collapsed": false
   },
   "outputs": [
    {
     "data": {
      "text/plain": [
       "<matplotlib.axes._subplots.AxesSubplot at 0x102d950b898>"
      ]
     },
     "execution_count": 41,
     "metadata": {},
     "output_type": "execute_result"
    },
    {
     "data": {
      "image/png": "[encoded data removed]",
      "text/plain": [
       "<matplotlib.figure.Figure at 0x102d942f160>"
      ]
     },
     "metadata": {},
     "output_type": "display_data"
    }
   ],
   "source": [
    "data_98.boxplot(column='Cholesterol', by = 'AgricultureGroup')"
   ]
  },
  {
   "cell_type": "markdown",
   "metadata": {},
   "source": [
    "### Gruplanmış Cholesterol ve Agriculture verileri arasındaki ilişki grafiği:"
   ]
  },
  {
   "cell_type": "code",
   "execution_count": 42,
   "metadata": {
    "collapsed": false
   },
   "outputs": [
    {
     "data": {
      "text/plain": [
       "<matplotlib.axes._subplots.AxesSubplot at 0x102d94f1198>"
      ]
     },
     "execution_count": 42,
     "metadata": {},
     "output_type": "execute_result"
    },
    {
     "data": {
      "image/png": "[encoded data removed]",
      "text/plain": [
       "<matplotlib.figure.Figure at 0x102d95bd0b8>"
      ]
     },
     "metadata": {},
     "output_type": "display_data"
    }
   ],
   "source": [
    "data_98.boxplot(column='Agriculture', by = 'CholesterolGroup')"
   ]
  },
  {
   "cell_type": "markdown",
   "metadata": {},
   "source": [
    "### Kabarcık grafiğinde nüfus bilgileri de dikkate alarak grafik üretilecek:\n",
    "\n",
    "İlk aşamada yerleşim yerlerinin nüfus bilgilerinin bulunduğu csv dosyasını okunup, Agriculture ve Cholesterol veri setiyle birleştirilecektir."
   ]
  },
  {
   "cell_type": "code",
   "execution_count": 43,
   "metadata": {
    "collapsed": false
   },
   "outputs": [
    {
     "data": {
      "text/plain": [
       "Area                 object\n",
       "Year                  int64\n",
       "Cholesterol         float64\n",
       "Agriculture         float64\n",
       "CholesterolGroup     object\n",
       "AgricultureGroup     object\n",
       "CholesterolBirim     object\n",
       "Population            int64\n",
       "dtype: object"
      ]
     },
     "execution_count": 43,
     "metadata": {},
     "output_type": "execute_result"
    }
   ],
   "source": [
    "data_Population= pd.read_csv('population.csv')\n",
    "data_98withPopulation= pd.merge(left=data_98, right=data_Population )\n",
    "data_98withPopulation['Population']= pd.to_numeric(data_98withPopulation['Population'])\n",
    "data_98withPopulation.dtypes\n"
   ]
  },
  {
   "cell_type": "code",
   "execution_count": 44,
   "metadata": {
    "collapsed": false
   },
   "outputs": [
    {
     "data": {
      "text/html": [
       "<div>\n",
       "<table border=\"1\" class=\"dataframe\">\n",
       "  <thead>\n",
       "    <tr style=\"text-align: right;\">\n",
       "      <th></th>\n",
       "      <th>Area</th>\n",
       "      <th>Year</th>\n",
       "      <th>Cholesterol</th>\n",
       "      <th>Agriculture</th>\n",
       "      <th>CholesterolGroup</th>\n",
       "      <th>AgricultureGroup</th>\n",
       "      <th>CholesterolBirim</th>\n",
       "      <th>Population</th>\n",
       "    </tr>\n",
       "  </thead>\n",
       "  <tbody>\n",
       "    <tr>\n",
       "      <th>0</th>\n",
       "      <td>Albania</td>\n",
       "      <td>1998</td>\n",
       "      <td>4.919365</td>\n",
       "      <td>32.602719</td>\n",
       "      <td>(4.7, 5.05]</td>\n",
       "      <td>(30, 40]</td>\n",
       "      <td>yüksek</td>\n",
       "      <td>3079037</td>\n",
       "    </tr>\n",
       "    <tr>\n",
       "      <th>1</th>\n",
       "      <td>Algeria</td>\n",
       "      <td>1998</td>\n",
       "      <td>4.883001</td>\n",
       "      <td>12.533281</td>\n",
       "      <td>(4.7, 5.05]</td>\n",
       "      <td>(10, 20]</td>\n",
       "      <td>yüksek</td>\n",
       "      <td>29673694</td>\n",
       "    </tr>\n",
       "    <tr>\n",
       "      <th>2</th>\n",
       "      <td>Angola</td>\n",
       "      <td>1998</td>\n",
       "      <td>4.518808</td>\n",
       "      <td>13.033758</td>\n",
       "      <td>(4.35, 4.7]</td>\n",
       "      <td>(10, 20]</td>\n",
       "      <td>Normal</td>\n",
       "      <td>13138265</td>\n",
       "    </tr>\n",
       "    <tr>\n",
       "      <th>3</th>\n",
       "      <td>Antigua and Barbuda</td>\n",
       "      <td>1998</td>\n",
       "      <td>4.966626</td>\n",
       "      <td>3.966907</td>\n",
       "      <td>(4.7, 5.05]</td>\n",
       "      <td>(0, 10]</td>\n",
       "      <td>yüksek</td>\n",
       "      <td>74190</td>\n",
       "    </tr>\n",
       "    <tr>\n",
       "      <th>4</th>\n",
       "      <td>Argentina</td>\n",
       "      <td>1998</td>\n",
       "      <td>5.200735</td>\n",
       "      <td>5.617612</td>\n",
       "      <td>(5.05, 5.4]</td>\n",
       "      <td>(0, 10]</td>\n",
       "      <td>yüksek</td>\n",
       "      <td>36134642</td>\n",
       "    </tr>\n",
       "    <tr>\n",
       "      <th>5</th>\n",
       "      <td>Armenia</td>\n",
       "      <td>1998</td>\n",
       "      <td>4.844500</td>\n",
       "      <td>33.995728</td>\n",
       "      <td>(4.7, 5.05]</td>\n",
       "      <td>(30, 40]</td>\n",
       "      <td>yüksek</td>\n",
       "      <td>3109101</td>\n",
       "    </tr>\n",
       "    <tr>\n",
       "      <th>6</th>\n",
       "      <td>Australia</td>\n",
       "      <td>1998</td>\n",
       "      <td>5.416486</td>\n",
       "      <td>3.436779</td>\n",
       "      <td>(5.4, 5.75]</td>\n",
       "      <td>(0, 10]</td>\n",
       "      <td>yüksek</td>\n",
       "      <td>18734878</td>\n",
       "    </tr>\n",
       "  </tbody>\n",
       "</table>\n",
       "</div>"
      ],
      "text/plain": [
       "                  Area  Year  Cholesterol  Agriculture CholesterolGroup  \\\n",
       "0              Albania  1998     4.919365    32.602719      (4.7, 5.05]   \n",
       "1              Algeria  1998     4.883001    12.533281      (4.7, 5.05]   \n",
       "2               Angola  1998     4.518808    13.033758      (4.35, 4.7]   \n",
       "3  Antigua and Barbuda  1998     4.966626     3.966907      (4.7, 5.05]   \n",
       "4            Argentina  1998     5.200735     5.617612      (5.05, 5.4]   \n",
       "5              Armenia  1998     4.844500    33.995728      (4.7, 5.05]   \n",
       "6            Australia  1998     5.416486     3.436779      (5.4, 5.75]   \n",
       "\n",
       "  AgricultureGroup CholesterolBirim  Population  \n",
       "0         (30, 40]           yüksek     3079037  \n",
       "1         (10, 20]           yüksek    29673694  \n",
       "2         (10, 20]           Normal    13138265  \n",
       "3          (0, 10]           yüksek       74190  \n",
       "4          (0, 10]           yüksek    36134642  \n",
       "5         (30, 40]           yüksek     3109101  \n",
       "6          (0, 10]           yüksek    18734878  "
      ]
     },
     "execution_count": 44,
     "metadata": {},
     "output_type": "execute_result"
    }
   ],
   "source": [
    "data_98withPopulation_nomissing=data_98withPopulation.dropna(how='any')\n",
    "data_98withPopulation_nomissing.head(7)"
   ]
  },
  {
   "cell_type": "code",
   "execution_count": 45,
   "metadata": {
    "collapsed": false
   },
   "outputs": [],
   "source": [
    "data_98withPopulation_nomissing.index= range(len(data_98withPopulation_nomissing))\n",
    "data_98withPopulation_nomissing.index\n",
    "data_2008=data_98withPopulation_nomissing[data_98withPopulation_nomissing['Year']==2008]\n"
   ]
  },
  {
   "cell_type": "markdown",
   "metadata": {},
   "source": [
    "### 2008 yılına ait nüfus değerleri ile birlikte kabarcık grafiği:"
   ]
  },
  {
   "cell_type": "code",
   "execution_count": 46,
   "metadata": {
    "collapsed": false
   },
   "outputs": [
    {
     "data": {
      "image/png": "[encoded data removed]",
      "text/plain": [
       "<matplotlib.figure.Figure at 0x102da842f60>"
      ]
     },
     "metadata": {},
     "output_type": "display_data"
    }
   ],
   "source": [
    "x = data_2008['Agriculture']\n",
    "y =  data_2008['Cholesterol']\n",
    "alan = (data_2008['Population'])/500000\n",
    "renk=[]\n",
    "for i in data_2008['Agriculture']:\n",
    "    renk.append(numpy.random.rand(3))\n",
    "plt.scatter(x, y, s=alan, c=renk, alpha=0.7)\n",
    "plt.xlabel('Agriculture % GDP')\n",
    "plt.ylabel('Women Cholesterol')\n",
    "plt.title('2008 yılına ait nüfus değerleri ile birlikte')\n",
    "plt.show()"
   ]
  },
  {
   "cell_type": "code",
   "execution_count": 47,
   "metadata": {
    "collapsed": true
   },
   "outputs": [],
   "source": [
    "import statsmodels.formula.api as smf\n",
    "import statsmodels.stats.multicomp as multi \n",
    "import scipy.stats\n",
    "import numpy as np"
   ]
  },
  {
   "cell_type": "markdown",
   "metadata": {},
   "source": [
    "### Kadınların kanlarındaki kolesterol miktarı Normal ve Yüksek olmak üzere iki gruba ayrılmıştır."
   ]
  },
  {
   "cell_type": "code",
   "execution_count": 48,
   "metadata": {
    "collapsed": false
   },
   "outputs": [
    {
     "data": {
      "image/png": "[encoded data removed]",
      "text/plain": [
       "<matplotlib.figure.Figure at 0x102d96ae5c0>"
      ]
     },
     "metadata": {},
     "output_type": "display_data"
    }
   ],
   "source": [
    "data2=data_98\n",
    "def CholesterolGroups(row):\n",
    "   if row['Cholesterol'] > 0 and row['Cholesterol']<= 4.7 :\n",
    "      return \"Normal\"\n",
    "   if row['Cholesterol'] > 4.7:\n",
    "      return \"Yüksek\"\n",
    "    \n",
    "data2['CholesterolBirim'] = data2.apply(lambda row: CholesterolGroups (row),axis=1)\n",
    "seaborn.factorplot(x= 'CholesterolBirim', y= 'Agriculture', data= data2, kind= \"bar\", ci=None)\n",
    "plt.xlabel('Women Cholesterol in blood')\n",
    "plt.ylabel('Agriculture % GDP')\n",
    "plt.show()"
   ]
  },
  {
   "cell_type": "markdown",
   "metadata": {},
   "source": [
    "### Yerleşim yerlerindeki zirai üretimin ülke ekonomisindeki yüzdelik payları gruplandırıldı."
   ]
  },
  {
   "cell_type": "code",
   "execution_count": 49,
   "metadata": {
    "collapsed": false
   },
   "outputs": [
    {
     "data": {
      "image/png": "[encoded data removed]",
      "text/plain": [
       "<matplotlib.figure.Figure at 0x102d95b9f60>"
      ]
     },
     "metadata": {},
     "output_type": "display_data"
    }
   ],
   "source": [
    "def AgricultureGroups(row):\n",
    "   if row['Agriculture'] > 0 and row['Agriculture']<= 10 :\n",
    "      return 1\n",
    "   if row['Agriculture'] > 10 and row['Agriculture']<= 20 :\n",
    "      return 2\n",
    "   if row['Agriculture'] > 20 and row['Agriculture']<= 30 :\n",
    "      return 3\n",
    "   if row['Agriculture'] > 30 and row['Agriculture']<= 40 :\n",
    "      return 4\n",
    "   if row['Agriculture'] > 40 and row['Agriculture']<= 50 :\n",
    "      return 5\n",
    "   if row['Agriculture'] > 50 and row['Agriculture']<= 63 :\n",
    "      return 6 \n",
    "    \n",
    "data2['AgricultureBirim'] = data2.apply(lambda row: AgricultureGroups (row),axis=1)\n",
    "\n",
    "seaborn.factorplot(x= 'AgricultureBirim', y= 'Cholesterol', data= data2, kind= \"bar\", ci=None)\n",
    "plt.ylabel('Women Cholesterol in blood')\n",
    "plt.xlabel('Agriculture % GDP')\n",
    "plt.show()"
   ]
  },
  {
   "cell_type": "markdown",
   "metadata": {},
   "source": [
    "# CHI SQUARE TEST OF INDEPENDENCE (Ki Kare testi)\n",
    "(for CATEGORICAL TO CATEGORICAL VARIABLES)\n",
    "\n",
    "AgricultureBirim ve CholesterolBirim kategorilendirilmiş verileri kullanılmıştır."
   ]
  },
  {
   "cell_type": "markdown",
   "metadata": {},
   "source": [
    "#### CholesterolBirim: \n",
    "Normal ve Yüksek değerlerini içermektedir."
   ]
  },
  {
   "cell_type": "markdown",
   "metadata": {},
   "source": [
    "#### AgricultureBirim: \n",
    "Tarımsal üretimin milli gelirdeki yüzdelik payı 6 gruba ayrılmıştır. 1,2,3,4,5,6 değerlerini içermektedir."
   ]
  },
  {
   "cell_type": "markdown",
   "metadata": {},
   "source": [
    "### data2 içinde bulunan kategorileştirilmiş AgricultureBirim ve CholesterolBirim değerleri data3 içersine aktarılmıştır. Ki kare testi data3 üzerinde gerçekleştirilecektir."
   ]
  },
  {
   "cell_type": "code",
   "execution_count": 50,
   "metadata": {
    "collapsed": false
   },
   "outputs": [
    {
     "name": "stdout",
     "output_type": "stream",
     "text": [
      "      AgricultureBirim CholesterolBirim\n",
      "2494                 4           Yüksek\n",
      "2495                 2           Yüksek\n",
      "2496                 2           Normal\n",
      "2497                 1           Yüksek\n",
      "2498                 1           Yüksek\n",
      "2499                 4           Yüksek\n",
      "2500                 1           Yüksek\n",
      "2501                 1           Yüksek\n",
      "2502                 2           Yüksek\n",
      "2503                 1           Yüksek\n"
     ]
    }
   ],
   "source": [
    "data3= data2[['AgricultureBirim', 'CholesterolBirim']]\n",
    "print(data3[:10])"
   ]
  },
  {
   "cell_type": "markdown",
   "metadata": {},
   "source": [
    "### data3 verilerinin indexleri düzenlendi"
   ]
  },
  {
   "cell_type": "code",
   "execution_count": 51,
   "metadata": {
    "collapsed": false
   },
   "outputs": [
    {
     "data": {
      "text/plain": [
       "Int64Index([   0,    1,    2,    3,    4,    5,    6,    7,    8,    9,\n",
       "            ...\n",
       "            1769, 1770, 1771, 1772, 1773, 1774, 1775, 1776, 1777, 1778],\n",
       "           dtype='int64', length=1779)"
      ]
     },
     "execution_count": 51,
     "metadata": {},
     "output_type": "execute_result"
    }
   ],
   "source": [
    "data3.index= range(len(data3))\n",
    "data3.index"
   ]
  },
  {
   "cell_type": "code",
   "execution_count": 52,
   "metadata": {
    "collapsed": false
   },
   "outputs": [
    {
     "name": "stdout",
     "output_type": "stream",
     "text": [
      "    AgricultureBirim CholesterolBirim\n",
      "0                  4           Yüksek\n",
      "1                  2           Yüksek\n",
      "2                  2           Normal\n",
      "3                  1           Yüksek\n",
      "4                  1           Yüksek\n",
      "5                  4           Yüksek\n",
      "6                  1           Yüksek\n",
      "7                  1           Yüksek\n",
      "8                  2           Yüksek\n",
      "9                  1           Yüksek\n",
      "10                 3           Normal\n",
      "11                 1           Yüksek\n",
      "12                 2           Yüksek\n",
      "13                 1           Yüksek\n",
      "14                 2           Yüksek\n",
      "15                 4           Normal\n",
      "16                 1           Yüksek\n",
      "17                 4           Normal\n",
      "18                 2           Yüksek\n",
      "19                 2           Yüksek\n"
     ]
    }
   ],
   "source": [
    "print(data3[:20])"
   ]
  },
  {
   "cell_type": "markdown",
   "metadata": {},
   "source": [
    "### Gözlenen değerlerin olasılık tablosu"
   ]
  },
  {
   "cell_type": "code",
   "execution_count": 53,
   "metadata": {
    "collapsed": false
   },
   "outputs": [
    {
     "name": "stdout",
     "output_type": "stream",
     "text": [
      "AgricultureBirim    1    2    3    4   5   6\n",
      "CholesterolBirim                            \n",
      "Normal             71  159  185  151  73  26\n",
      "Yüksek            782  230   77   13   1   0\n"
     ]
    }
   ],
   "source": [
    "ct1=pd.crosstab(data3['CholesterolBirim'], data3['AgricultureBirim'])\n",
    "print (ct1)"
   ]
  },
  {
   "cell_type": "markdown",
   "metadata": {},
   "source": [
    "### Gözlenen değerlerin yüzdelik tablosu"
   ]
  },
  {
   "cell_type": "code",
   "execution_count": 54,
   "metadata": {
    "collapsed": false
   },
   "outputs": [
    {
     "name": "stdout",
     "output_type": "stream",
     "text": [
      "AgricultureBirim         1        2         3         4         5  6\n",
      "CholesterolBirim                                                    \n",
      "Normal            0.083236  0.40874  0.706107  0.920732  0.986486  1\n",
      "Yüksek            0.916764  0.59126  0.293893  0.079268  0.013514  0\n"
     ]
    }
   ],
   "source": [
    "colsum=ct1.sum(axis=0)\n",
    "colpct=ct1/colsum\n",
    "print(colpct)"
   ]
  },
  {
   "cell_type": "markdown",
   "metadata": {},
   "source": [
    "### Agriculture grupları arasında farklılık olup olmadığını bulmak için chi-square(ki kare) testi uygulanacaktır:\n",
    "\n",
    "Hipotezler:\n",
    "\n",
    "Ho: Agriculture grupları arasında kayda değer bir farklılık yoktur.\n",
    "\n",
    "Ha: Agriculture gruplarından en az bir grup diğerlerinden farklıdır.\n",
    "\n",
    "Yanılma düzeyi:0,05 olarak alınmıştır."
   ]
  },
  {
   "cell_type": "code",
   "execution_count": 55,
   "metadata": {
    "collapsed": false
   },
   "outputs": [
    {
     "name": "stdout",
     "output_type": "stream",
     "text": [
      "chi-square value, p value, expected counts\n",
      "(803.07145449378572, 2.5050755190759166e-171, 5, array([[ 320.83993213,  146.31504525,   98.54638009,   61.68552036,\n",
      "          27.83371041,    9.77941176],\n",
      "       [ 532.16006787,  242.68495475,  163.45361991,  102.31447964,\n",
      "          46.16628959,   16.22058824]]))\n"
     ]
    }
   ],
   "source": [
    "print ('chi-square value, p value, expected counts')\n",
    "cs1= scipy.stats.chi2_contingency(ct1)\n",
    "print (cs1)"
   ]
  },
  {
   "cell_type": "markdown",
   "metadata": {},
   "source": [
    "### Yorum: Ki kare testi sonucu bulunan p değeri eşik değerimizden daha küçük olduğu için(p<0.05) Ho hipotezi reddedildi. %5 hata olasılığı ile en az bir grubun diğerlerinden farklı olduğu için Kolesterol değerleri açısından Zirai üretim oran grupları arasında farklılık vardır. "
   ]
  },
  {
   "cell_type": "markdown",
   "metadata": {},
   "source": [
    "Tüm gruplar üzerinde gerçekleştirilen ki kare testi ile en az bir grubun diğerlerinden farklı olduğu tespit edildi. Hangi gruplar arasında farklılık olduğunu veya olmadığını tespit etmek için ki kare testi tüm grupların 2'li kombinasyonlarına uygulanacaktır.\n",
    "\n",
    "Tüm gruplara aynı anda uygulandığında Yanılma düzeyimiz 0.05'dir. 6 grup olduğundan dolayı her ikili kombinasyondan gelen p değeri için 0.05/15=0.0033 değerine göre karşılaştırma yapılacaktır. Buradaki amaç tüm yanılma payımızın 0.05 değerinin üstüne çıkmamasıdır.\n",
    "\n",
    "Her ikili kombinasyondan gelen p değeri 0.0033 değerinden küçük(p< 0.0033) ise bu iki grup arasında fark olduğu kabul edilecektir. Eğer p değerimiz 0.0033(p> 0.0033) değerinden daha yüksek ise bu iki grup arasında fark olmadığı kabul edilecektir."
   ]
  },
  {
   "cell_type": "markdown",
   "metadata": {},
   "source": [
    "### Agriculture 1. ve 2. grupların karşılaştırılması:"
   ]
  },
  {
   "cell_type": "code",
   "execution_count": 56,
   "metadata": {
    "collapsed": false
   },
   "outputs": [
    {
     "name": "stdout",
     "output_type": "stream",
     "text": [
      "Agriculture_1v2     1    2\n",
      "CholesterolBirim          \n",
      "Normal             71  159\n",
      "Yüksek            782  230\n",
      "Agriculture_1v2          1        2\n",
      "CholesterolBirim                   \n",
      "Normal            0.083236  0.40874\n",
      "Yüksek            0.916764  0.59126\n",
      "chi-square value, p value, expected counts\n",
      "(185.44624105510511, 3.1360308573636845e-42, 1, array([[ 157.96296296,   72.03703704],\n",
      "       [ 695.03703704,  316.96296296]]))\n"
     ]
    }
   ],
   "source": [
    "recode_1v2 = {1: 1, 2: 2}\n",
    "data3['Agriculture_1v2']= data3['AgricultureBirim'].map(recode_1v2)\n",
    "\n",
    "# Gözlenen sayımların olasılık tablosu\n",
    "table_1v2=pd.crosstab(data3['CholesterolBirim'], data3['Agriculture_1v2'])\n",
    "print (table_1v2)\n",
    "\n",
    "# Gözlenen sayımların yüzdelik tablosu\n",
    "colsum=table_1v2.sum(axis=0)\n",
    "colpct=table_1v2/colsum\n",
    "print(colpct)\n",
    "\n",
    "print ('chi-square value, p value, expected counts')\n",
    "cs_1v2= scipy.stats.chi2_contingency(table_1v2)\n",
    "print (cs_1v2)"
   ]
  },
  {
   "cell_type": "markdown",
   "metadata": {},
   "source": [
    "#### Yorum: 1. ve 2. grup karşılaştırması sonucundaki p değeri 0.0033 değerinden daha küçük olduğundan dolayı bu iki grup arasında farklılık vardır."
   ]
  },
  {
   "cell_type": "markdown",
   "metadata": {},
   "source": [
    "### Agriculture 1. ve 3. grupların karşılaştırılması:"
   ]
  },
  {
   "cell_type": "code",
   "execution_count": 57,
   "metadata": {
    "collapsed": false
   },
   "outputs": [
    {
     "name": "stdout",
     "output_type": "stream",
     "text": [
      "Agriculture_1v3     1    3\n",
      "CholesterolBirim          \n",
      "Normal             71  185\n",
      "Yüksek            782   77\n",
      "Agriculture_1v3          1         3\n",
      "CholesterolBirim                    \n",
      "Normal            0.083236  0.706107\n",
      "Yüksek            0.916764  0.293893\n",
      "chi-square value, p value, expected counts\n",
      "(436.11695620958153, 7.57800043656636e-97, 1, array([[ 195.84573991,   60.15426009],\n",
      "       [ 657.15426009,  201.84573991]]))\n"
     ]
    }
   ],
   "source": [
    "recode_1v3 = {1: 1, 3: 3} \n",
    "data3['Agriculture_1v3']= data3['AgricultureBirim'].map(recode_1v3)\n",
    "\n",
    "# Gözlenen sayımların olasılık tablosu\n",
    "table_1v3=pd.crosstab(data3['CholesterolBirim'], data3['Agriculture_1v3'])\n",
    "print (table_1v3)\n",
    "\n",
    "# Gözlenen sayımların yüzdelik tablosu\n",
    "colsum=table_1v3.sum(axis=0)\n",
    "colpct=table_1v3/colsum\n",
    "print(colpct)\n",
    "\n",
    "print ('chi-square value, p value, expected counts')\n",
    "cs_1v3= scipy.stats.chi2_contingency(table_1v3)\n",
    "print (cs_1v3)"
   ]
  },
  {
   "cell_type": "markdown",
   "metadata": {},
   "source": [
    "#### Yorum: 1. ve 3. grup karşılaştırması sonucundaki p değeri 0.0033 değerinden daha küçük olduğundan dolayı bu iki grup arasında farklılık vardır."
   ]
  },
  {
   "cell_type": "markdown",
   "metadata": {},
   "source": [
    "### Agriculture 1. ve 4. grupların karşılaştırılması:"
   ]
  },
  {
   "cell_type": "code",
   "execution_count": 58,
   "metadata": {
    "collapsed": false
   },
   "outputs": [
    {
     "name": "stdout",
     "output_type": "stream",
     "text": [
      "Agriculture_1v4     1    4\n",
      "CholesterolBirim          \n",
      "Normal             71  151\n",
      "Yüksek            782   13\n",
      "Agriculture_1v4          1         4\n",
      "CholesterolBirim                    \n",
      "Normal            0.083236  0.920732\n",
      "Yüksek            0.916764  0.079268\n",
      "chi-square value, p value, expected counts\n",
      "(560.50717961820499, 6.5206439313358383e-124, 1, array([[ 186.20058997,   35.79941003],\n",
      "       [ 666.79941003,  128.20058997]]))\n"
     ]
    }
   ],
   "source": [
    "recode_1v4 = {1: 1, 4: 4} \n",
    "data3['Agriculture_1v4']= data3['AgricultureBirim'].map(recode_1v4)\n",
    "\n",
    "# Gözlenen sayımların olasılık tablosu\n",
    "table_1v4=pd.crosstab(data3['CholesterolBirim'], data3['Agriculture_1v4'])\n",
    "print (table_1v4)\n",
    "\n",
    "# Gözlenen sayımların yüzdelik tablosu\n",
    "colsum=table_1v4.sum(axis=0)\n",
    "colpct=table_1v4/colsum\n",
    "print(colpct)\n",
    "\n",
    "print ('chi-square value, p value, expected counts')\n",
    "cs_1v4= scipy.stats.chi2_contingency(table_1v4)\n",
    "print (cs_1v4)"
   ]
  },
  {
   "cell_type": "markdown",
   "metadata": {},
   "source": [
    "#### Yorum: 1. ve 4. grup karşılaştırması sonucundaki p değeri 0.0033 değerinden daha küçük olduğundan dolayı bu iki grup arasında farklılık vardır."
   ]
  },
  {
   "cell_type": "markdown",
   "metadata": {},
   "source": [
    "### Agriculture 1. ve 5. grupların karşılaştırılması:"
   ]
  },
  {
   "cell_type": "code",
   "execution_count": 59,
   "metadata": {
    "collapsed": false
   },
   "outputs": [
    {
     "name": "stdout",
     "output_type": "stream",
     "text": [
      "Agriculture_1v5     1   5\n",
      "CholesterolBirim         \n",
      "Normal             71  73\n",
      "Yüksek            782   1\n",
      "Agriculture_1v5          1         5\n",
      "CholesterolBirim                    \n",
      "Normal            0.083236  0.986486\n",
      "Yüksek            0.916764  0.013514\n",
      "chi-square value, p value, expected counts\n",
      "(416.54601766154263, 1.37801415740873e-92, 1, array([[ 132.50485437,   11.49514563],\n",
      "       [ 720.49514563,   62.50485437]]))\n"
     ]
    }
   ],
   "source": [
    "recode_1v5 = {1: 1, 5: 5} \n",
    "data3['Agriculture_1v5']= data3['AgricultureBirim'].map(recode_1v5)\n",
    "\n",
    "# Gözlenen sayımların olasılık tablosu\n",
    "table_1v5=pd.crosstab(data3['CholesterolBirim'], data3['Agriculture_1v5'])\n",
    "print (table_1v5)\n",
    "\n",
    "# Gözlenen sayımların yüzdelik tablosu\n",
    "colsum=table_1v5.sum(axis=0)\n",
    "colpct=table_1v5/colsum\n",
    "print(colpct)\n",
    "\n",
    "print ('chi-square value, p value, expected counts')\n",
    "cs_1v5= scipy.stats.chi2_contingency(table_1v5)\n",
    "print (cs_1v5)"
   ]
  },
  {
   "cell_type": "markdown",
   "metadata": {},
   "source": [
    "#### Yorum: 1. ve 5. grup karşılaştırması sonucundaki p değeri 0.0033 değerinden daha küçük olduğundan dolayı bu iki grup arasında farklılık vardır."
   ]
  },
  {
   "cell_type": "markdown",
   "metadata": {},
   "source": [
    "### Agriculture 1. ve 6. grupların karşılaştırılması:"
   ]
  },
  {
   "cell_type": "code",
   "execution_count": 60,
   "metadata": {
    "collapsed": false
   },
   "outputs": [
    {
     "name": "stdout",
     "output_type": "stream",
     "text": [
      "Agriculture_1v6     1   6\n",
      "CholesterolBirim         \n",
      "Normal             71  26\n",
      "Yüksek            782   0\n",
      "Agriculture_1v6          1  6\n",
      "CholesterolBirim             \n",
      "Normal            0.083236  1\n",
      "Yüksek            0.916764  0\n",
      "chi-square value, p value, expected counts\n",
      "(206.76010406209917, 6.9943102212131851e-47, 1, array([[  94.13083049,    2.86916951],\n",
      "       [ 758.86916951,   23.13083049]]))\n"
     ]
    }
   ],
   "source": [
    "recode_1v6 = {1: 1, 6: 6} \n",
    "data3['Agriculture_1v6']= data3['AgricultureBirim'].map(recode_1v6)\n",
    "\n",
    "# Gözlenen sayımların olasılık tablosu\n",
    "table_1v6=pd.crosstab(data3['CholesterolBirim'], data3['Agriculture_1v6'])\n",
    "print (table_1v6)\n",
    "\n",
    "# Gözlenen sayımların yüzdelik tablosu\n",
    "colsum=table_1v6.sum(axis=0)\n",
    "colpct=table_1v6/colsum\n",
    "print(colpct)\n",
    "\n",
    "print ('chi-square value, p value, expected counts')\n",
    "cs_1v6= scipy.stats.chi2_contingency(table_1v6)\n",
    "print (cs_1v6)"
   ]
  },
  {
   "cell_type": "markdown",
   "metadata": {},
   "source": [
    "####  Yorum: 1. ve 6. grup karşılaştırması sonucundaki p değeri 0.0033 değerinden daha küçük olduğundan dolayı bu iki grup arasında farklılık vardır."
   ]
  },
  {
   "cell_type": "markdown",
   "metadata": {},
   "source": [
    "### Agriculture 2. ve 3. grupların karşılaştırılması:"
   ]
  },
  {
   "cell_type": "code",
   "execution_count": 61,
   "metadata": {
    "collapsed": false
   },
   "outputs": [
    {
     "name": "stdout",
     "output_type": "stream",
     "text": [
      "Agriculture_2v3     2    3\n",
      "CholesterolBirim          \n",
      "Normal            159  185\n",
      "Yüksek            230   77\n",
      "Agriculture_2v3         2         3\n",
      "CholesterolBirim                   \n",
      "Normal            0.40874  0.706107\n",
      "Yüksek            0.59126  0.293893\n",
      "chi-square value, p value, expected counts\n",
      "(54.367578752929731, 1.6628381558390346e-13, 1, array([[ 205.55453149,  138.44546851],\n",
      "       [ 183.44546851,  123.55453149]]))\n"
     ]
    }
   ],
   "source": [
    "recode_2v3 = {2: 2, 3: 3} \n",
    "data3['Agriculture_2v3']= data3['AgricultureBirim'].map(recode_2v3)\n",
    "\n",
    "# Gözlenen sayımların olasılık tablosu\n",
    "table_2v3=pd.crosstab(data3['CholesterolBirim'], data3['Agriculture_2v3'])\n",
    "print (table_2v3)\n",
    "\n",
    "# Gözlenen sayımların yüzdelik tablosu\n",
    "colsum=table_2v3.sum(axis=0)\n",
    "colpct=table_2v3/colsum\n",
    "print(colpct)\n",
    "\n",
    "print ('chi-square value, p value, expected counts')\n",
    "cs_2v3= scipy.stats.chi2_contingency(table_2v3)\n",
    "print (cs_2v3)"
   ]
  },
  {
   "cell_type": "markdown",
   "metadata": {},
   "source": [
    "#### Yorum: 2. ve 3. grup karşılaştırması sonucundaki p değeri 0.0033 değerinden daha küçük olduğundan dolayı bu iki grup arasında farklılık vardır."
   ]
  },
  {
   "cell_type": "markdown",
   "metadata": {},
   "source": [
    "### Agriculture 2. ve 4. grupların karşılaştırılması:"
   ]
  },
  {
   "cell_type": "code",
   "execution_count": 62,
   "metadata": {
    "collapsed": false
   },
   "outputs": [
    {
     "name": "stdout",
     "output_type": "stream",
     "text": [
      "Agriculture_2v4     2    4\n",
      "CholesterolBirim          \n",
      "Normal            159  151\n",
      "Yüksek            230   13\n",
      "Agriculture_2v4         2         4\n",
      "CholesterolBirim                   \n",
      "Normal            0.40874  0.920732\n",
      "Yüksek            0.59126  0.079268\n",
      "chi-square value, p value, expected counts\n",
      "(120.69568598445852, 4.4548427073881972e-28, 1, array([[ 218.06509946,   91.93490054],\n",
      "       [ 170.93490054,   72.06509946]]))\n"
     ]
    }
   ],
   "source": [
    "recode_2v4 = {2: 2, 4: 4} \n",
    "data3['Agriculture_2v4']= data3['AgricultureBirim'].map(recode_2v4)\n",
    "\n",
    "# Gözlenen sayımların olasılık tablosu\n",
    "table_2v4=pd.crosstab(data3['CholesterolBirim'], data3['Agriculture_2v4'])\n",
    "print (table_2v4)\n",
    "\n",
    "# Gözlenen sayımların yüzdelik tablosu\n",
    "colsum=table_2v4.sum(axis=0)\n",
    "colpct=table_2v4/colsum\n",
    "print(colpct)\n",
    "\n",
    "print ('chi-square value, p value, expected counts')\n",
    "cs_2v4= scipy.stats.chi2_contingency(table_2v4)\n",
    "print (cs_2v4)"
   ]
  },
  {
   "cell_type": "markdown",
   "metadata": {},
   "source": [
    "#### Yorum: 2. ve 4. grup karşılaştırması sonucundaki p değeri 0.0033 değerinden daha küçük olduğundan dolayı bu iki grup arasında farklılık vardır."
   ]
  },
  {
   "cell_type": "markdown",
   "metadata": {},
   "source": [
    "### Agriculture 2. ve 5. grupların karşılaştırılması:"
   ]
  },
  {
   "cell_type": "code",
   "execution_count": 63,
   "metadata": {
    "collapsed": false
   },
   "outputs": [
    {
     "name": "stdout",
     "output_type": "stream",
     "text": [
      "Agriculture_2v5     2   5\n",
      "CholesterolBirim         \n",
      "Normal            159  73\n",
      "Yüksek            230   1\n",
      "Agriculture_2v5         2         5\n",
      "CholesterolBirim                   \n",
      "Normal            0.40874  0.986486\n",
      "Yüksek            0.59126  0.013514\n",
      "chi-square value, p value, expected counts\n",
      "(80.716239352124632, 2.6057196761427627e-19, 1, array([[ 194.92008639,   37.07991361],\n",
      "       [ 194.07991361,   36.92008639]]))\n"
     ]
    }
   ],
   "source": [
    "recode_2v5 = {2: 2, 5: 5}\n",
    "data3['Agriculture_2v5']= data3['AgricultureBirim'].map(recode_2v5)\n",
    "\n",
    "# Gözlenen sayımların olasılık tablosu\n",
    "table_2v5=pd.crosstab(data3['CholesterolBirim'], data3['Agriculture_2v5'])\n",
    "print (table_2v5)\n",
    "\n",
    "# Gözlenen sayımların yüzdelik tablosu\n",
    "colsum=table_2v5.sum(axis=0)\n",
    "colpct=table_2v5/colsum\n",
    "print(colpct)\n",
    "\n",
    "print ('chi-square value, p value, expected counts')\n",
    "cs_2v5= scipy.stats.chi2_contingency(table_2v5)\n",
    "print (cs_2v5)"
   ]
  },
  {
   "cell_type": "markdown",
   "metadata": {},
   "source": [
    "#### Yorum: 2. ve 5. grup karşılaştırması sonucundaki p değeri 0.0033 değerinden daha küçük olduğundan dolayı bu iki grup arasında farklılık vardır."
   ]
  },
  {
   "cell_type": "markdown",
   "metadata": {},
   "source": [
    "### Agriculture 2. ve 6. grupların karşılaştırılması:"
   ]
  },
  {
   "cell_type": "code",
   "execution_count": 64,
   "metadata": {
    "collapsed": false
   },
   "outputs": [
    {
     "name": "stdout",
     "output_type": "stream",
     "text": [
      "Agriculture_2v6     2   6\n",
      "CholesterolBirim         \n",
      "Normal            159  26\n",
      "Yüksek            230   0\n",
      "Agriculture_2v6         2  6\n",
      "CholesterolBirim            \n",
      "Normal            0.40874  1\n",
      "Yüksek            0.59126  0\n",
      "chi-square value, p value, expected counts\n",
      "(32.133162194809955, 1.439589395771293e-08, 1, array([[ 173.40963855,   11.59036145],\n",
      "       [ 215.59036145,   14.40963855]]))\n"
     ]
    }
   ],
   "source": [
    "recode_2v6 = {2: 2, 6: 6} \n",
    "data3['Agriculture_2v6']= data3['AgricultureBirim'].map(recode_2v6)\n",
    "\n",
    "# Gözlenen sayımların olasılık tablosu\n",
    "table_2v6=pd.crosstab(data3['CholesterolBirim'], data3['Agriculture_2v6'])\n",
    "print (table_2v6)\n",
    "\n",
    "# Gözlenen sayımların yüzdelik tablosu\n",
    "colsum=table_2v6.sum(axis=0)\n",
    "colpct=table_2v6/colsum\n",
    "print(colpct)\n",
    "\n",
    "print ('chi-square value, p value, expected counts')\n",
    "cs_2v6= scipy.stats.chi2_contingency(table_2v6)\n",
    "print (cs_2v6)"
   ]
  },
  {
   "cell_type": "markdown",
   "metadata": {},
   "source": [
    "#### Yorum: 2. ve 6. grup karşılaştırması sonucundaki p değeri 0.0033 değerinden daha küçük olduğundan dolayı bu iki grup arasında farklılık vardır."
   ]
  },
  {
   "cell_type": "markdown",
   "metadata": {},
   "source": [
    "### Agriculture 3. ve 4. grupların karşılaştırılması:"
   ]
  },
  {
   "cell_type": "code",
   "execution_count": 65,
   "metadata": {
    "collapsed": false
   },
   "outputs": [
    {
     "name": "stdout",
     "output_type": "stream",
     "text": [
      "Agriculture_3v4     3    4\n",
      "CholesterolBirim          \n",
      "Normal            185  151\n",
      "Yüksek             77   13\n",
      "Agriculture_3v4          3         4\n",
      "CholesterolBirim                    \n",
      "Normal            0.706107  0.920732\n",
      "Yüksek            0.293893  0.079268\n",
      "chi-square value, p value, expected counts\n",
      "(26.609446855799661, 2.490231456546703e-07, 1, array([[ 206.64788732,  129.35211268],\n",
      "       [  55.35211268,   34.64788732]]))\n"
     ]
    }
   ],
   "source": [
    "recode_3v4 = {3: 3, 4: 4} \n",
    "data3['Agriculture_3v4']= data3['AgricultureBirim'].map(recode_3v4)\n",
    "\n",
    "# Gözlenen sayımların olasılık tablosu\n",
    "table_3v4=pd.crosstab(data3['CholesterolBirim'], data3['Agriculture_3v4'])\n",
    "print (table_3v4)\n",
    "\n",
    "# Gözlenen sayımların yüzdelik tablosu\n",
    "colsum=table_3v4.sum(axis=0)\n",
    "colpct=table_3v4/colsum\n",
    "print(colpct)\n",
    "\n",
    "print ('chi-square value, p value, expected counts')\n",
    "cs_3v4= scipy.stats.chi2_contingency(table_3v4)\n",
    "print (cs_3v4)"
   ]
  },
  {
   "cell_type": "markdown",
   "metadata": {},
   "source": [
    "#### Yorum: 3. ve 4. grup karşılaştırması sonucundaki p değeri 0.0033 değerinden daha küçük olduğundan dolayı bu iki grup arasında farklılık vardır."
   ]
  },
  {
   "cell_type": "markdown",
   "metadata": {},
   "source": [
    "### Agriculture 3. ve 5. grupların karşılaştırılması:"
   ]
  },
  {
   "cell_type": "code",
   "execution_count": 66,
   "metadata": {
    "collapsed": false
   },
   "outputs": [
    {
     "name": "stdout",
     "output_type": "stream",
     "text": [
      "Agriculture_3v5     3   5\n",
      "CholesterolBirim         \n",
      "Normal            185  73\n",
      "Yüksek             77   1\n",
      "Agriculture_3v5          3         5\n",
      "CholesterolBirim                    \n",
      "Normal            0.706107  0.986486\n",
      "Yüksek            0.293893  0.013514\n",
      "chi-square value, p value, expected counts\n",
      "(23.899206967554207, 1.0151357073753299e-06, 1, array([[ 201.17857143,   56.82142857],\n",
      "       [  60.82142857,   17.17857143]]))\n"
     ]
    }
   ],
   "source": [
    "recode_3v5 = {3: 3, 5: 5} \n",
    "data3['Agriculture_3v5']= data3['AgricultureBirim'].map(recode_3v5)\n",
    "\n",
    "# Gözlenen sayımların olasılık tablosu\n",
    "table_3v5=pd.crosstab(data3['CholesterolBirim'], data3['Agriculture_3v5'])\n",
    "print (table_3v5)\n",
    "\n",
    "# Gözlenen sayımların yüzdelik tablosu\n",
    "colsum=table_3v5.sum(axis=0)\n",
    "colpct=table_3v5/colsum\n",
    "print(colpct)\n",
    "\n",
    "print ('chi-square value, p value, expected counts')\n",
    "cs_3v5= scipy.stats.chi2_contingency(table_3v5)\n",
    "print (cs_3v5)"
   ]
  },
  {
   "cell_type": "markdown",
   "metadata": {},
   "source": [
    "#### Yorum: 3. ve 5. grup karşılaştırması sonucundaki p değeri 0.0033 değerinden daha küçük olduğundan dolayı bu iki grup arasında farklılık vardır."
   ]
  },
  {
   "cell_type": "markdown",
   "metadata": {},
   "source": [
    "### Agriculture 3. ve 6. grupların karşılaştırılması:"
   ]
  },
  {
   "cell_type": "code",
   "execution_count": 67,
   "metadata": {
    "collapsed": false
   },
   "outputs": [
    {
     "name": "stdout",
     "output_type": "stream",
     "text": [
      "Agriculture_3v6     3   6\n",
      "CholesterolBirim         \n",
      "Normal            185  26\n",
      "Yüksek             77   0\n",
      "Agriculture_3v6          3  6\n",
      "CholesterolBirim             \n",
      "Normal            0.706107  1\n",
      "Yüksek            0.293893  0\n",
      "chi-square value, p value, expected counts\n",
      "(8.9833038059223789, 0.0027245758174224803, 1, array([[ 191.95138889,   19.04861111],\n",
      "       [  70.04861111,    6.95138889]]))\n"
     ]
    }
   ],
   "source": [
    "recode_3v6 = {3: 3, 6: 6} \n",
    "data3['Agriculture_3v6']= data3['AgricultureBirim'].map(recode_3v6)\n",
    "\n",
    "# Gözlenen sayımların olasılık tablosu\n",
    "table_3v6=pd.crosstab(data3['CholesterolBirim'], data3['Agriculture_3v6'])\n",
    "print (table_3v6)\n",
    "\n",
    "# Gözlenen sayımların yüzdelik tablosu\n",
    "colsum=table_3v6.sum(axis=0)\n",
    "colpct=table_3v6/colsum\n",
    "print(colpct)\n",
    "\n",
    "print ('chi-square value, p value, expected counts')\n",
    "cs_3v6= scipy.stats.chi2_contingency(table_3v6)\n",
    "print (cs_3v6)"
   ]
  },
  {
   "cell_type": "markdown",
   "metadata": {},
   "source": [
    "#### Yorum: 3. ve 6. grup karşılaştırması sonucundaki p değeri 0.0033 değerinden daha küçük olduğundan dolayı bu iki grup arasında farklılık vardır."
   ]
  },
  {
   "cell_type": "markdown",
   "metadata": {},
   "source": [
    "### Agriculture 4. ve 5. grupların karşılaştırılması:"
   ]
  },
  {
   "cell_type": "code",
   "execution_count": 68,
   "metadata": {
    "collapsed": false
   },
   "outputs": [
    {
     "name": "stdout",
     "output_type": "stream",
     "text": [
      "Agriculture_4v5     4   5\n",
      "CholesterolBirim         \n",
      "Normal            151  73\n",
      "Yüksek             13   1\n",
      "Agriculture_4v5          4         5\n",
      "CholesterolBirim                    \n",
      "Normal            0.920732  0.986486\n",
      "Yüksek            0.079268  0.013514\n",
      "chi-square value, p value, expected counts\n",
      "(2.8831343729400136, 0.089511631565738117, 1, array([[ 154.35294118,   69.64705882],\n",
      "       [   9.64705882,    4.35294118]]))\n"
     ]
    }
   ],
   "source": [
    "recode_4v5 = {4: 4, 5: 5} \n",
    "data3['Agriculture_4v5']= data3['AgricultureBirim'].map(recode_4v5)\n",
    "\n",
    "# Gözlenen sayımların olasılık tablosu\n",
    "table_4v5=pd.crosstab(data3['CholesterolBirim'], data3['Agriculture_4v5'])\n",
    "print (table_4v5)\n",
    "\n",
    "# Gözlenen sayımların yüzdelik tablosu\n",
    "colsum=table_4v5.sum(axis=0)\n",
    "colpct=table_4v5/colsum\n",
    "print(colpct)\n",
    "\n",
    "print ('chi-square value, p value, expected counts')\n",
    "cs_4v5= scipy.stats.chi2_contingency(table_4v5)\n",
    "print (cs_4v5)"
   ]
  },
  {
   "cell_type": "markdown",
   "metadata": {},
   "source": [
    "#### Yorum: 4. ve 5. grup karşılaştırması sonucundaki p değeri 0.0033 değerinden daha büyük olduğundan dolayı bu iki grup arasında farklılık yoktur."
   ]
  },
  {
   "cell_type": "markdown",
   "metadata": {},
   "source": [
    "### Agriculture 4. ve 6. grupların karşılaştırılması:"
   ]
  },
  {
   "cell_type": "code",
   "execution_count": 69,
   "metadata": {
    "collapsed": false
   },
   "outputs": [
    {
     "name": "stdout",
     "output_type": "stream",
     "text": [
      "Agriculture_4v6     4   6\n",
      "CholesterolBirim         \n",
      "Normal            151  26\n",
      "Yüksek             13   0\n",
      "Agriculture_4v6          4  6\n",
      "CholesterolBirim             \n",
      "Normal            0.920732  1\n",
      "Yüksek            0.079268  0\n",
      "chi-square value, p value, expected counts\n",
      "(1.1434899012012887, 0.28491609980522337, 1, array([[ 152.77894737,   24.22105263],\n",
      "       [  11.22105263,    1.77894737]]))\n"
     ]
    }
   ],
   "source": [
    "recode_4v6 = {4: 4, 6: 6} \n",
    "data3['Agriculture_4v6']= data3['AgricultureBirim'].map(recode_4v6)\n",
    "\n",
    "# Gözlenen sayımların olasılık tablosu\n",
    "table_4v6=pd.crosstab(data3['CholesterolBirim'], data3['Agriculture_4v6'])\n",
    "print (table_4v6)\n",
    "\n",
    "# Gözlenen sayımların yüzdelik tablosu\n",
    "colsum=table_4v6.sum(axis=0)\n",
    "colpct=table_4v6/colsum\n",
    "print(colpct)\n",
    "\n",
    "print ('chi-square value, p value, expected counts')\n",
    "cs_4v6= scipy.stats.chi2_contingency(table_4v6)\n",
    "print (cs_4v6)"
   ]
  },
  {
   "cell_type": "markdown",
   "metadata": {},
   "source": [
    "#### Yorum: 4. ve 6. grup karşılaştırması sonucundaki p değeri 0.0033 değerinden daha büyük olduğundan dolayı bu iki grup arasında farklılık yoktur."
   ]
  },
  {
   "cell_type": "markdown",
   "metadata": {},
   "source": [
    "### Agriculture 5. ve 6. grupların karşılaştırılması:\n"
   ]
  },
  {
   "cell_type": "code",
   "execution_count": 70,
   "metadata": {
    "collapsed": false
   },
   "outputs": [
    {
     "name": "stdout",
     "output_type": "stream",
     "text": [
      "Agriculture_5v6    5   6\n",
      "CholesterolBirim        \n",
      "Normal            73  26\n",
      "Yüksek             1   0\n",
      "Agriculture_5v6          5  6\n",
      "CholesterolBirim             \n",
      "Normal            0.986486  1\n",
      "Yüksek            0.013514  0\n",
      "chi-square value, p value, expected counts\n",
      "(0.3024003024003023, 0.58238154512044171, 1, array([[ 73.26,  25.74],\n",
      "       [  0.74,   0.26]]))\n"
     ]
    }
   ],
   "source": [
    "recode_5v6 = {5: 5, 6: 6} \n",
    "data3['Agriculture_5v6']= data3['AgricultureBirim'].map(recode_5v6)\n",
    "\n",
    "# Gözlenen sayımların olasılık tablosu\n",
    "table_5v6=pd.crosstab(data3['CholesterolBirim'], data3['Agriculture_5v6'])\n",
    "print (table_5v6)\n",
    "\n",
    "# Gözlenen sayımların yüzdelik tablosu\n",
    "colsum=table_5v6.sum(axis=0)\n",
    "colpct=table_5v6/colsum\n",
    "print(colpct)\n",
    "\n",
    "print ('chi-square value, p value, expected counts')\n",
    "cs_5v6= scipy.stats.chi2_contingency(table_5v6)\n",
    "print (cs_5v6)"
   ]
  },
  {
   "cell_type": "markdown",
   "metadata": {},
   "source": [
    "#### Yorum: 5. ve 6. grup karşılaştırması sonucundaki p değeri 0.0033 değerinden daha büyük olduğundan dolayı bu iki grup arasında farklılık yoktur."
   ]
  },
  {
   "cell_type": "markdown",
   "metadata": {},
   "source": [
    "### Tüm ikili grup karşılaştırmalarının gerçekleştirilip gerçekleştirilmediği kontrol edildi."
   ]
  },
  {
   "cell_type": "code",
   "execution_count": 71,
   "metadata": {
    "collapsed": false
   },
   "outputs": [
    {
     "data": {
      "text/plain": [
       "AgricultureBirim    float64\n",
       "CholesterolBirim     object\n",
       "Agriculture_1v2     float64\n",
       "Agriculture_1v3     float64\n",
       "Agriculture_1v4     float64\n",
       "Agriculture_1v5     float64\n",
       "Agriculture_1v6     float64\n",
       "Agriculture_2v3     float64\n",
       "Agriculture_2v4     float64\n",
       "Agriculture_2v5     float64\n",
       "Agriculture_2v6     float64\n",
       "Agriculture_3v4     float64\n",
       "Agriculture_3v5     float64\n",
       "Agriculture_3v6     float64\n",
       "Agriculture_4v5     float64\n",
       "Agriculture_4v6     float64\n",
       "Agriculture_5v6     float64\n",
       "dtype: object"
      ]
     },
     "execution_count": 71,
     "metadata": {},
     "output_type": "execute_result"
    }
   ],
   "source": [
    "data3.dtypes"
   ]
  },
  {
   "cell_type": "markdown",
   "metadata": {},
   "source": [
    "### Her grup ikilisi için yapılan karşılaştırmalardan elde edilen p değerleri farklı bir data frame aktarıldı."
   ]
  },
  {
   "cell_type": "code",
   "execution_count": 72,
   "metadata": {
    "collapsed": false
   },
   "outputs": [
    {
     "data": {
      "text/html": [
       "<div>\n",
       "<table border=\"1\" class=\"dataframe\">\n",
       "  <thead>\n",
       "    <tr style=\"text-align: right;\">\n",
       "      <th></th>\n",
       "      <th>1</th>\n",
       "      <th>2</th>\n",
       "      <th>3</th>\n",
       "      <th>4</th>\n",
       "      <th>5</th>\n",
       "      <th>6</th>\n",
       "    </tr>\n",
       "  </thead>\n",
       "  <tbody>\n",
       "    <tr>\n",
       "      <th>1</th>\n",
       "      <td>NaN</td>\n",
       "      <td>NaN</td>\n",
       "      <td>NaN</td>\n",
       "      <td>NaN</td>\n",
       "      <td>NaN</td>\n",
       "      <td>NaN</td>\n",
       "    </tr>\n",
       "    <tr>\n",
       "      <th>2</th>\n",
       "      <td>3.136031e-42</td>\n",
       "      <td>NaN</td>\n",
       "      <td>NaN</td>\n",
       "      <td>NaN</td>\n",
       "      <td>NaN</td>\n",
       "      <td>NaN</td>\n",
       "    </tr>\n",
       "    <tr>\n",
       "      <th>3</th>\n",
       "      <td>7.578000e-97</td>\n",
       "      <td>1.662838e-13</td>\n",
       "      <td>NaN</td>\n",
       "      <td>NaN</td>\n",
       "      <td>NaN</td>\n",
       "      <td>NaN</td>\n",
       "    </tr>\n",
       "    <tr>\n",
       "      <th>4</th>\n",
       "      <td>6.520644e-124</td>\n",
       "      <td>4.454843e-28</td>\n",
       "      <td>2.490231e-07</td>\n",
       "      <td>NaN</td>\n",
       "      <td>NaN</td>\n",
       "      <td>NaN</td>\n",
       "    </tr>\n",
       "    <tr>\n",
       "      <th>5</th>\n",
       "      <td>1.378014e-92</td>\n",
       "      <td>2.605720e-19</td>\n",
       "      <td>1.015136e-06</td>\n",
       "      <td>0.089512</td>\n",
       "      <td>NaN</td>\n",
       "      <td>NaN</td>\n",
       "    </tr>\n",
       "    <tr>\n",
       "      <th>6</th>\n",
       "      <td>6.994310e-47</td>\n",
       "      <td>1.439589e-08</td>\n",
       "      <td>2.724576e-03</td>\n",
       "      <td>0.284916</td>\n",
       "      <td>0.582382</td>\n",
       "      <td>NaN</td>\n",
       "    </tr>\n",
       "  </tbody>\n",
       "</table>\n",
       "</div>"
      ],
      "text/plain": [
       "               1             2             3         4         5   6\n",
       "1            NaN           NaN           NaN       NaN       NaN NaN\n",
       "2   3.136031e-42           NaN           NaN       NaN       NaN NaN\n",
       "3   7.578000e-97  1.662838e-13           NaN       NaN       NaN NaN\n",
       "4  6.520644e-124  4.454843e-28  2.490231e-07       NaN       NaN NaN\n",
       "5   1.378014e-92  2.605720e-19  1.015136e-06  0.089512       NaN NaN\n",
       "6   6.994310e-47  1.439589e-08  2.724576e-03  0.284916  0.582382 NaN"
      ]
     },
     "execution_count": 72,
     "metadata": {},
     "output_type": "execute_result"
    }
   ],
   "source": [
    "d = {'1' : pd.Series([cs_1v2[1],cs_1v3[1],cs_1v4[1],cs_1v5[1],cs_1v6[1]], index=['2', '3','4','5','6']),\n",
    "     '2' : pd.Series([cs_2v3[1], cs_2v4[1],cs_2v5[1],cs_2v6[1]], index=['3','4','5','6']),\n",
    "     '3' : pd.Series([cs_3v4[1],cs_3v5[1],cs_3v6[1]], index=['4','5','6']),\n",
    "     '4' : pd.Series([cs_4v5[1],cs_4v6[1]], index=['5','6']),\n",
    "     '5' : pd.Series([cs_5v6[1]], index=['6']),\n",
    "     '6' : pd.Series([np.nan,np.nan,np.nan,np.nan,np.nan,np.nan], index=['1', '2', '3','4','5','6'])}\n",
    "\n",
    "df = pd.DataFrame(d)\n",
    "df"
   ]
  },
  {
   "cell_type": "markdown",
   "metadata": {},
   "source": [
    "# Her bir grup için elde edilen p değerleri tabloya yerleştirildi ve aralarında farklılık göstermeyen gruplar için olan p değerleri sarı arka plan ile işaretlendi"
   ]
  },
  {
   "cell_type": "code",
   "execution_count": 73,
   "metadata": {
    "collapsed": false
   },
   "outputs": [
    {
     "data": {
      "image/png": "[encoded data removed]",
      "text/plain": [
       "<matplotlib.figure.Figure at 0x102d96aeac8>"
      ]
     },
     "metadata": {},
     "output_type": "display_data"
    }
   ],
   "source": [
    "import matplotlib.pyplot as plt\n",
    "from matplotlib.table import Table\n",
    "import pandas\n",
    "\n",
    "def main():\n",
    "    data = pandas.DataFrame(df)\n",
    "    checkerboard_table(data)\n",
    "    plt.show()\n",
    "\n",
    "def checkerboard_table(data, fmt='{:}', bkg_colors=['yellow', 'white']):\n",
    "    fig, ax = plt.subplots()\n",
    "    ax.set_axis_off()\n",
    "    tb = Table(ax, bbox=[0,0,5,3])\n",
    "\n",
    "    nrows, ncols = data.shape\n",
    "    width, height = 1.0/nrows , 1.0/ncols\n",
    "\n",
    "    # Add cells\n",
    "    for (i,j), val in np.ndenumerate(data):\n",
    "        # Index either the first or second item of bkg_colors based on\n",
    "        # a checker board pattern\n",
    "        idx = [j % 2, (j + 1) % 2][i % 2]\n",
    "        color = bkg_colors[idx]\n",
    "\n",
    "        if val>=0.0033 :\n",
    "            color='yellow'\n",
    "        else:\n",
    "            color='white'\n",
    "                \n",
    "        if (np.isnan(val)):\n",
    "            val=\"\"\n",
    "            \n",
    "        if (i==j):\n",
    "            val=\"*\"\n",
    "        \n",
    "        tb.add_cell(i, j, width, height, text=fmt.format(val), \n",
    "                    loc='center', facecolor=color)\n",
    "\n",
    "    # Row Labels...\n",
    "    for i, label in enumerate(data.index):\n",
    "        tb.add_cell(i, -1, width, height, text=label, loc='right', \n",
    "                    edgecolor='none', facecolor='none')\n",
    "    # Column Labels...\n",
    "    for j, label in enumerate(data.columns):\n",
    "        tb.add_cell(-1, j, width, height, text=label, loc='center', \n",
    "                           edgecolor='none', facecolor='none')\n",
    "    tb.auto_set_font_size(False)\n",
    "    tb.set_fontsize(22)\n",
    "    ax.add_table(tb)\n",
    "    \n",
    "    return fig\n",
    "\n",
    "if __name__ == '__main__':\n",
    "    main()"
   ]
  },
  {
   "cell_type": "markdown",
   "metadata": {
    "collapsed": true
   },
   "source": [
    "# Ara değerlendirme:\n",
    "Kadınların kanındaki kolesterol miktarları: Normal ve Yüksek olmak üzere 2 kategoriye ayrılmıştır.\n",
    "\n",
    "Zirai üretimin ülke ekonomisindeki yüzdelik payları ise 1 en düşük,6 en yüksek olmak üzere 6 farklı kategoriye ayrılmıştır.(1,2,3,4,5,6)"
   ]
  },
  {
   "cell_type": "markdown",
   "metadata": {},
   "source": [
    "#### Hipotez:\n",
    "Zirai üretimin kadınların kolesterol değerleri üzerinde etkisi olup olmadığını bulmak için şu hipotezler oluşturulmuştur. (Yanılma düzeyi:0,05 olarak alınmıştır.)\n",
    "\n",
    "Ho: Agriculture grupları arasında kayda değer bir farklılık yoktur.\n",
    "\n",
    "Ha: Agriculture gruplarından en az bir grup diğerlerinden farklıdır.\n",
    "\n"
   ]
  },
  {
   "cell_type": "markdown",
   "metadata": {},
   "source": [
    "#### Tüm gruplar üzerinde chi-square (ki kare) testi: \n",
    "Ki kare testi uygulandığında bulunan p değeri 0.05 değerinden daha küçük olduğu için %5'lik yanılma payı ile Ho hipotezi reddedildi. En az bir grubun diğerlerinden farklı olduğu kabul edildi."
   ]
  },
  {
   "cell_type": "markdown",
   "metadata": {},
   "source": [
    "#### Hangi gruplar arasında farklılık vardır?\n",
    "Hangi gruplar arasında farklılık olduğunun tespit edilmesi için her iki grup kendi arasında karşılaştırıldı.\n",
    "\n",
    "6 adet grup olduğundan dolayı her grup için yanılma payı: 0.0033 olarak kabul edilmiştir. Grup karşılaştırmasında p değeri 0.0033 değerinden küçük olduğunda grupların farklı olduğu veya p değeri 0.0033 değerinden büyük ise grupların farklı olmadığı görülmüştür.\n",
    "\n",
    "Yukarıdaki tabloda birbirinden farklı olmayan gruplar sarı renkle işaretlenmiştir.\n",
    "4, 5 ve 6 numaralı gruplar kendi aralarında farklılık göstermemektedir. Fakat diğer gruplar arasında önemli farklılıklar bulunmaktadır."
   ]
  },
  {
   "cell_type": "markdown",
   "metadata": {},
   "source": [
    "## chimerge yöntemi:\n",
    "Veri madenciliğinde gruplar arasında fark olup olmadığının tespiti ve daha sonrasında fark olmayan grupların birleştirilme aşamasında kullanılan bir yöntemdir. Temelinde Chi square değerine göre farklılık olmayan grupların birleştirilmesi mantığı vardır.\n",
    "\n",
    "Bu yönteme göre projemdeki 6 grup içindeki 3 grupta farklılık olmadığını chi square testi ile tespit edildi. Fark olmayan bölümler birleştirilerek bu gruplar içinde tekrardan chi square testi uygulanacaktır. İkinci uygulama data4 üzerinde gerçekleştirilecektir."
   ]
  },
  {
   "cell_type": "markdown",
   "metadata": {},
   "source": [
    "### Kolesterol grupları:"
   ]
  },
  {
   "cell_type": "code",
   "execution_count": 74,
   "metadata": {
    "collapsed": false
   },
   "outputs": [
    {
     "data": {
      "image/png": "[encoded data removed]",
      "text/plain": [
       "<matplotlib.figure.Figure at 0x102d93492e8>"
      ]
     },
     "metadata": {},
     "output_type": "display_data"
    }
   ],
   "source": [
    "data4=data_98\n",
    "def CholesterolGroups(row):\n",
    "   if row['Cholesterol'] > 0 and row['Cholesterol']<= 4.7 :\n",
    "      return \"Normal\"\n",
    "   if row['Cholesterol'] > 4.7:\n",
    "      return \"Yüksek\"\n",
    "    \n",
    "data4['CholesterolBirim'] = data4.apply(lambda row: CholesterolGroups (row),axis=1)\n",
    "seaborn.factorplot(x= 'CholesterolBirim', y= 'Agriculture', data= data4, kind= \"bar\", ci=None)\n",
    "plt.xlabel('Women Cholesterol in blood')\n",
    "plt.ylabel('Agriculture % GDP')\n",
    "plt.show()"
   ]
  },
  {
   "cell_type": "markdown",
   "metadata": {},
   "source": [
    "### Zirai üretim grupları:\n",
    "    Bir önceki uygulamada hesaplanan chi square sonuçlarına göre 4,5 ve 6. gruplar birleştirildi."
   ]
  },
  {
   "cell_type": "code",
   "execution_count": 75,
   "metadata": {
    "collapsed": false
   },
   "outputs": [
    {
     "data": {
      "image/png": "[encoded data removed]",
      "text/plain": [
       "<matplotlib.figure.Figure at 0x102da840ef0>"
      ]
     },
     "metadata": {},
     "output_type": "display_data"
    }
   ],
   "source": [
    "def AgricultureGroups(row):\n",
    "   if row['Agriculture'] > 0 and row['Agriculture']<= 10 :\n",
    "      return 1\n",
    "   if row['Agriculture'] > 10 and row['Agriculture']<= 20 :\n",
    "      return 2\n",
    "   if row['Agriculture'] > 20 and row['Agriculture']<= 30 :\n",
    "      return 3\n",
    "   if row['Agriculture'] > 30 and row['Agriculture']<= 63 :\n",
    "      return 4\n",
    "  \n",
    "    \n",
    "data4['AgricultureBirim'] = data4.apply(lambda row: AgricultureGroups (row),axis=1)\n",
    "\n",
    "seaborn.factorplot(x= 'AgricultureBirim', y= 'Cholesterol', data= data4, kind= \"bar\", ci=None)\n",
    "plt.ylabel('Women Cholesterol in blood')\n",
    "plt.xlabel('Agriculture % GDP')\n",
    "plt.show()"
   ]
  },
  {
   "cell_type": "code",
   "execution_count": 76,
   "metadata": {
    "collapsed": false
   },
   "outputs": [
    {
     "name": "stdout",
     "output_type": "stream",
     "text": [
      "      AgricultureBirim CholesterolBirim\n",
      "2494                 4           Yüksek\n",
      "2495                 2           Yüksek\n",
      "2496                 2           Normal\n",
      "2497                 1           Yüksek\n",
      "2498                 1           Yüksek\n",
      "2499                 4           Yüksek\n",
      "2500                 1           Yüksek\n",
      "2501                 1           Yüksek\n",
      "2502                 2           Yüksek\n",
      "2503                 1           Yüksek\n"
     ]
    }
   ],
   "source": [
    "data4= data4[['AgricultureBirim', 'CholesterolBirim']]\n",
    "print(data4[:10])"
   ]
  },
  {
   "cell_type": "code",
   "execution_count": 77,
   "metadata": {
    "collapsed": false
   },
   "outputs": [
    {
     "data": {
      "text/plain": [
       "Int64Index([   0,    1,    2,    3,    4,    5,    6,    7,    8,    9,\n",
       "            ...\n",
       "            1769, 1770, 1771, 1772, 1773, 1774, 1775, 1776, 1777, 1778],\n",
       "           dtype='int64', length=1779)"
      ]
     },
     "execution_count": 77,
     "metadata": {},
     "output_type": "execute_result"
    }
   ],
   "source": [
    "data4.index= range(len(data4))\n",
    "data4.index"
   ]
  },
  {
   "cell_type": "markdown",
   "metadata": {},
   "source": [
    "### Gözlenen değerlerin olasılık ve yüzdelik tablosu:"
   ]
  },
  {
   "cell_type": "code",
   "execution_count": 78,
   "metadata": {
    "collapsed": false
   },
   "outputs": [
    {
     "name": "stdout",
     "output_type": "stream",
     "text": [
      "AgricultureBirim    1    2    3    4\n",
      "CholesterolBirim                    \n",
      "Normal             71  159  185  250\n",
      "Yüksek            782  230   77   14\n",
      "--------------------------------------------------------------\n",
      "AgricultureBirim         1        2         3        4\n",
      "CholesterolBirim                                      \n",
      "Normal            0.083236  0.40874  0.706107  0.94697\n",
      "Yüksek            0.916764  0.59126  0.293893  0.05303\n"
     ]
    }
   ],
   "source": [
    "ct2=pd.crosstab(data4['CholesterolBirim'], data4['AgricultureBirim'])\n",
    "print (ct2)\n",
    "colsum2=ct2.sum(axis=0)\n",
    "print(\"--------------------------------------------------------------\")\n",
    "colpct2=ct2/colsum2\n",
    "print(colpct2)"
   ]
  },
  {
   "cell_type": "markdown",
   "metadata": {},
   "source": [
    "### Agriculture grupları arasında farklılık olup olmadığını bulmak için chi-square(ki kare) testi uygulanacaktır\n",
    "\n",
    "Ho: Agriculture grupları arasında kayda değer bir farklılık yoktur.\n",
    "\n",
    "Ha: Agriculture gruplarından en az bir grup diğerlerinden farklıdır.\n",
    "\n",
    "Yanılma düzeyi:0,05 olarak alınmıştır."
   ]
  },
  {
   "cell_type": "code",
   "execution_count": 79,
   "metadata": {
    "collapsed": false
   },
   "outputs": [
    {
     "name": "stdout",
     "output_type": "stream",
     "text": [
      "chi-square value, p value, expected counts\n",
      "(801.78626937063098, 1.7735106102514932e-173, 3, array([[ 320.83993213,  146.31504525,   98.54638009,   99.29864253],\n",
      "       [ 532.16006787,  242.68495475,  163.45361991,  164.70135747]]))\n"
     ]
    }
   ],
   "source": [
    "print ('chi-square value, p value, expected counts')\n",
    "cs2= scipy.stats.chi2_contingency(ct2)\n",
    "print (cs2)"
   ]
  },
  {
   "cell_type": "markdown",
   "metadata": {},
   "source": [
    "### p değeri 0.05 değerinden daha küçük olduğu için gruplar arasında farklılık olduğu görülmektedir. Hangi gruplar arasında farklılık olduğunu tüm grupların ikili kombinleri için ki kare testi tekrardan uygulanacaktır.\n",
    "\n",
    "4 grup olduğundan dolayı her grup için yanılma payı=0.05/6=0,0083"
   ]
  },
  {
   "cell_type": "code",
   "execution_count": 80,
   "metadata": {
    "collapsed": false
   },
   "outputs": [
    {
     "name": "stdout",
     "output_type": "stream",
     "text": [
      "Agriculture_1v2     1    2\n",
      "CholesterolBirim          \n",
      "Normal             71  159\n",
      "Yüksek            782  230\n",
      "Agriculture_1v2          1        2\n",
      "CholesterolBirim                   \n",
      "Normal            0.083236  0.40874\n",
      "Yüksek            0.916764  0.59126\n",
      "chi-square value, p value, expected counts\n",
      "(185.44624105510511, 3.1360308573636845e-42, 1, array([[ 157.96296296,   72.03703704],\n",
      "       [ 695.03703704,  316.96296296]]))\n"
     ]
    }
   ],
   "source": [
    "recode2_1v2 = {1: 1, 2: 2}\n",
    "data4['Agriculture_1v2']= data4['AgricultureBirim'].map(recode2_1v2)\n",
    "\n",
    "# Gözlenen sayımların olasılık tablosu\n",
    "table2_1v2=pd.crosstab(data4['CholesterolBirim'], data4['Agriculture_1v2'])\n",
    "print (table2_1v2)\n",
    "\n",
    "# Gözlenen sayımların yüzdelik tablosu\n",
    "colsum2=table2_1v2.sum(axis=0)\n",
    "colpct2=table2_1v2/colsum2\n",
    "print(colpct2)\n",
    "\n",
    "print ('chi-square value, p value, expected counts')\n",
    "cs2_1v2= scipy.stats.chi2_contingency(table2_1v2)\n",
    "print (cs2_1v2)"
   ]
  },
  {
   "cell_type": "code",
   "execution_count": 81,
   "metadata": {
    "collapsed": false
   },
   "outputs": [
    {
     "name": "stdout",
     "output_type": "stream",
     "text": [
      "Agriculture_1v3     1    3\n",
      "CholesterolBirim          \n",
      "Normal             71  185\n",
      "Yüksek            782   77\n",
      "Agriculture_1v3          1         3\n",
      "CholesterolBirim                    \n",
      "Normal            0.083236  0.706107\n",
      "Yüksek            0.916764  0.293893\n",
      "chi-square value, p value, expected counts\n",
      "(436.11695620958153, 7.57800043656636e-97, 1, array([[ 195.84573991,   60.15426009],\n",
      "       [ 657.15426009,  201.84573991]]))\n"
     ]
    }
   ],
   "source": [
    "recode2_1v3 = {1: 1, 3: 3} \n",
    "data4['Agriculture_1v3']= data4['AgricultureBirim'].map(recode2_1v3)\n",
    "\n",
    "# Gözlenen sayımların olasılık tablosu\n",
    "table2_1v3=pd.crosstab(data4['CholesterolBirim'], data4['Agriculture_1v3'])\n",
    "print (table2_1v3)\n",
    "\n",
    "# Gözlenen sayımların yüzdelik tablosu\n",
    "colsum2=table2_1v3.sum(axis=0)\n",
    "colpct2=table2_1v3/colsum2\n",
    "print(colpct2)\n",
    "\n",
    "print ('chi-square value, p value, expected counts')\n",
    "cs2_1v3= scipy.stats.chi2_contingency(table2_1v3)\n",
    "print (cs2_1v3)"
   ]
  },
  {
   "cell_type": "code",
   "execution_count": 82,
   "metadata": {
    "collapsed": false
   },
   "outputs": [
    {
     "name": "stdout",
     "output_type": "stream",
     "text": [
      "Agriculture_1v4     1    4\n",
      "CholesterolBirim          \n",
      "Normal             71  250\n",
      "Yüksek            782   14\n",
      "Agriculture_1v4          1        4\n",
      "CholesterolBirim                   \n",
      "Normal            0.083236  0.94697\n",
      "Yüksek            0.916764  0.05303\n",
      "chi-square value, p value, expected counts\n",
      "(730.21455738688178, 8.0453631562306022e-161, 1, array([[ 245.13249776,   75.86750224],\n",
      "       [ 607.86750224,  188.13249776]]))\n"
     ]
    }
   ],
   "source": [
    "recode2_1v4 = {1: 1, 4: 4} \n",
    "data4['Agriculture_1v4']= data4['AgricultureBirim'].map(recode2_1v4)\n",
    "\n",
    "# Gözlenen sayımların olasılık tablosu\n",
    "table2_1v4=pd.crosstab(data4['CholesterolBirim'], data4['Agriculture_1v4'])\n",
    "print (table2_1v4)\n",
    "\n",
    "# Gözlenen sayımların yüzdelik tablosu\n",
    "colsum2=table2_1v4.sum(axis=0)\n",
    "colpct2=table2_1v4/colsum2\n",
    "print(colpct2)\n",
    "\n",
    "print ('chi-square value, p value, expected counts')\n",
    "cs2_1v4= scipy.stats.chi2_contingency(table2_1v4)\n",
    "print (cs2_1v4)"
   ]
  },
  {
   "cell_type": "code",
   "execution_count": 83,
   "metadata": {
    "collapsed": false
   },
   "outputs": [
    {
     "name": "stdout",
     "output_type": "stream",
     "text": [
      "Agriculture_2v3     2    3\n",
      "CholesterolBirim          \n",
      "Normal            159  185\n",
      "Yüksek            230   77\n",
      "Agriculture_2v3         2         3\n",
      "CholesterolBirim                   \n",
      "Normal            0.40874  0.706107\n",
      "Yüksek            0.59126  0.293893\n",
      "chi-square value, p value, expected counts\n",
      "(54.367578752929731, 1.6628381558390346e-13, 1, array([[ 205.55453149,  138.44546851],\n",
      "       [ 183.44546851,  123.55453149]]))\n"
     ]
    }
   ],
   "source": [
    "recode2_2v3 = {2: 2, 3: 3} \n",
    "data4['Agriculture_2v3']= data4['AgricultureBirim'].map(recode2_2v3)\n",
    "\n",
    "# Gözlenen sayımların olasılık tablosu\n",
    "table2_2v3=pd.crosstab(data4['CholesterolBirim'], data4['Agriculture_2v3'])\n",
    "print (table2_2v3)\n",
    "\n",
    "# Gözlenen sayımların yüzdelik tablosu\n",
    "colsum2=table2_2v3.sum(axis=0)\n",
    "colpct2=table2_2v3/colsum2\n",
    "print(colpct2)\n",
    "\n",
    "print ('chi-square value, p value, expected counts')\n",
    "cs2_2v3= scipy.stats.chi2_contingency(table2_2v3)\n",
    "print (cs2_2v3)"
   ]
  },
  {
   "cell_type": "code",
   "execution_count": 84,
   "metadata": {
    "collapsed": false
   },
   "outputs": [
    {
     "name": "stdout",
     "output_type": "stream",
     "text": [
      "Agriculture_2v4     2    4\n",
      "CholesterolBirim          \n",
      "Normal            159  250\n",
      "Yüksek            230   14\n",
      "Agriculture_2v4         2        4\n",
      "CholesterolBirim                  \n",
      "Normal            0.40874  0.94697\n",
      "Yüksek            0.59126  0.05303\n",
      "chi-square value, p value, expected counts\n",
      "(192.37223651439888, 9.6502709901749646e-44, 1, array([[ 243.64624809,  165.35375191],\n",
      "       [ 145.35375191,   98.64624809]]))\n"
     ]
    }
   ],
   "source": [
    "recode2_2v4 = {2: 2, 4: 4} \n",
    "data4['Agriculture_2v4']= data4['AgricultureBirim'].map(recode2_2v4)\n",
    "\n",
    "# Gözlenen sayımların olasılık tablosu\n",
    "table2_2v4=pd.crosstab(data4['CholesterolBirim'], data4['Agriculture_2v4'])\n",
    "print (table2_2v4)\n",
    "\n",
    "# Gözlenen sayımların yüzdelik tablosu\n",
    "colsum2=table2_2v4.sum(axis=0)\n",
    "colpct2=table2_2v4/colsum2\n",
    "print(colpct2)\n",
    "\n",
    "print ('chi-square value, p value, expected counts')\n",
    "cs2_2v4= scipy.stats.chi2_contingency(table2_2v4)\n",
    "print (cs2_2v4)"
   ]
  },
  {
   "cell_type": "code",
   "execution_count": 85,
   "metadata": {
    "collapsed": false
   },
   "outputs": [
    {
     "name": "stdout",
     "output_type": "stream",
     "text": [
      "Agriculture_3v4     3    4\n",
      "CholesterolBirim          \n",
      "Normal            185  250\n",
      "Yüksek             77   14\n",
      "Agriculture_3v4          3        4\n",
      "CholesterolBirim                   \n",
      "Normal            0.706107  0.94697\n",
      "Yüksek            0.293893  0.05303\n",
      "chi-square value, p value, expected counts\n",
      "(51.650992369187946, 6.6297123067415391e-13, 1, array([[ 216.6730038,  218.3269962],\n",
      "       [  45.3269962,   45.6730038]]))\n"
     ]
    }
   ],
   "source": [
    "recode2_3v4 = {3: 3, 4: 4} \n",
    "data4['Agriculture_3v4']= data4['AgricultureBirim'].map(recode2_3v4)\n",
    "\n",
    "# Gözlenen sayımların olasılık tablosu\n",
    "table2_3v4=pd.crosstab(data4['CholesterolBirim'], data4['Agriculture_3v4'])\n",
    "print (table2_3v4)\n",
    "\n",
    "# Gözlenen sayımların yüzdelik tablosu\n",
    "colsum2=table2_3v4.sum(axis=0)\n",
    "colpct2=table2_3v4/colsum2\n",
    "print(colpct2)\n",
    "\n",
    "print ('chi-square value, p value, expected counts')\n",
    "cs2_3v4= scipy.stats.chi2_contingency(table2_3v4)\n",
    "print (cs2_3v4)"
   ]
  },
  {
   "cell_type": "code",
   "execution_count": 86,
   "metadata": {
    "collapsed": false
   },
   "outputs": [
    {
     "data": {
      "text/html": [
       "<div>\n",
       "<table border=\"1\" class=\"dataframe\">\n",
       "  <thead>\n",
       "    <tr style=\"text-align: right;\">\n",
       "      <th></th>\n",
       "      <th>1</th>\n",
       "      <th>2</th>\n",
       "      <th>3</th>\n",
       "      <th>6</th>\n",
       "    </tr>\n",
       "  </thead>\n",
       "  <tbody>\n",
       "    <tr>\n",
       "      <th>1</th>\n",
       "      <td>NaN</td>\n",
       "      <td>NaN</td>\n",
       "      <td>NaN</td>\n",
       "      <td>NaN</td>\n",
       "    </tr>\n",
       "    <tr>\n",
       "      <th>2</th>\n",
       "      <td>3.136031e-42</td>\n",
       "      <td>NaN</td>\n",
       "      <td>NaN</td>\n",
       "      <td>NaN</td>\n",
       "    </tr>\n",
       "    <tr>\n",
       "      <th>3</th>\n",
       "      <td>7.578000e-97</td>\n",
       "      <td>1.662838e-13</td>\n",
       "      <td>NaN</td>\n",
       "      <td>NaN</td>\n",
       "    </tr>\n",
       "    <tr>\n",
       "      <th>4</th>\n",
       "      <td>8.045363e-161</td>\n",
       "      <td>9.650271e-44</td>\n",
       "      <td>2.490231e-07</td>\n",
       "      <td>NaN</td>\n",
       "    </tr>\n",
       "  </tbody>\n",
       "</table>\n",
       "</div>"
      ],
      "text/plain": [
       "               1             2             3   6\n",
       "1            NaN           NaN           NaN NaN\n",
       "2   3.136031e-42           NaN           NaN NaN\n",
       "3   7.578000e-97  1.662838e-13           NaN NaN\n",
       "4  8.045363e-161  9.650271e-44  2.490231e-07 NaN"
      ]
     },
     "execution_count": 86,
     "metadata": {},
     "output_type": "execute_result"
    }
   ],
   "source": [
    "d2 = {'1' : pd.Series([cs2_1v2[1],cs2_1v3[1],cs2_1v4[1]], index=['2', '3','4']),\n",
    "     '2' : pd.Series([cs2_2v3[1], cs2_2v4[1]], index=['3','4']),\n",
    "     '3' : pd.Series([cs_3v4[1]], index=['4']),\n",
    "     '6' : pd.Series([np.nan,np.nan,np.nan,np.nan], index=['1', '2', '3','4'])}\n",
    "\n",
    "df2 = pd.DataFrame(d2)\n",
    "df2"
   ]
  },
  {
   "cell_type": "markdown",
   "metadata": {},
   "source": [
    "### chi square testi p değerlerinin görselleştirilmesi:"
   ]
  },
  {
   "cell_type": "code",
   "execution_count": 87,
   "metadata": {
    "collapsed": false
   },
   "outputs": [
    {
     "data": {
      "image/png": "[encoded data removed]",
      "text/plain": [
       "<matplotlib.figure.Figure at 0x102d8da73c8>"
      ]
     },
     "metadata": {},
     "output_type": "display_data"
    }
   ],
   "source": [
    "import matplotlib.pyplot as plt\n",
    "from matplotlib.table import Table\n",
    "import pandas\n",
    "\n",
    "def main():\n",
    "    data = pandas.DataFrame(df2)\n",
    "    checkerboard_table(data)\n",
    "    plt.show()\n",
    "\n",
    "def checkerboard_table(data, fmt='{:}', bkg_colors=['yellow', 'white']):\n",
    "    fig, ax = plt.subplots()\n",
    "    ax.set_axis_off()\n",
    "    tb = Table(ax, bbox=[0,0,5,3])\n",
    "\n",
    "    nrows, ncols = data.shape\n",
    "    width, height = 1.0/nrows , 1.0/ncols\n",
    "\n",
    "    # Add cells\n",
    "    for (i,j), val in np.ndenumerate(data):\n",
    "        # Index either the first or second item of bkg_colors based on\n",
    "        # a checker board pattern\n",
    "        idx = [j % 2, (j + 1) % 2][i % 2]\n",
    "        color = bkg_colors[idx]\n",
    "\n",
    "        if val>=0.0083 :\n",
    "            color='yellow'\n",
    "        else:\n",
    "            color='white'\n",
    "                \n",
    "        if (np.isnan(val)):\n",
    "            val=\"\"\n",
    "            \n",
    "        if (i==j):\n",
    "            val=\"*\"\n",
    "        \n",
    "        tb.add_cell(i, j, width, height, text=fmt.format(val), \n",
    "                    loc='center', facecolor=color)\n",
    "\n",
    "    # Row Labels...\n",
    "    for i, label in enumerate(data.index):\n",
    "        tb.add_cell(i, -1, width, height, text=label, loc='right', \n",
    "                    edgecolor='none', facecolor='none')\n",
    "    # Column Labels...\n",
    "    for j, label in enumerate(data.columns):\n",
    "        tb.add_cell(-1, j, width, height, text=label, loc='center', \n",
    "                           edgecolor='none', facecolor='none')\n",
    "    tb.auto_set_font_size(False)\n",
    "    tb.set_fontsize(22)\n",
    "    ax.add_table(tb)\n",
    "    \n",
    "    return fig\n",
    "\n",
    "if __name__ == '__main__':\n",
    "    main()"
   ]
  },
  {
   "cell_type": "markdown",
   "metadata": {},
   "source": [
    "# SONUÇ:\n",
    "Yerleşim yerlerindeki zirai üretimin ülke ekonomisindeki yüzdelik payları ile o yerde yaşayan kadınların kanlarındaki kolesterol miktarı arasında bir ilişki olup olmadığı üzerine bir çalışma yapılmıştır."
   ]
  },
  {
   "cell_type": "markdown",
   "metadata": {},
   "source": [
    "### Gruplar:\n",
    "Kadınların kanındaki kolesterol miktarları: Normal ve Yüksek olmak üzere 2 kategoriye ayrılmıştır.\n",
    "\n",
    "İlk ki kare testinde:Zirai üretimin ülke ekonomisindeki yüzdelik payları ise 1 en düşük,6 en yüksek olmak üzere 6 farklı kategoriye ayrılmıştır.(1,2,3,4,5,6)\n",
    "\n",
    "ikinci ki kare testinde: İlk aşamada gruplar arası bulunan p değerlerine göre farklılık olmayan bölümler birleştirildi.\n",
    "Zirai üretimin ülke ekonomisindeki yüzdelik payları ise 1 en düşük,4 en yüksek olmak üzere 4 farklı kategoriye ayrılmıştır.(1,2,3,4)"
   ]
  },
  {
   "cell_type": "markdown",
   "metadata": {},
   "source": [
    "### Hipotez:\n",
    "\n",
    "Zirai üretimin kadınların kolesterol değerleri üzerinde etkisi olup olmadığını bulmak için şu hipotezler oluşturulmuştur. (Yanılma düzeyi:0,05 olarak alınmıştır.)\n",
    "\n",
    "Ho: Agriculture grupları arasında kayda değer bir farklılık yoktur.\n",
    "\n",
    "Ha: Agriculture gruplarından en az bir grup diğerlerinden farklıdır.\n"
   ]
  },
  {
   "cell_type": "markdown",
   "metadata": {},
   "source": [
    "### Tüm gruplar üzerinde chi-square (ki kare) testi:\n",
    "\n",
    "Ki kare testi uygulandığında bulunan p değeri 0.05 değerinden daha küçük olduğu için %5'lik yanılma payı ile Ho hipotezi reddedildi. En az bir grubun diğerlerinden farklı olduğu kabul edildi.\n"
   ]
  },
  {
   "cell_type": "markdown",
   "metadata": {},
   "source": [
    "### 1.UYGULAMA CHİ SQUARE - Hangi gruplar arasında farklılık vardır?\n",
    "\n",
    "Hangi gruplar arasında farklılık olduğunun tespit edilmesi için her iki grup kendi arasında karşılaştırıldı. Yukarıdaki tabloda görüldüğü üzere 6 adet grup bulunmaktadır. Hangi gruplar arasında farklılık olup olmadığı tespiti amacıyla her grup ikilisi için ki kare testi uygulanmış ve her ikili grup karşılaştırması için p değeri elde edilmiştir.\n",
    "\n",
    "6 adet grup olduğundan dolayı her grup için yanılma payı: 0.0033 olarak kabul edilmiştir. Grup karşılaştırmasında p değeri 0.0033 değerinden küçük olduğunda grupların farklı olduğu veya p değeri 0.0033 değerinden büyük ise grupların farklı olmadığı görülmüştür.\n",
    "\n",
    "Yukarıdaki tabloda birbirinden farklı olmayan gruplar sarı renkle işaretlenmiştir. 4, 5 ve 6 numaralı gruplar kendi aralarında farklılık göstermemektedir. Fakat diğer gruplar arasında önemli farklılıklar bulunmaktadır. \n"
   ]
  },
  {
   "cell_type": "markdown",
   "metadata": {},
   "source": [
    "### 2.UYGULAMA CHİ SQUARE - Hangi gruplar arasında farklılık vardır?\n",
    "\n",
    "1.uygulamada aralarında farklılık tespit edilmeyen gruplar birleştirildi. Tekrardan hangi gruplar arasında farklılık olduğunun tespit edilmesi için her iki grup kendi arasında karşılaştırıldı.\n",
    "\n",
    "1 adet grup olduğundan dolayı her grup için yanılma payı: 0.0083 olarak kabul edilmiştir. p değerlerine bakıldığında tüm grupların birbirinden farklı olduğu görülmüştür."
   ]
  },
  {
   "cell_type": "markdown",
   "metadata": {},
   "source": [
    "### Sonuç olarak:\n",
    "Yerleşim yerlerindeki zirai üretimin ülke ekonomisindeki yüzdelik payları ile o yerde yaşayan kadınların kanlarındaki kolesterol miktarına etkisi gruplar arasındaki farklılıklardan görülmektedir."
   ]
  }
 ],
 "metadata": {
  "kernelspec": {
   "display_name": "Python 3",
   "language": "python",
   "name": "python3"
  },
  "language_info": {
   "codemirror_mode": {
    "name": "ipython",
    "version": 3
   },
   "file_extension": ".py",
   "mimetype": "text/x-python",
   "name": "python",
   "nbconvert_exporter": "python",
   "pygments_lexer": "ipython3",
   "version": "3.6.0"
  }
 },
 "nbformat": 4,
 "nbformat_minor": 0
}
