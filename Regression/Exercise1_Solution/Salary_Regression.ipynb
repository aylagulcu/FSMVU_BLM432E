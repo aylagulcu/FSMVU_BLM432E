{
 "cells": [
  {
   "cell_type": "code",
   "execution_count": 1,
   "metadata": {
    "collapsed": true
   },
   "outputs": [],
   "source": [
    "import numpy as np\n",
    "import pandas as pd\n",
    "import matplotlib.pyplot as plt\n",
    "%matplotlib inline\n",
    "import warnings\n",
    "warnings.filterwarnings('ignore')\n",
    "import seaborn as sns\n",
    "import statsmodels.formula.api as smf "
   ]
  },
  {
   "cell_type": "code",
   "execution_count": 2,
   "metadata": {
    "collapsed": false
   },
   "outputs": [
    {
     "data": {
      "text/html": [
       "<div>\n",
       "<table border=\"1\" class=\"dataframe\">\n",
       "  <thead>\n",
       "    <tr style=\"text-align: right;\">\n",
       "      <th></th>\n",
       "      <th>sx</th>\n",
       "      <th>rk</th>\n",
       "      <th>yr</th>\n",
       "      <th>dg</th>\n",
       "      <th>yd</th>\n",
       "      <th>sl</th>\n",
       "    </tr>\n",
       "  </thead>\n",
       "  <tbody>\n",
       "    <tr>\n",
       "      <th>0</th>\n",
       "      <td>male</td>\n",
       "      <td>full</td>\n",
       "      <td>25</td>\n",
       "      <td>doctorate</td>\n",
       "      <td>35</td>\n",
       "      <td>36350</td>\n",
       "    </tr>\n",
       "    <tr>\n",
       "      <th>1</th>\n",
       "      <td>male</td>\n",
       "      <td>full</td>\n",
       "      <td>13</td>\n",
       "      <td>doctorate</td>\n",
       "      <td>22</td>\n",
       "      <td>35350</td>\n",
       "    </tr>\n",
       "    <tr>\n",
       "      <th>2</th>\n",
       "      <td>male</td>\n",
       "      <td>full</td>\n",
       "      <td>10</td>\n",
       "      <td>doctorate</td>\n",
       "      <td>23</td>\n",
       "      <td>28200</td>\n",
       "    </tr>\n",
       "    <tr>\n",
       "      <th>3</th>\n",
       "      <td>female</td>\n",
       "      <td>full</td>\n",
       "      <td>7</td>\n",
       "      <td>doctorate</td>\n",
       "      <td>27</td>\n",
       "      <td>26775</td>\n",
       "    </tr>\n",
       "    <tr>\n",
       "      <th>4</th>\n",
       "      <td>male</td>\n",
       "      <td>full</td>\n",
       "      <td>19</td>\n",
       "      <td>masters</td>\n",
       "      <td>30</td>\n",
       "      <td>33696</td>\n",
       "    </tr>\n",
       "  </tbody>\n",
       "</table>\n",
       "</div>"
      ],
      "text/plain": [
       "       sx    rk  yr         dg  yd     sl\n",
       "0    male  full  25  doctorate  35  36350\n",
       "1    male  full  13  doctorate  22  35350\n",
       "2    male  full  10  doctorate  23  28200\n",
       "3  female  full   7  doctorate  27  26775\n",
       "4    male  full  19    masters  30  33696"
      ]
     },
     "execution_count": 2,
     "metadata": {},
     "output_type": "execute_result"
    }
   ],
   "source": [
    "data = pd.read_csv('salary.csv')\n",
    "# data= data.drop('instance_no', axis=1)\n",
    "data.head()"
   ]
  },
  {
   "cell_type": "code",
   "execution_count": 3,
   "metadata": {
    "collapsed": false
   },
   "outputs": [
    {
     "data": {
      "text/plain": [
       "(47, 6)"
      ]
     },
     "execution_count": 3,
     "metadata": {},
     "output_type": "execute_result"
    }
   ],
   "source": [
    "data.shape"
   ]
  },
  {
   "cell_type": "code",
   "execution_count": 4,
   "metadata": {
    "collapsed": false
   },
   "outputs": [
    {
     "data": {
      "text/plain": [
       "Index(['sx', 'rk', 'yr', 'dg', 'yd', 'sl'], dtype='object')"
      ]
     },
     "execution_count": 4,
     "metadata": {},
     "output_type": "execute_result"
    }
   ],
   "source": [
    "data.columns"
   ]
  },
  {
   "cell_type": "code",
   "execution_count": 5,
   "metadata": {
    "collapsed": false
   },
   "outputs": [
    {
     "data": {
      "text/plain": [
       "<matplotlib.axes._subplots.AxesSubplot at 0x7ff7d0543320>"
      ]
     },
     "execution_count": 5,
     "metadata": {},
     "output_type": "execute_result"
    },
    {
     "data": {
      "image/png": "[encoded data removed]",
      "text/plain": [
       "<matplotlib.figure.Figure at 0x7ff7d3939da0>"
      ]
     },
     "metadata": {},
     "output_type": "display_data"
    }
   ],
   "source": [
    "# visualize the relationship between the features and the response using scatterplots\n",
    "# first, include only numeric features:\n",
    "fig, axs = plt.subplots(1, 2, sharey=True)\n",
    "data.plot(kind='scatter', x='yr', y='sl', ax=axs[0], figsize=(8, 6))\n",
    "data.plot(kind='scatter', x='yd', y='sl', ax=axs[1])"
   ]
  },
  {
   "cell_type": "code",
   "execution_count": 6,
   "metadata": {
    "collapsed": false
   },
   "outputs": [
    {
     "data": {
      "image/png": "[encoded data removed]",
      "text/plain": [
       "<matplotlib.figure.Figure at 0x7ff7d3939160>"
      ]
     },
     "metadata": {},
     "output_type": "display_data"
    }
   ],
   "source": [
    "# visualize the relationship between the features and the response using scatterplots\n",
    "# first, include only numeric features:\n",
    "fig, axs = plt.subplots(1, 2, sharey=True)\n",
    "scat1 = sns.regplot(x=data['yr'], y=data['sl'], scatter=True, ax=axs[0], order=1)\n",
    "scat2 = sns.regplot(x=data['yd'], y=data['sl'], scatter=True, ax=axs[1], order=1)"
   ]
  },
  {
   "cell_type": "code",
   "execution_count": 7,
   "metadata": {
    "collapsed": false
   },
   "outputs": [
    {
     "name": "stdout",
     "output_type": "stream",
     "text": [
      "                            OLS Regression Results                            \n",
      "==============================================================================\n",
      "Dep. Variable:                     sl   R-squared:                       0.727\n",
      "Model:                            OLS   Adj. R-squared:                  0.714\n",
      "Method:                 Least Squares   F-statistic:                     58.54\n",
      "Date:                Tue, 02 May 2017   Prob (F-statistic):           3.99e-13\n",
      "Time:                        13:44:35   Log-Likelihood:                -442.70\n",
      "No. Observations:                  47   AIC:                             891.4\n",
      "Df Residuals:                      44   BIC:                             896.9\n",
      "Df Model:                           2                                         \n",
      "Covariance Type:            nonrobust                                         \n",
      "==============================================================================\n",
      "                 coef    std err          t      P>|t|      [95.0% Conf. Int.]\n",
      "------------------------------------------------------------------------------\n",
      "Intercept   1.612e+04    838.168     19.232      0.000      1.44e+04  1.78e+04\n",
      "yr           550.0290    106.180      5.180      0.000       336.037   764.021\n",
      "yd           220.1021     57.778      3.809      0.000       103.657   336.547\n",
      "==============================================================================\n",
      "Omnibus:                        1.641   Durbin-Watson:                   1.578\n",
      "Prob(Omnibus):                  0.440   Jarque-Bera (JB):                1.429\n",
      "Skew:                           0.418   Prob(JB):                        0.490\n",
      "Kurtosis:                       2.821   Cond. No.                         38.2\n",
      "==============================================================================\n",
      "\n",
      "Warnings:\n",
      "[1] Standard Errors assume that the covariance matrix of the errors is correctly specified.\n"
     ]
    }
   ],
   "source": [
    "reg1 = smf.ols('sl ~ yr+yd', data=data).fit()\n",
    "print (reg1.summary())"
   ]
  },
  {
   "cell_type": "raw",
   "metadata": {},
   "source": [
    "Interpretation of the above results: \n",
    "** no association if confidence interval contains 0 with a non-significant p-value!\n",
    "** both train and test have significant p-values. \n",
    "** R2 for this linear model is reasonable, but may be improved."
   ]
  },
  {
   "cell_type": "raw",
   "metadata": {},
   "source": [
    "Check Linear Regression Assumptions:\n",
    "** Linearity: Associations between explanatory and response variables should be linear. Condition satisfied: Yes. (according to the regression plots)\n",
    "** Homoscedasticity (Constant variance): The variability in the response variable is the same at all levels of the explanatory variable. Condition satisfied: Yes. (according to the regression plots). \n",
    "** Independence of the samples\n",
    "** Normality of the Residuals: Residuals should take values around 0, and they distribute normally. Condition satisfied: Should be checked!"
   ]
  },
  {
   "cell_type": "code",
   "execution_count": 8,
   "metadata": {
    "collapsed": false
   },
   "outputs": [
    {
     "data": {
      "image/png": "[encoded data removed]",
      "text/plain": [
       "<matplotlib.figure.Figure at 0x7ff7ce0f8390>"
      ]
     },
     "metadata": {},
     "output_type": "display_data"
    }
   ],
   "source": [
    "# Normality of the residuals is checked with a q-q plot:\n",
    "import statsmodels.api as sm\n",
    "fig1=sm.qqplot(reg1.resid, line='r')"
   ]
  },
  {
   "cell_type": "code",
   "execution_count": 9,
   "metadata": {
    "collapsed": true
   },
   "outputs": [],
   "source": [
    "# interpretation of the above q-q plot: the residuals do not follow a perfect normal distribution,\n",
    "# there might be other explanatory variables that could improve our estimation!"
   ]
  },
  {
   "cell_type": "code",
   "execution_count": 10,
   "metadata": {
    "collapsed": false
   },
   "outputs": [
    {
     "data": {
      "text/plain": [
       "<matplotlib.text.Text at 0x7ff7ce085f98>"
      ]
     },
     "execution_count": 10,
     "metadata": {},
     "output_type": "execute_result"
    },
    {
     "data": {
      "image/png": "[encoded data removed]",
      "text/plain": [
       "<matplotlib.figure.Figure at 0x7ff7ce0156d8>"
      ]
     },
     "metadata": {},
     "output_type": "display_data"
    }
   ],
   "source": [
    "# simple plot of residuals\n",
    "stdres=pd.DataFrame(reg1.resid_pearson) # resid_pearson: standardized redisuals - N~(0,1)\n",
    "plt.plot(stdres, 'o', ls='None')\n",
    "l = plt.axhline(y=0, color='r')\n",
    "plt.ylabel('Standardized Residual')\n",
    "plt.xlabel('Observation Number')"
   ]
  },
  {
   "cell_type": "markdown",
   "metadata": {},
   "source": [
    "# Improve the model by incorporating caretgorical variables"
   ]
  },
  {
   "cell_type": "markdown",
   "metadata": {},
   "source": [
    "# Handling Categorical Predictors with Two Categories :'sx' column"
   ]
  },
  {
   "cell_type": "code",
   "execution_count": 11,
   "metadata": {
    "collapsed": false
   },
   "outputs": [
    {
     "name": "stdout",
     "output_type": "stream",
     "text": [
      "male      34\n",
      "female    13\n",
      "Name: sx, dtype: int64\n"
     ]
    }
   ],
   "source": [
    "print(data.sx.value_counts())"
   ]
  },
  {
   "cell_type": "code",
   "execution_count": 12,
   "metadata": {
    "collapsed": false
   },
   "outputs": [
    {
     "data": {
      "text/html": [
       "<div>\n",
       "<table border=\"1\" class=\"dataframe\">\n",
       "  <thead>\n",
       "    <tr style=\"text-align: right;\">\n",
       "      <th></th>\n",
       "      <th>sx</th>\n",
       "      <th>rk</th>\n",
       "      <th>yr</th>\n",
       "      <th>dg</th>\n",
       "      <th>yd</th>\n",
       "      <th>sl</th>\n",
       "      <th>IsMale</th>\n",
       "    </tr>\n",
       "  </thead>\n",
       "  <tbody>\n",
       "    <tr>\n",
       "      <th>0</th>\n",
       "      <td>male</td>\n",
       "      <td>full</td>\n",
       "      <td>25</td>\n",
       "      <td>doctorate</td>\n",
       "      <td>35</td>\n",
       "      <td>36350</td>\n",
       "      <td>1</td>\n",
       "    </tr>\n",
       "    <tr>\n",
       "      <th>1</th>\n",
       "      <td>male</td>\n",
       "      <td>full</td>\n",
       "      <td>13</td>\n",
       "      <td>doctorate</td>\n",
       "      <td>22</td>\n",
       "      <td>35350</td>\n",
       "      <td>1</td>\n",
       "    </tr>\n",
       "    <tr>\n",
       "      <th>2</th>\n",
       "      <td>male</td>\n",
       "      <td>full</td>\n",
       "      <td>10</td>\n",
       "      <td>doctorate</td>\n",
       "      <td>23</td>\n",
       "      <td>28200</td>\n",
       "      <td>1</td>\n",
       "    </tr>\n",
       "    <tr>\n",
       "      <th>3</th>\n",
       "      <td>female</td>\n",
       "      <td>full</td>\n",
       "      <td>7</td>\n",
       "      <td>doctorate</td>\n",
       "      <td>27</td>\n",
       "      <td>26775</td>\n",
       "      <td>0</td>\n",
       "    </tr>\n",
       "    <tr>\n",
       "      <th>4</th>\n",
       "      <td>male</td>\n",
       "      <td>full</td>\n",
       "      <td>19</td>\n",
       "      <td>masters</td>\n",
       "      <td>30</td>\n",
       "      <td>33696</td>\n",
       "      <td>1</td>\n",
       "    </tr>\n",
       "  </tbody>\n",
       "</table>\n",
       "</div>"
      ],
      "text/plain": [
       "       sx    rk  yr         dg  yd     sl  IsMale\n",
       "0    male  full  25  doctorate  35  36350       1\n",
       "1    male  full  13  doctorate  22  35350       1\n",
       "2    male  full  10  doctorate  23  28200       1\n",
       "3  female  full   7  doctorate  27  26775       0\n",
       "4    male  full  19    masters  30  33696       1"
      ]
     },
     "execution_count": 12,
     "metadata": {},
     "output_type": "execute_result"
    }
   ],
   "source": [
    "# create a new Series called IsLarge\n",
    "data['IsMale'] = data.sx.map({'male':1, 'female':0})\n",
    "data.head()"
   ]
  },
  {
   "cell_type": "code",
   "execution_count": 13,
   "metadata": {
    "collapsed": false
   },
   "outputs": [
    {
     "data": {
      "text/html": [
       "<div>\n",
       "<table border=\"1\" class=\"dataframe\">\n",
       "  <thead>\n",
       "    <tr style=\"text-align: right;\">\n",
       "      <th></th>\n",
       "      <th>rk</th>\n",
       "      <th>yr</th>\n",
       "      <th>dg</th>\n",
       "      <th>yd</th>\n",
       "      <th>sl</th>\n",
       "      <th>IsMale</th>\n",
       "    </tr>\n",
       "  </thead>\n",
       "  <tbody>\n",
       "    <tr>\n",
       "      <th>0</th>\n",
       "      <td>full</td>\n",
       "      <td>25</td>\n",
       "      <td>doctorate</td>\n",
       "      <td>35</td>\n",
       "      <td>36350</td>\n",
       "      <td>1</td>\n",
       "    </tr>\n",
       "    <tr>\n",
       "      <th>1</th>\n",
       "      <td>full</td>\n",
       "      <td>13</td>\n",
       "      <td>doctorate</td>\n",
       "      <td>22</td>\n",
       "      <td>35350</td>\n",
       "      <td>1</td>\n",
       "    </tr>\n",
       "    <tr>\n",
       "      <th>2</th>\n",
       "      <td>full</td>\n",
       "      <td>10</td>\n",
       "      <td>doctorate</td>\n",
       "      <td>23</td>\n",
       "      <td>28200</td>\n",
       "      <td>1</td>\n",
       "    </tr>\n",
       "    <tr>\n",
       "      <th>3</th>\n",
       "      <td>full</td>\n",
       "      <td>7</td>\n",
       "      <td>doctorate</td>\n",
       "      <td>27</td>\n",
       "      <td>26775</td>\n",
       "      <td>0</td>\n",
       "    </tr>\n",
       "    <tr>\n",
       "      <th>4</th>\n",
       "      <td>full</td>\n",
       "      <td>19</td>\n",
       "      <td>masters</td>\n",
       "      <td>30</td>\n",
       "      <td>33696</td>\n",
       "      <td>1</td>\n",
       "    </tr>\n",
       "  </tbody>\n",
       "</table>\n",
       "</div>"
      ],
      "text/plain": [
       "     rk  yr         dg  yd     sl  IsMale\n",
       "0  full  25  doctorate  35  36350       1\n",
       "1  full  13  doctorate  22  35350       1\n",
       "2  full  10  doctorate  23  28200       1\n",
       "3  full   7  doctorate  27  26775       0\n",
       "4  full  19    masters  30  33696       1"
      ]
     },
     "execution_count": 13,
     "metadata": {},
     "output_type": "execute_result"
    }
   ],
   "source": [
    "data.drop('sx', axis=1, inplace=True)\n",
    "data.head()"
   ]
  },
  {
   "cell_type": "code",
   "execution_count": 14,
   "metadata": {
    "collapsed": false
   },
   "outputs": [
    {
     "name": "stdout",
     "output_type": "stream",
     "text": [
      "doctorate    31\n",
      "masters      16\n",
      "Name: dg, dtype: int64\n"
     ]
    }
   ],
   "source": [
    "# another two-category variable:\n",
    "print(data.dg.value_counts())"
   ]
  },
  {
   "cell_type": "code",
   "execution_count": 15,
   "metadata": {
    "collapsed": false
   },
   "outputs": [
    {
     "data": {
      "text/html": [
       "<div>\n",
       "<table border=\"1\" class=\"dataframe\">\n",
       "  <thead>\n",
       "    <tr style=\"text-align: right;\">\n",
       "      <th></th>\n",
       "      <th>rk</th>\n",
       "      <th>yr</th>\n",
       "      <th>yd</th>\n",
       "      <th>sl</th>\n",
       "      <th>IsMale</th>\n",
       "      <th>IsMasters</th>\n",
       "    </tr>\n",
       "  </thead>\n",
       "  <tbody>\n",
       "    <tr>\n",
       "      <th>0</th>\n",
       "      <td>full</td>\n",
       "      <td>25</td>\n",
       "      <td>35</td>\n",
       "      <td>36350</td>\n",
       "      <td>1</td>\n",
       "      <td>0</td>\n",
       "    </tr>\n",
       "    <tr>\n",
       "      <th>1</th>\n",
       "      <td>full</td>\n",
       "      <td>13</td>\n",
       "      <td>22</td>\n",
       "      <td>35350</td>\n",
       "      <td>1</td>\n",
       "      <td>0</td>\n",
       "    </tr>\n",
       "    <tr>\n",
       "      <th>2</th>\n",
       "      <td>full</td>\n",
       "      <td>10</td>\n",
       "      <td>23</td>\n",
       "      <td>28200</td>\n",
       "      <td>1</td>\n",
       "      <td>0</td>\n",
       "    </tr>\n",
       "    <tr>\n",
       "      <th>3</th>\n",
       "      <td>full</td>\n",
       "      <td>7</td>\n",
       "      <td>27</td>\n",
       "      <td>26775</td>\n",
       "      <td>0</td>\n",
       "      <td>0</td>\n",
       "    </tr>\n",
       "    <tr>\n",
       "      <th>4</th>\n",
       "      <td>full</td>\n",
       "      <td>19</td>\n",
       "      <td>30</td>\n",
       "      <td>33696</td>\n",
       "      <td>1</td>\n",
       "      <td>1</td>\n",
       "    </tr>\n",
       "  </tbody>\n",
       "</table>\n",
       "</div>"
      ],
      "text/plain": [
       "     rk  yr  yd     sl  IsMale  IsMasters\n",
       "0  full  25  35  36350       1          0\n",
       "1  full  13  22  35350       1          0\n",
       "2  full  10  23  28200       1          0\n",
       "3  full   7  27  26775       0          0\n",
       "4  full  19  30  33696       1          1"
      ]
     },
     "execution_count": 15,
     "metadata": {},
     "output_type": "execute_result"
    }
   ],
   "source": [
    "data['IsMasters'] = data.dg.map({'masters':1, 'doctorate':0})\n",
    "data.drop('dg', axis=1, inplace=True)\n",
    "data.head()"
   ]
  },
  {
   "cell_type": "code",
   "execution_count": 16,
   "metadata": {
    "collapsed": false
   },
   "outputs": [
    {
     "name": "stdout",
     "output_type": "stream",
     "text": [
      "full         18\n",
      "assistant    17\n",
      "associate    12\n",
      "Name: rk, dtype: int64\n"
     ]
    }
   ],
   "source": [
    "print(data.rk.value_counts())"
   ]
  },
  {
   "cell_type": "markdown",
   "metadata": {},
   "source": [
    "## Handling Categorical Predictors with More than Two Categories:"
   ]
  },
  {
   "cell_type": "raw",
   "metadata": {
    "collapsed": true
   },
   "source": [
    "We have to represent 'rk' numerically, but we can't simply code it as 0=full, 1=assistant, 2=associate \n",
    "because that would imply an ordered relationship between associate and assistant \n",
    "(and thus associate is somehow \"twice\" the assistant category).\n",
    "Instead, we create another dummy variable:"
   ]
  },
  {
   "cell_type": "code",
   "execution_count": 17,
   "metadata": {
    "collapsed": false
   },
   "outputs": [
    {
     "data": {
      "text/html": [
       "<div>\n",
       "<table border=\"1\" class=\"dataframe\">\n",
       "  <thead>\n",
       "    <tr style=\"text-align: right;\">\n",
       "      <th></th>\n",
       "      <th>yr</th>\n",
       "      <th>yd</th>\n",
       "      <th>sl</th>\n",
       "      <th>IsMale</th>\n",
       "      <th>IsMasters</th>\n",
       "      <th>rk_associate</th>\n",
       "      <th>rk_full</th>\n",
       "    </tr>\n",
       "  </thead>\n",
       "  <tbody>\n",
       "    <tr>\n",
       "      <th>0</th>\n",
       "      <td>25</td>\n",
       "      <td>35</td>\n",
       "      <td>36350</td>\n",
       "      <td>1</td>\n",
       "      <td>0</td>\n",
       "      <td>0</td>\n",
       "      <td>1</td>\n",
       "    </tr>\n",
       "    <tr>\n",
       "      <th>1</th>\n",
       "      <td>13</td>\n",
       "      <td>22</td>\n",
       "      <td>35350</td>\n",
       "      <td>1</td>\n",
       "      <td>0</td>\n",
       "      <td>0</td>\n",
       "      <td>1</td>\n",
       "    </tr>\n",
       "    <tr>\n",
       "      <th>2</th>\n",
       "      <td>10</td>\n",
       "      <td>23</td>\n",
       "      <td>28200</td>\n",
       "      <td>1</td>\n",
       "      <td>0</td>\n",
       "      <td>0</td>\n",
       "      <td>1</td>\n",
       "    </tr>\n",
       "    <tr>\n",
       "      <th>3</th>\n",
       "      <td>7</td>\n",
       "      <td>27</td>\n",
       "      <td>26775</td>\n",
       "      <td>0</td>\n",
       "      <td>0</td>\n",
       "      <td>0</td>\n",
       "      <td>1</td>\n",
       "    </tr>\n",
       "    <tr>\n",
       "      <th>4</th>\n",
       "      <td>19</td>\n",
       "      <td>30</td>\n",
       "      <td>33696</td>\n",
       "      <td>1</td>\n",
       "      <td>1</td>\n",
       "      <td>0</td>\n",
       "      <td>1</td>\n",
       "    </tr>\n",
       "  </tbody>\n",
       "</table>\n",
       "</div>"
      ],
      "text/plain": [
       "   yr  yd     sl  IsMale  IsMasters  rk_associate  rk_full\n",
       "0  25  35  36350       1          0             0        1\n",
       "1  13  22  35350       1          0             0        1\n",
       "2  10  23  28200       1          0             0        1\n",
       "3   7  27  26775       0          0             0        1\n",
       "4  19  30  33696       1          1             0        1"
      ]
     },
     "execution_count": 17,
     "metadata": {},
     "output_type": "execute_result"
    }
   ],
   "source": [
    "# create three dummy variables using get_dummies, then exclude the first dummy column\n",
    "rk_dummies = pd.get_dummies(data.rk, prefix='rk').iloc[:, 1:]\n",
    "\n",
    "# concatenate the dummy variable columns onto the original DataFrame (axis=0 means rows, axis=1 means columns)\n",
    "data = pd.concat([data, rk_dummies], axis=1)\n",
    "data.drop('rk', axis=1, inplace=True)\n",
    "data.head()"
   ]
  },
  {
   "cell_type": "raw",
   "metadata": {
    "collapsed": true
   },
   "source": [
    "Here is how we interpret the coding:\n",
    "assistant is coded as associate=0 and full=0\n",
    "associate is coded as associate=1 and full=0\n",
    "full is coded as associate=0 and full=1\n",
    "\n",
    "Why do we only need two dummy variables, not three? Because two dummies captures all of the information about the Area feature, and implicitly defines rural as the baseline level. \n",
    "(In general, if you have a categorical feature with k levels, you create k-1 dummy variables.)\n",
    "If this is confusing, think about why we only needed one dummy variable for Size (IsLarge), not two dummy variables (IsSmall and IsLarge)."
   ]
  },
  {
   "cell_type": "code",
   "execution_count": 18,
   "metadata": {
    "collapsed": false
   },
   "outputs": [
    {
     "name": "stdout",
     "output_type": "stream",
     "text": [
      "                            OLS Regression Results                            \n",
      "==============================================================================\n",
      "Dep. Variable:                     sl   R-squared:                       0.908\n",
      "Model:                            OLS   Adj. R-squared:                  0.894\n",
      "Method:                 Least Squares   F-statistic:                     65.54\n",
      "Date:                Tue, 02 May 2017   Prob (F-statistic):           3.89e-19\n",
      "Time:                        13:44:43   Log-Likelihood:                -417.21\n",
      "No. Observations:                  47   AIC:                             848.4\n",
      "Df Residuals:                      40   BIC:                             861.4\n",
      "Df Model:                           6                                         \n",
      "Covariance Type:            nonrobust                                         \n",
      "================================================================================\n",
      "                   coef    std err          t      P>|t|      [95.0% Conf. Int.]\n",
      "--------------------------------------------------------------------------------\n",
      "Intercept     1.614e+04    662.327     24.369      0.000      1.48e+04  1.75e+04\n",
      "yr             478.7252     77.157      6.205      0.000       322.784   634.666\n",
      "yd             -88.4774     65.506     -1.351      0.184      -220.869    43.915\n",
      "IsMale          72.8210    763.577      0.095      0.924     -1470.425  1616.067\n",
      "IsMasters     1808.1915    816.315      2.215      0.033       158.356  3458.027\n",
      "rk_associate  4137.9913    988.857      4.185      0.000      2139.436  6136.547\n",
      "rk_full       9392.4145   1199.697      7.829      0.000      6967.736  1.18e+04\n",
      "==============================================================================\n",
      "Omnibus:                        8.485   Durbin-Watson:                   1.610\n",
      "Prob(Omnibus):                  0.014   Jarque-Bera (JB):                8.303\n",
      "Skew:                           0.719   Prob(JB):                       0.0157\n",
      "Kurtosis:                       4.473   Cond. No.                         115.\n",
      "==============================================================================\n",
      "\n",
      "Warnings:\n",
      "[1] Standard Errors assume that the covariance matrix of the errors is correctly specified.\n"
     ]
    }
   ],
   "source": [
    "reg2 = smf.ols('sl ~ yr+yd+IsMale+IsMasters+rk_associate+rk_full', data=data).fit()\n",
    "print (reg2.summary())"
   ]
  },
  {
   "cell_type": "code",
   "execution_count": 19,
   "metadata": {
    "collapsed": false
   },
   "outputs": [
    {
     "name": "stdout",
     "output_type": "stream",
     "text": [
      "                            OLS Regression Results                            \n",
      "==============================================================================\n",
      "Dep. Variable:                     sl   R-squared:                       0.902\n",
      "Model:                            OLS   Adj. R-squared:                  0.893\n",
      "Method:                 Least Squares   F-statistic:                     96.61\n",
      "Date:                Tue, 02 May 2017   Prob (F-statistic):           1.31e-20\n",
      "Time:                        13:44:45   Log-Likelihood:                -418.61\n",
      "No. Observations:                  47   AIC:                             847.2\n",
      "Df Residuals:                      42   BIC:                             856.5\n",
      "Df Model:                           4                                         \n",
      "Covariance Type:            nonrobust                                         \n",
      "================================================================================\n",
      "                   coef    std err          t      P>|t|      [95.0% Conf. Int.]\n",
      "--------------------------------------------------------------------------------\n",
      "Intercept     1.599e+04    512.798     31.180      0.000       1.5e+04   1.7e+04\n",
      "yr             433.8994     60.859      7.130      0.000       311.081   556.718\n",
      "IsMasters     1082.8971    641.573      1.688      0.099      -211.850  2377.644\n",
      "rk_associate  3510.6507    799.955      4.389      0.000      1896.277  5125.025\n",
      "rk_full       8224.8464    785.467     10.471      0.000      6639.711  9809.982\n",
      "==============================================================================\n",
      "Omnibus:                       10.480   Durbin-Watson:                   1.796\n",
      "Prob(Omnibus):                  0.005   Jarque-Bera (JB):               10.127\n",
      "Skew:                           0.955   Prob(JB):                      0.00632\n",
      "Kurtosis:                       4.234   Cond. No.                         33.7\n",
      "==============================================================================\n",
      "\n",
      "Warnings:\n",
      "[1] Standard Errors assume that the covariance matrix of the errors is correctly specified.\n"
     ]
    }
   ],
   "source": [
    "# exclude the variables whose p values are above alfa= 0.05:\n",
    "reg2 = smf.ols('sl ~ yr+IsMasters+rk_associate+rk_full', data=data).fit()\n",
    "print (reg2.summary())"
   ]
  },
  {
   "cell_type": "code",
   "execution_count": null,
   "metadata": {
    "collapsed": true
   },
   "outputs": [],
   "source": []
  },
  {
   "cell_type": "code",
   "execution_count": null,
   "metadata": {
    "collapsed": true
   },
   "outputs": [],
   "source": []
  },
  {
   "cell_type": "code",
   "execution_count": 29,
   "metadata": {
    "collapsed": false
   },
   "outputs": [],
   "source": [
    "# Regression using sklearn"
   ]
  },
  {
   "cell_type": "code",
   "execution_count": 20,
   "metadata": {
    "collapsed": false
   },
   "outputs": [
    {
     "name": "stderr",
     "output_type": "stream",
     "text": [
      "/home/ayla/anaconda3/lib/python3.6/site-packages/sklearn/cross_validation.py:44: DeprecationWarning: This module was deprecated in version 0.18 in favor of the model_selection module into which all the refactored classes and functions are moved. Also note that the interface of the new CV iterators are different from that of this module. This module will be removed in 0.20.\n",
      "  \"This module will be removed in 0.20.\", DeprecationWarning)\n"
     ]
    }
   ],
   "source": [
    "from sklearn import linear_model\n",
    "from sklearn.cross_validation import train_test_split"
   ]
  },
  {
   "cell_type": "code",
   "execution_count": 21,
   "metadata": {
    "collapsed": false
   },
   "outputs": [
    {
     "data": {
      "text/plain": [
       "Index(['yr', 'yd', 'sl', 'IsMale', 'IsMasters', 'rk_associate', 'rk_full'], dtype='object')"
      ]
     },
     "execution_count": 21,
     "metadata": {},
     "output_type": "execute_result"
    }
   ],
   "source": [
    "data.columns"
   ]
  },
  {
   "cell_type": "code",
   "execution_count": 22,
   "metadata": {
    "collapsed": false
   },
   "outputs": [],
   "source": [
    "regr = linear_model.LinearRegression()"
   ]
  },
  {
   "cell_type": "code",
   "execution_count": 23,
   "metadata": {
    "collapsed": true
   },
   "outputs": [],
   "source": [
    "# separate features and the response variable:\n",
    "X= data[['yr', 'yd','IsMale', 'IsMasters', 'rk_associate', 'rk_full']]\n",
    "y= data['sl']"
   ]
  },
  {
   "cell_type": "code",
   "execution_count": 24,
   "metadata": {
    "collapsed": true
   },
   "outputs": [],
   "source": [
    "# Do not train the model with all your data in order to avoid overfitting!\n",
    "# * create train and test splits or\n",
    "# * apply cross validation, which performs partitioning multiple times and returns average results"
   ]
  },
  {
   "cell_type": "code",
   "execution_count": 25,
   "metadata": {
    "collapsed": true
   },
   "outputs": [],
   "source": [
    "# create train and test partitions.\n",
    "# train_test_split function returns 4 partitions:\n",
    "X_train, X_test, y_train, y_test= train_test_split(X, y, test_size= 0.2, random_state=42) # random_state optional"
   ]
  },
  {
   "cell_type": "code",
   "execution_count": 26,
   "metadata": {
    "collapsed": false
   },
   "outputs": [
    {
     "name": "stdout",
     "output_type": "stream",
     "text": [
      "Coefficients: \n",
      " [   446.38462334    -97.92622772    215.55765812   2063.86303153\n",
      "   4297.2544519   10154.66275787]\n",
      "The intercept: \n",
      " 16079.3056015\n"
     ]
    }
   ],
   "source": [
    "# Fit linear model:\n",
    "regr.fit(X_train, y_train) \n",
    "\n",
    "print('Coefficients: \\n', regr.coef_)\n",
    "print('The intercept: \\n', regr.intercept_)"
   ]
  },
  {
   "cell_type": "code",
   "execution_count": 27,
   "metadata": {
    "collapsed": false
   },
   "outputs": [
    {
     "name": "stdout",
     "output_type": "stream",
     "text": [
      "Mean_squared_error: 3414878.58\n",
      "r2_score: 0.87\n"
     ]
    }
   ],
   "source": [
    "# Now, evaluate the model's performance using the test data:\n",
    "# Do not include your train data!\n",
    "from sklearn.metrics import mean_squared_error\n",
    "print(\"Mean_squared_error: %.2f\" % mean_squared_error(y_test, regr.predict(X_test)))\n",
    "\n",
    "from sklearn.metrics import r2_score # R² score, the coefficient of determination\n",
    "print(\"r2_score: %.2f\" % r2_score(y_test, regr.predict(X_test)))"
   ]
  },
  {
   "cell_type": "code",
   "execution_count": 28,
   "metadata": {
    "collapsed": true
   },
   "outputs": [],
   "source": [
    "# Evaluation on the test set is useful, but it may not be enough!\n",
    "# As the model gains knowledge about your test set, your evaluation metrics may no longer report \n",
    "# on the generalized performance of the model! \n",
    "\n",
    "# Cross validaton (CV) selects different test partitions each time and returns averages"
   ]
  },
  {
   "cell_type": "code",
   "execution_count": 29,
   "metadata": {
    "collapsed": false
   },
   "outputs": [
    {
     "name": "stdout",
     "output_type": "stream",
     "text": [
      "Negative Mean Squared Errors: [-10133062.004847897, -7290881.7324870722, -5603787.3358784029, -1101854.4935332416, -2869132.8047188278]\n",
      "Mean:-5399743.67\n",
      "R2 scores: [0.21351520080484188, -0.15296704126237914, -0.87883982087779633, 0.69434991582881733, -0.37101935077980319]\n",
      "r2_score: -0.10\n"
     ]
    }
   ],
   "source": [
    "# Apply CV, and see the averaged results:\n",
    "# create different models\n",
    "from sklearn.model_selection import cross_val_score\n",
    "regr1 = linear_model.LinearRegression()\n",
    "\n",
    "scoresMSE= cross_val_score(regr1, X, y, cv=5, scoring='neg_mean_squared_error') #  5-fold cross validation. \n",
    "print(\"Negative Mean Squared Errors: \"+ str(list(scoresMSE)))\n",
    "print('Mean:%.2f' %scoresMSE.mean())\n",
    "\n",
    "scoresR2= cross_val_score(regr1, X, y, cv=5, scoring='r2') #  5-fold cross validation. \n",
    "print(\"R2 scores: \"+ str(list(scoresR2)))\n",
    "print(\"r2_score: %.2f\" % scoresR2.mean())\n",
    "\n",
    "# sklearn.metrics.r2_score:\n",
    "# Best possible score is 1.0 and it can be negative (because the model can be arbitrarily worse). \n",
    "# A constant model that always predicts the expected value of y, disregarding the input features, \n",
    "# would get a R^2 score of 0.0."
   ]
  },
  {
   "cell_type": "code",
   "execution_count": 29,
   "metadata": {
    "collapsed": false
   },
   "outputs": [
    {
     "name": "stdout",
     "output_type": "stream",
     "text": [
      "Negative Mean Squared Errors: [-10134911.389093384, -7297179.2983134929, -5603791.9561503101, -1086693.9082420354, -2831165.2045511524]\n",
      "Mean:-5390748.35\n",
      "R2 scores: [0.21337165953407389, -0.15396292709683035, -0.87884136996421258, 0.69855540230415269, -0.35287647693062474]\n",
      "r2_score: -0.09\n"
     ]
    }
   ],
   "source": [
    "# try other models:\n",
    "# exclude Ismale\n",
    "X= data[['yr', 'yd','IsMasters', 'rk_associate', 'rk_full']]\n",
    "y= data['sl']\n",
    "\n",
    "regr2 = linear_model.LinearRegression()\n",
    "\n",
    "scoresMSE= cross_val_score(regr2, X, y, cv=5, scoring='neg_mean_squared_error') #  5-fold cross validation. \n",
    "print(\"Negative Mean Squared Errors: \"+ str(list(scoresMSE)))\n",
    "print('Mean:%.2f' %scoresMSE.mean())\n",
    "\n",
    "scoresR2= cross_val_score(regr2, X, y, cv=5, scoring='r2') #  5-fold cross validation. \n",
    "print(\"R2 scores: \"+ str(list(scoresR2)))\n",
    "print(\"r2_score: %.2f\" % scoresR2.mean())"
   ]
  },
  {
   "cell_type": "code",
   "execution_count": 30,
   "metadata": {
    "collapsed": false
   },
   "outputs": [
    {
     "name": "stdout",
     "output_type": "stream",
     "text": [
      "Negative Mean Squared Errors: [-10604942.994737923, -4845975.1005310845, -6511935.3783237487, -937640.28057656751, -3022833.9416942638]\n",
      "Mean:-5184665.54\n",
      "R2 scores: [0.17688982286872412, 0.23366613549709059, -1.1833240211389531, 0.73990228985541351, -0.44446566622522266]\n",
      "r2_score: -0.10\n"
     ]
    }
   ],
   "source": [
    "# exclude Ismale avd IsMasters\n",
    "X= data[['yr', 'yd', 'rk_associate', 'rk_full']]\n",
    "y= data['sl']\n",
    "\n",
    "regr3 = linear_model.LinearRegression()\n",
    "\n",
    "scoresMSE= cross_val_score(regr3, X, y, cv=5, scoring='neg_mean_squared_error') #  5-fold cross validation. \n",
    "print(\"Negative Mean Squared Errors: \"+ str(list(scoresMSE)))\n",
    "print('Mean:%.2f' %scoresMSE.mean())\n",
    "\n",
    "scoresR2= cross_val_score(regr3, X, y, cv=5, scoring='r2') #  5-fold cross validation. \n",
    "print(\"R2 scores: \"+ str(list(scoresR2)))\n",
    "print(\"r2_score: %.2f\" % scoresR2.mean())"
   ]
  },
  {
   "cell_type": "code",
   "execution_count": null,
   "metadata": {
    "collapsed": true
   },
   "outputs": [],
   "source": []
  },
  {
   "cell_type": "code",
   "execution_count": null,
   "metadata": {
    "collapsed": true
   },
   "outputs": [],
   "source": []
  },
  {
   "cell_type": "code",
   "execution_count": 31,
   "metadata": {
    "collapsed": true
   },
   "outputs": [],
   "source": [
    "# Recursive feature elimination with cross-validation:\n",
    "# automatic tuning of the number of features selected with cross-validation."
   ]
  },
  {
   "cell_type": "code",
   "execution_count": 32,
   "metadata": {
    "collapsed": true
   },
   "outputs": [],
   "source": [
    "X= data[['yr', 'yd','IsMale', 'IsMasters', 'rk_associate', 'rk_full']]\n",
    "y= data['sl']"
   ]
  },
  {
   "cell_type": "code",
   "execution_count": 33,
   "metadata": {
    "collapsed": false
   },
   "outputs": [],
   "source": [
    "import matplotlib.pyplot as plt\n",
    "# recursive feature elimination and cross-validated selection of the best number of features\n",
    "from sklearn.feature_selection import RFECV"
   ]
  },
  {
   "cell_type": "code",
   "execution_count": 34,
   "metadata": {
    "collapsed": false
   },
   "outputs": [
    {
     "name": "stdout",
     "output_type": "stream",
     "text": [
      "Optimal number of features : 6\n",
      "Index(['yr', 'yd', 'IsMale', 'IsMasters', 'rk_associate', 'rk_full'], dtype='object')\n",
      "[ True  True  True  True  True  True]\n"
     ]
    },
    {
     "data": {
      "image/png": "[encoded data removed]",
      "text/plain": [
       "<matplotlib.figure.Figure at 0x7fad436e7080>"
      ]
     },
     "metadata": {},
     "output_type": "display_data"
    }
   ],
   "source": [
    "regr = linear_model.LinearRegression()\n",
    "\n",
    "# The \"neg_mean_squared_error\" scoring:\n",
    "rfecv = RFECV(estimator=regr, step=1, cv=5, scoring='neg_mean_squared_error')\n",
    "rfecv.fit(X, y)\n",
    "print(\"Optimal number of features : %d\" % rfecv.n_features_)\n",
    "print(X.columns)\n",
    "print(rfecv.support_)\n",
    "\n",
    "# Plot number of features VS. cross-validation scores\n",
    "plt.figure()\n",
    "plt.xlabel(\"Number of features selected\")\n",
    "plt.ylabel(\"Cross validation score\")\n",
    "plt.plot(range(1, len(rfecv.grid_scores_) + 1), rfecv.grid_scores_)\n",
    "plt.show()"
   ]
  },
  {
   "cell_type": "code",
   "execution_count": 92,
   "metadata": {
    "collapsed": false
   },
   "outputs": [
    {
     "name": "stdout",
     "output_type": "stream",
     "text": [
      "Optimal number of features : 6\n",
      "[-4.26110427 -1.41220162 -0.90011683 -0.30923001 -0.15142898 -0.09899222]\n"
     ]
    },
    {
     "data": {
      "image/png": "[encoded data removed]",
      "text/plain": [
       "<matplotlib.figure.Figure at 0x7f6c57c8ae10>"
      ]
     },
     "metadata": {},
     "output_type": "display_data"
    }
   ],
   "source": [
    "regr = linear_model.LinearRegression()\n",
    "\n",
    "# The \"r2\" scoring:\n",
    "rfecv = RFECV(estimator=regr, step=1, cv=5, scoring='r2')\n",
    "rfecv.fit(X, y)\n",
    "print(\"Optimal number of features : %d\" % rfecv.n_features_)\n",
    "print(rfecv.grid_scores_)\n",
    "\n",
    "# Plot number of features VS. cross-validation scores\n",
    "plt.figure()\n",
    "plt.xlabel(\"Number of features selected\")\n",
    "plt.ylabel(\"Cross validation score\")\n",
    "plt.plot(range(1, len(rfecv.grid_scores_) + 1), rfecv.grid_scores_)\n",
    "plt.show()"
   ]
  },
  {
   "cell_type": "code",
   "execution_count": null,
   "metadata": {
    "collapsed": true
   },
   "outputs": [],
   "source": []
  }
 ],
 "metadata": {
  "kernelspec": {
   "display_name": "Python 3",
   "language": "python",
   "name": "python3"
  },
  "language_info": {
   "codemirror_mode": {
    "name": "ipython",
    "version": 3
   },
   "file_extension": ".py",
   "mimetype": "text/x-python",
   "name": "python",
   "nbconvert_exporter": "python",
   "pygments_lexer": "ipython3",
   "version": "3.6.0"
  }
 },
 "nbformat": 4,
 "nbformat_minor": 2
}
