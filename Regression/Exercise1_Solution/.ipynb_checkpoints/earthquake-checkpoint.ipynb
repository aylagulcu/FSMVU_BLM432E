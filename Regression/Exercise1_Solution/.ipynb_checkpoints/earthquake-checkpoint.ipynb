{
 "cells": [
  {
   "cell_type": "code",
   "execution_count": null,
   "metadata": {
    "collapsed": true
   },
   "outputs": [],
   "source": [
    "#https://www.kaggle.com/usgs/earthquake-database\n",
    "data_file = open('database.csv')\n",
    " \n",
    "lats, lons, magnitude = [], [], []\n",
    "for index, line in enumerate(data_file.readlines()):\n",
    "    if index > 1 and float(line.split(',')[2])>36.0 and float(line.split(',')[2])<42.0 and float(line.split(',')[3])>23.0 and float(line.split(',')[3])<48.0:\n",
    "        lats.append(float(line.split(',')[2]))\n",
    "        lons.append(float(line.split(',')[3]))\n",
    "        if float(line.split(',')[8])>6.5:\n",
    "            magnitude.append(float(line.split(',')[8]))\n",
    "#basemap import\n",
    "from mpl_toolkits.basemap import Basemap\n",
    "import numpy as np\n",
    "import matplotlib.pyplot as plt\n",
    "# llcrnrlat,llcrnrlon,urcrnrlat,urcrnrlon\n",
    "# are the lat/lon values of the lower left and upper right corners\n",
    "# of the map.\n",
    "# resolution = 'i' means use intermediate resolution coastlines.\n",
    "# lon_0, lat_0 are the central longitude and latitude of the projection.\n",
    "plt.figure(figsize=(30,15)) \n",
    "m = Basemap(llcrnrlon=22.90902,llcrnrlat=36.9025,urcrnrlon=47.7742,urcrnrlat=39.02683,\n",
    "            resolution='i',projection='cass',lon_0=-4.36,lat_0=54.7)\n",
    "# can get the identical map this way (by specifying width and\n",
    "# height instead of lat/lon corners)\n",
    "#m = Basemap(width=891185,height=1115557,\\\n",
    "#            resolution='i',projection='cass',lon_0=-4.36,lat_0=54.7)\n",
    "m.drawcountries(linewidth=2)\n",
    "m.drawcoastlines()\n",
    "\n",
    "m.fillcontinents(color='grey',lake_color='aqua')\n",
    "# draw parallels and meridians.\n",
    "x,y = m(lons, lats)\n",
    "m.plot(x, y, 'ro', markersize=4)\n",
    "\n",
    "\n",
    "for label, xpt, ypt in zip(magnitude,x,y):\n",
    "#        plt.text(xpt+10000, ypt+5000, label,style='italic',\n",
    "#        bbox={'facecolor':'blue', 'alpha':0.5, 'pad':10})\n",
    "        plt.annotate(label, xy=(xpt, ypt), xytext=(xpt+1, ypt+0.5),\n",
    "            arrowprops=dict(facecolor='black', shrink=0.05),\n",
    "            )\n",
    "magnitude     \n",
    "m.drawmapboundary(fill_color='aqua')\n",
    "plt.title(\"Significant Earthquakes, 1965-2016-(Turkey)\") \n",
    "plt.show()"
   ]
  }
 ],
 "metadata": {
  "kernelspec": {
   "display_name": "Python 3",
   "language": "python",
   "name": "python3"
  },
  "language_info": {
   "codemirror_mode": {
    "name": "ipython",
    "version": 3
   },
   "file_extension": ".py",
   "mimetype": "text/x-python",
   "name": "python",
   "nbconvert_exporter": "python",
   "pygments_lexer": "ipython3",
   "version": "3.6.0"
  }
 },
 "nbformat": 4,
 "nbformat_minor": 2
}
