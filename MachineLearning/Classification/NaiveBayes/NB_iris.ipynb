{
 "cells": [
  {
   "cell_type": "code",
   "execution_count": 1,
   "metadata": {
    "collapsed": true
   },
   "outputs": [],
   "source": [
    "from sklearn import datasets\n",
    "import pandas as pd\n",
    "from sklearn.naive_bayes import GaussianNB"
   ]
  },
  {
   "cell_type": "code",
   "execution_count": 2,
   "metadata": {
    "collapsed": false
   },
   "outputs": [],
   "source": [
    "# import some data to play with\n",
    "iris = datasets.load_iris() # iris dictionary with two keys: data and target"
   ]
  },
  {
   "cell_type": "code",
   "execution_count": 3,
   "metadata": {
    "collapsed": false
   },
   "outputs": [],
   "source": [
    "X = iris.data # returns a numpy ndarray\n",
    "y = iris.target # returns a numpy ndarray"
   ]
  },
  {
   "cell_type": "code",
   "execution_count": 4,
   "metadata": {
    "collapsed": false
   },
   "outputs": [],
   "source": [
    "from sklearn.model_selection import train_test_split\n",
    "\n",
    "# create train and test partitions.\n",
    "# train_test_split function returns 4 partitions:\n",
    "X_train, X_test, y_train, y_test= train_test_split(X, y, test_size= 0.4, random_state=42) # random_state:optional"
   ]
  },
  {
   "cell_type": "code",
   "execution_count": 5,
   "metadata": {
    "collapsed": false
   },
   "outputs": [
    {
     "data": {
      "text/plain": [
       "0.96666666666666667"
      ]
     },
     "execution_count": 5,
     "metadata": {},
     "output_type": "execute_result"
    }
   ],
   "source": [
    "# Apply CV, and see the averaged results:\n",
    "# create different models\n",
    "from sklearn.model_selection import cross_val_score\n",
    "\n",
    "clf = GaussianNB()\n",
    "\n",
    "# fit the classifier on the training features and labels\n",
    "clf.fit(X_train, y_train) \n",
    "\n",
    "# how well does the model work on the test set?\n",
    "clf.score(X_test,y_test) # for a classification model, default scoring metric is the \"accuracy\""
   ]
  },
  {
   "cell_type": "code",
   "execution_count": 6,
   "metadata": {
    "collapsed": false
   },
   "outputs": [
    {
     "name": "stdout",
     "output_type": "stream",
     "text": [
      "accuracy: 0.966666666667\n"
     ]
    }
   ],
   "source": [
    "# Alternatively, you can calculate and return the accuracy as:\n",
    "from sklearn.metrics import accuracy_score\n",
    "\n",
    "### use the trained classifier to predict labels for the test features\n",
    "pred = clf.predict(X_test)\n",
    "\n",
    "accuracy = accuracy_score(y_test, pred)\n",
    "print('accuracy: '+ str(accuracy))           "
   ]
  },
  {
   "cell_type": "code",
   "execution_count": 7,
   "metadata": {
    "collapsed": false
   },
   "outputs": [
    {
     "name": "stdout",
     "output_type": "stream",
     "text": [
      "Accuracy values: [0.93333333333333335, 0.96666666666666667, 0.93333333333333335, 0.93333333333333335, 1.0]\n",
      "Mean:0.95\n"
     ]
    }
   ],
   "source": [
    "# Computing cross-validated accuracy metric: (more robust than computing accuracy according to only one test set)\n",
    "from sklearn.model_selection import cross_val_score\n",
    "\n",
    "scoresAcc= cross_val_score(clf, X, y, cv=5, scoring='accuracy')\n",
    "print(\"Accuracy values: \"+ str(list(scoresAcc)))\n",
    "print('Mean:%.2f' %scoresAcc.mean())\n"
   ]
  },
  {
   "cell_type": "code",
   "execution_count": null,
   "metadata": {
    "collapsed": true
   },
   "outputs": [],
   "source": []
  }
 ],
 "metadata": {
  "kernelspec": {
   "display_name": "Python 3",
   "language": "python",
   "name": "python3"
  },
  "language_info": {
   "codemirror_mode": {
    "name": "ipython",
    "version": 3
   },
   "file_extension": ".py",
   "mimetype": "text/x-python",
   "name": "python",
   "nbconvert_exporter": "python",
   "pygments_lexer": "ipython3",
   "version": "3.6.0"
  }
 },
 "nbformat": 4,
 "nbformat_minor": 2
}
